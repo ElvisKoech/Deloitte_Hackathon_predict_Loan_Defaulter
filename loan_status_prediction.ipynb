{
 "cells": [
  {
   "cell_type": "markdown",
   "metadata": {},
   "source": [
    "# TASK 1: PROBLEM STATEMENT\n",
    "- Aim of the problem is to predict loan status based on certain features.\n",
    "\n",
    "- Dataset Description Train.csv - 67463 rows x 35 columns (Includes target column as Loan Status)\n",
    "- Attributes:\n",
    " 1. ID: unique ID of representative \n",
    " 2. Loan Amount: loan amount applied \n",
    " 3. Funded Amount:loan amount funded \n",
    " 4. Funded Amount Investor: loan amount approved by the investors \n",
    " 5. Term: term of loan (in months) \n",
    " 6. Batch Enrolled: batch numbers to representatives \n",
    " 7. Interest Rate: interest rate (%) on loan\n",
    " 8. Grade: grade by the bank \n",
    " 9. Sub Grade: sub-grade by the bank \n",
    " 10. Employment Duration: duration \n",
    " 11. Home Ownership: Owner ship of home \n",
    " 12. Verification Status: Income verification by the bank \n",
    " 13. Payment Plan: if any payment plan has started against loan \n",
    " 14. Loan Title: loan title provided \n",
    " 15. Debit to Income: ratio of representative's total monthly debt repayment divided by self reported monthly income excluding mortgage \n",
    " 16. Delinquency - two years: number of 30+ days delinquency in past 2 years  \n",
    " 17. Inquires - six months: total number of inquiries in last 6 months\n",
    " 18. Open Account: number of open credit line in representative's credit line  19. Public Record: number of derogatory public records \n",
    " 20. Revolving Balance: total credit revolving balance \n",
    " 21. Revolving Utilities: amount of credit a representative is using relative to revolving_balance \n",
    " 22. Total Accounts: total number of credit lines available in representatives credit line \n",
    " 23. Initial List Status: unique listing status of the loan - W(Waiting), F(Forwarded) \n",
    " 24. Total Received Interest: total interest received till date \n",
    " 25. Total Received Late Fee: total late fee received till date \n",
    " 26. Recoveries: post charge off gross recovery \n",
    " 27. Collection Recovery Fee: post charge off collection fee \n",
    " 28. Collection 12 months Medical: total collections in last 12 months excluding medical collections \n",
    " 29. Application Type: indicates when the representative is an individual or joint \n",
    " 30. Last week Pay: indicates how long (in weeks) a representative has paid EMI after batch enrolled\n",
    " 31.  Accounts Delinquent: number of accounts on which the representative is delinquent \n",
    " 32. Total Collection Amount: total collection amount ever owed \n",
    " 33. Total Current Balance: total current balance from all accounts \n",
    " 34. Total Revolving Credit Limit: total revolving credit limit \n",
    " 35. Loan Status: 1 = Defaulter, 0 = Non Defaulters\n",
    "\n",
    "- Test.csv - 28913 rows x 34 columns(Includes target column as Loan Status) Sample Submission.csv - Please check the Evaluation section for more details on how to generate a valid submission.\n",
    "\n",
    "- The challenge is to predict the Loan Status\n",
    "\n",
    "- Knowledge and Skills Big dataset, underfitting vs overfitting Optimising log_loss to generalise well on unseen data\n",
    "- Data source: https://www.kaggle.com/ankitkalauni/bank-loan-defaulter-prediction-hackathon"
   ]
  },
  {
   "cell_type": "markdown",
   "metadata": {},
   "source": [
    "TASK 2: IMPORT LIBRARIES AND DATASETS"
   ]
  },
  {
   "cell_type": "code",
   "execution_count": 145,
   "metadata": {},
   "outputs": [],
   "source": [
    "import pandas as pd\n",
    "import numpy as np\n",
    "import matplotlib.pyplot as plt\n",
    "import seaborn as sns\n",
    "import warnings\n",
    "warnings.filterwarnings('ignore')"
   ]
  },
  {
   "cell_type": "code",
   "execution_count": 3,
   "metadata": {},
   "outputs": [
    {
     "data": {
      "text/html": [
       "<div>\n",
       "<style scoped>\n",
       "    .dataframe tbody tr th:only-of-type {\n",
       "        vertical-align: middle;\n",
       "    }\n",
       "\n",
       "    .dataframe tbody tr th {\n",
       "        vertical-align: top;\n",
       "    }\n",
       "\n",
       "    .dataframe thead th {\n",
       "        text-align: right;\n",
       "    }\n",
       "</style>\n",
       "<table border=\"1\" class=\"dataframe\">\n",
       "  <thead>\n",
       "    <tr style=\"text-align: right;\">\n",
       "      <th></th>\n",
       "      <th>ID</th>\n",
       "      <th>Loan Amount</th>\n",
       "      <th>Funded Amount</th>\n",
       "      <th>Funded Amount Investor</th>\n",
       "      <th>Term</th>\n",
       "      <th>Batch Enrolled</th>\n",
       "      <th>Interest Rate</th>\n",
       "      <th>Grade</th>\n",
       "      <th>Sub Grade</th>\n",
       "      <th>Employment Duration</th>\n",
       "      <th>...</th>\n",
       "      <th>Recoveries</th>\n",
       "      <th>Collection Recovery Fee</th>\n",
       "      <th>Collection 12 months Medical</th>\n",
       "      <th>Application Type</th>\n",
       "      <th>Last week Pay</th>\n",
       "      <th>Accounts Delinquent</th>\n",
       "      <th>Total Collection Amount</th>\n",
       "      <th>Total Current Balance</th>\n",
       "      <th>Total Revolving Credit Limit</th>\n",
       "      <th>Loan Status</th>\n",
       "    </tr>\n",
       "  </thead>\n",
       "  <tbody>\n",
       "    <tr>\n",
       "      <th>0</th>\n",
       "      <td>65087372</td>\n",
       "      <td>10000</td>\n",
       "      <td>32236</td>\n",
       "      <td>12329.36286</td>\n",
       "      <td>59</td>\n",
       "      <td>BAT2522922</td>\n",
       "      <td>11.135007</td>\n",
       "      <td>B</td>\n",
       "      <td>C4</td>\n",
       "      <td>MORTGAGE</td>\n",
       "      <td>...</td>\n",
       "      <td>2.498291</td>\n",
       "      <td>0.793724</td>\n",
       "      <td>0</td>\n",
       "      <td>INDIVIDUAL</td>\n",
       "      <td>49</td>\n",
       "      <td>0</td>\n",
       "      <td>31</td>\n",
       "      <td>311301</td>\n",
       "      <td>6619</td>\n",
       "      <td>0</td>\n",
       "    </tr>\n",
       "    <tr>\n",
       "      <th>1</th>\n",
       "      <td>1450153</td>\n",
       "      <td>3609</td>\n",
       "      <td>11940</td>\n",
       "      <td>12191.99692</td>\n",
       "      <td>59</td>\n",
       "      <td>BAT1586599</td>\n",
       "      <td>12.237563</td>\n",
       "      <td>C</td>\n",
       "      <td>D3</td>\n",
       "      <td>RENT</td>\n",
       "      <td>...</td>\n",
       "      <td>2.377215</td>\n",
       "      <td>0.974821</td>\n",
       "      <td>0</td>\n",
       "      <td>INDIVIDUAL</td>\n",
       "      <td>109</td>\n",
       "      <td>0</td>\n",
       "      <td>53</td>\n",
       "      <td>182610</td>\n",
       "      <td>20885</td>\n",
       "      <td>0</td>\n",
       "    </tr>\n",
       "    <tr>\n",
       "      <th>2</th>\n",
       "      <td>1969101</td>\n",
       "      <td>28276</td>\n",
       "      <td>9311</td>\n",
       "      <td>21603.22455</td>\n",
       "      <td>59</td>\n",
       "      <td>BAT2136391</td>\n",
       "      <td>12.545884</td>\n",
       "      <td>F</td>\n",
       "      <td>D4</td>\n",
       "      <td>MORTGAGE</td>\n",
       "      <td>...</td>\n",
       "      <td>4.316277</td>\n",
       "      <td>1.020075</td>\n",
       "      <td>0</td>\n",
       "      <td>INDIVIDUAL</td>\n",
       "      <td>66</td>\n",
       "      <td>0</td>\n",
       "      <td>34</td>\n",
       "      <td>89801</td>\n",
       "      <td>26155</td>\n",
       "      <td>0</td>\n",
       "    </tr>\n",
       "    <tr>\n",
       "      <th>3</th>\n",
       "      <td>6651430</td>\n",
       "      <td>11170</td>\n",
       "      <td>6954</td>\n",
       "      <td>17877.15585</td>\n",
       "      <td>59</td>\n",
       "      <td>BAT2428731</td>\n",
       "      <td>16.731201</td>\n",
       "      <td>C</td>\n",
       "      <td>C3</td>\n",
       "      <td>MORTGAGE</td>\n",
       "      <td>...</td>\n",
       "      <td>0.107020</td>\n",
       "      <td>0.749971</td>\n",
       "      <td>0</td>\n",
       "      <td>INDIVIDUAL</td>\n",
       "      <td>39</td>\n",
       "      <td>0</td>\n",
       "      <td>40</td>\n",
       "      <td>9189</td>\n",
       "      <td>60214</td>\n",
       "      <td>0</td>\n",
       "    </tr>\n",
       "    <tr>\n",
       "      <th>4</th>\n",
       "      <td>14354669</td>\n",
       "      <td>16890</td>\n",
       "      <td>13226</td>\n",
       "      <td>13539.92667</td>\n",
       "      <td>59</td>\n",
       "      <td>BAT5341619</td>\n",
       "      <td>15.008300</td>\n",
       "      <td>C</td>\n",
       "      <td>D4</td>\n",
       "      <td>MORTGAGE</td>\n",
       "      <td>...</td>\n",
       "      <td>1294.818751</td>\n",
       "      <td>0.368953</td>\n",
       "      <td>0</td>\n",
       "      <td>INDIVIDUAL</td>\n",
       "      <td>18</td>\n",
       "      <td>0</td>\n",
       "      <td>430</td>\n",
       "      <td>126029</td>\n",
       "      <td>22579</td>\n",
       "      <td>0</td>\n",
       "    </tr>\n",
       "  </tbody>\n",
       "</table>\n",
       "<p>5 rows × 35 columns</p>\n",
       "</div>"
      ],
      "text/plain": [
       "         ID  Loan Amount  Funded Amount  Funded Amount Investor  Term  \\\n",
       "0  65087372        10000          32236             12329.36286    59   \n",
       "1   1450153         3609          11940             12191.99692    59   \n",
       "2   1969101        28276           9311             21603.22455    59   \n",
       "3   6651430        11170           6954             17877.15585    59   \n",
       "4  14354669        16890          13226             13539.92667    59   \n",
       "\n",
       "  Batch Enrolled  Interest Rate Grade Sub Grade Employment Duration  ...  \\\n",
       "0     BAT2522922      11.135007     B        C4            MORTGAGE  ...   \n",
       "1     BAT1586599      12.237563     C        D3                RENT  ...   \n",
       "2     BAT2136391      12.545884     F        D4            MORTGAGE  ...   \n",
       "3     BAT2428731      16.731201     C        C3            MORTGAGE  ...   \n",
       "4     BAT5341619      15.008300     C        D4            MORTGAGE  ...   \n",
       "\n",
       "    Recoveries Collection Recovery Fee Collection 12 months Medical  \\\n",
       "0     2.498291                0.793724                            0   \n",
       "1     2.377215                0.974821                            0   \n",
       "2     4.316277                1.020075                            0   \n",
       "3     0.107020                0.749971                            0   \n",
       "4  1294.818751                0.368953                            0   \n",
       "\n",
       "  Application Type  Last week Pay  Accounts Delinquent  \\\n",
       "0       INDIVIDUAL             49                    0   \n",
       "1       INDIVIDUAL            109                    0   \n",
       "2       INDIVIDUAL             66                    0   \n",
       "3       INDIVIDUAL             39                    0   \n",
       "4       INDIVIDUAL             18                    0   \n",
       "\n",
       "   Total Collection Amount  Total Current Balance  \\\n",
       "0                       31                 311301   \n",
       "1                       53                 182610   \n",
       "2                       34                  89801   \n",
       "3                       40                   9189   \n",
       "4                      430                 126029   \n",
       "\n",
       "   Total Revolving Credit Limit  Loan Status  \n",
       "0                          6619            0  \n",
       "1                         20885            0  \n",
       "2                         26155            0  \n",
       "3                         60214            0  \n",
       "4                         22579            0  \n",
       "\n",
       "[5 rows x 35 columns]"
      ]
     },
     "execution_count": 3,
     "metadata": {},
     "output_type": "execute_result"
    }
   ],
   "source": [
    "train=pd.read_csv('train.csv')\n",
    "train.head()"
   ]
  },
  {
   "cell_type": "code",
   "execution_count": 4,
   "metadata": {},
   "outputs": [
    {
     "data": {
      "text/html": [
       "<div>\n",
       "<style scoped>\n",
       "    .dataframe tbody tr th:only-of-type {\n",
       "        vertical-align: middle;\n",
       "    }\n",
       "\n",
       "    .dataframe tbody tr th {\n",
       "        vertical-align: top;\n",
       "    }\n",
       "\n",
       "    .dataframe thead th {\n",
       "        text-align: right;\n",
       "    }\n",
       "</style>\n",
       "<table border=\"1\" class=\"dataframe\">\n",
       "  <thead>\n",
       "    <tr style=\"text-align: right;\">\n",
       "      <th></th>\n",
       "      <th>ID</th>\n",
       "      <th>Loan Amount</th>\n",
       "      <th>Funded Amount</th>\n",
       "      <th>Funded Amount Investor</th>\n",
       "      <th>Term</th>\n",
       "      <th>Batch Enrolled</th>\n",
       "      <th>Interest Rate</th>\n",
       "      <th>Grade</th>\n",
       "      <th>Sub Grade</th>\n",
       "      <th>Employment Duration</th>\n",
       "      <th>...</th>\n",
       "      <th>Recoveries</th>\n",
       "      <th>Collection Recovery Fee</th>\n",
       "      <th>Collection 12 months Medical</th>\n",
       "      <th>Application Type</th>\n",
       "      <th>Last week Pay</th>\n",
       "      <th>Accounts Delinquent</th>\n",
       "      <th>Total Collection Amount</th>\n",
       "      <th>Total Current Balance</th>\n",
       "      <th>Total Revolving Credit Limit</th>\n",
       "      <th>Loan Status</th>\n",
       "    </tr>\n",
       "  </thead>\n",
       "  <tbody>\n",
       "    <tr>\n",
       "      <th>0</th>\n",
       "      <td>56492997</td>\n",
       "      <td>17120</td>\n",
       "      <td>10365</td>\n",
       "      <td>16025.08269</td>\n",
       "      <td>59</td>\n",
       "      <td>BAT2575549</td>\n",
       "      <td>12.163926</td>\n",
       "      <td>A</td>\n",
       "      <td>D1</td>\n",
       "      <td>RENT</td>\n",
       "      <td>...</td>\n",
       "      <td>8.425776</td>\n",
       "      <td>0.731797</td>\n",
       "      <td>0</td>\n",
       "      <td>INDIVIDUAL</td>\n",
       "      <td>135</td>\n",
       "      <td>0</td>\n",
       "      <td>24</td>\n",
       "      <td>475442</td>\n",
       "      <td>4364</td>\n",
       "      <td>NaN</td>\n",
       "    </tr>\n",
       "    <tr>\n",
       "      <th>1</th>\n",
       "      <td>22540813</td>\n",
       "      <td>7133</td>\n",
       "      <td>11650</td>\n",
       "      <td>12615.79560</td>\n",
       "      <td>59</td>\n",
       "      <td>BAT2833642</td>\n",
       "      <td>6.564296</td>\n",
       "      <td>B</td>\n",
       "      <td>E3</td>\n",
       "      <td>MORTGAGE</td>\n",
       "      <td>...</td>\n",
       "      <td>6.157008</td>\n",
       "      <td>0.992918</td>\n",
       "      <td>0</td>\n",
       "      <td>INDIVIDUAL</td>\n",
       "      <td>56</td>\n",
       "      <td>0</td>\n",
       "      <td>1</td>\n",
       "      <td>72412</td>\n",
       "      <td>2573</td>\n",
       "      <td>NaN</td>\n",
       "    </tr>\n",
       "    <tr>\n",
       "      <th>2</th>\n",
       "      <td>9862181</td>\n",
       "      <td>25291</td>\n",
       "      <td>25825</td>\n",
       "      <td>11621.28083</td>\n",
       "      <td>59</td>\n",
       "      <td>BAT1761981</td>\n",
       "      <td>14.729900</td>\n",
       "      <td>A</td>\n",
       "      <td>C3</td>\n",
       "      <td>MORTGAGE</td>\n",
       "      <td>...</td>\n",
       "      <td>5.705077</td>\n",
       "      <td>0.281580</td>\n",
       "      <td>0</td>\n",
       "      <td>INDIVIDUAL</td>\n",
       "      <td>3</td>\n",
       "      <td>0</td>\n",
       "      <td>26</td>\n",
       "      <td>284825</td>\n",
       "      <td>19676</td>\n",
       "      <td>NaN</td>\n",
       "    </tr>\n",
       "    <tr>\n",
       "      <th>3</th>\n",
       "      <td>10097822</td>\n",
       "      <td>30781</td>\n",
       "      <td>9664</td>\n",
       "      <td>15375.82351</td>\n",
       "      <td>59</td>\n",
       "      <td>BAT5341619</td>\n",
       "      <td>10.523767</td>\n",
       "      <td>A</td>\n",
       "      <td>A2</td>\n",
       "      <td>RENT</td>\n",
       "      <td>...</td>\n",
       "      <td>2.469688</td>\n",
       "      <td>0.959162</td>\n",
       "      <td>0</td>\n",
       "      <td>INDIVIDUAL</td>\n",
       "      <td>21</td>\n",
       "      <td>0</td>\n",
       "      <td>32</td>\n",
       "      <td>40842</td>\n",
       "      <td>7226</td>\n",
       "      <td>NaN</td>\n",
       "    </tr>\n",
       "  </tbody>\n",
       "</table>\n",
       "<p>4 rows × 35 columns</p>\n",
       "</div>"
      ],
      "text/plain": [
       "         ID  Loan Amount  Funded Amount  Funded Amount Investor  Term  \\\n",
       "0  56492997        17120          10365             16025.08269    59   \n",
       "1  22540813         7133          11650             12615.79560    59   \n",
       "2   9862181        25291          25825             11621.28083    59   \n",
       "3  10097822        30781           9664             15375.82351    59   \n",
       "\n",
       "  Batch Enrolled  Interest Rate Grade Sub Grade Employment Duration  ...  \\\n",
       "0     BAT2575549      12.163926     A        D1                RENT  ...   \n",
       "1     BAT2833642       6.564296     B        E3            MORTGAGE  ...   \n",
       "2     BAT1761981      14.729900     A        C3            MORTGAGE  ...   \n",
       "3     BAT5341619      10.523767     A        A2                RENT  ...   \n",
       "\n",
       "   Recoveries Collection Recovery Fee Collection 12 months Medical  \\\n",
       "0    8.425776                0.731797                            0   \n",
       "1    6.157008                0.992918                            0   \n",
       "2    5.705077                0.281580                            0   \n",
       "3    2.469688                0.959162                            0   \n",
       "\n",
       "  Application Type  Last week Pay  Accounts Delinquent  \\\n",
       "0       INDIVIDUAL            135                    0   \n",
       "1       INDIVIDUAL             56                    0   \n",
       "2       INDIVIDUAL              3                    0   \n",
       "3       INDIVIDUAL             21                    0   \n",
       "\n",
       "   Total Collection Amount  Total Current Balance  \\\n",
       "0                       24                 475442   \n",
       "1                        1                  72412   \n",
       "2                       26                 284825   \n",
       "3                       32                  40842   \n",
       "\n",
       "   Total Revolving Credit Limit  Loan Status  \n",
       "0                          4364          NaN  \n",
       "1                          2573          NaN  \n",
       "2                         19676          NaN  \n",
       "3                          7226          NaN  \n",
       "\n",
       "[4 rows x 35 columns]"
      ]
     },
     "execution_count": 4,
     "metadata": {},
     "output_type": "execute_result"
    }
   ],
   "source": [
    "test_df= pd.read_csv('test.csv')\n",
    "test_df.head(4)"
   ]
  },
  {
   "cell_type": "code",
   "execution_count": 5,
   "metadata": {},
   "outputs": [
    {
     "name": "stdout",
     "output_type": "stream",
     "text": [
      "<class 'pandas.core.frame.DataFrame'>\n",
      "RangeIndex: 67463 entries, 0 to 67462\n",
      "Data columns (total 35 columns):\n",
      " #   Column                        Non-Null Count  Dtype  \n",
      "---  ------                        --------------  -----  \n",
      " 0   ID                            67463 non-null  int64  \n",
      " 1   Loan Amount                   67463 non-null  int64  \n",
      " 2   Funded Amount                 67463 non-null  int64  \n",
      " 3   Funded Amount Investor        67463 non-null  float64\n",
      " 4   Term                          67463 non-null  int64  \n",
      " 5   Batch Enrolled                67463 non-null  object \n",
      " 6   Interest Rate                 67463 non-null  float64\n",
      " 7   Grade                         67463 non-null  object \n",
      " 8   Sub Grade                     67463 non-null  object \n",
      " 9   Employment Duration           67463 non-null  object \n",
      " 10  Home Ownership                67463 non-null  float64\n",
      " 11  Verification Status           67463 non-null  object \n",
      " 12  Payment Plan                  67463 non-null  object \n",
      " 13  Loan Title                    67463 non-null  object \n",
      " 14  Debit to Income               67463 non-null  float64\n",
      " 15  Delinquency - two years       67463 non-null  int64  \n",
      " 16  Inquires - six months         67463 non-null  int64  \n",
      " 17  Open Account                  67463 non-null  int64  \n",
      " 18  Public Record                 67463 non-null  int64  \n",
      " 19  Revolving Balance             67463 non-null  int64  \n",
      " 20  Revolving Utilities           67463 non-null  float64\n",
      " 21  Total Accounts                67463 non-null  int64  \n",
      " 22  Initial List Status           67463 non-null  object \n",
      " 23  Total Received Interest       67463 non-null  float64\n",
      " 24  Total Received Late Fee       67463 non-null  float64\n",
      " 25  Recoveries                    67463 non-null  float64\n",
      " 26  Collection Recovery Fee       67463 non-null  float64\n",
      " 27  Collection 12 months Medical  67463 non-null  int64  \n",
      " 28  Application Type              67463 non-null  object \n",
      " 29  Last week Pay                 67463 non-null  int64  \n",
      " 30  Accounts Delinquent           67463 non-null  int64  \n",
      " 31  Total Collection Amount       67463 non-null  int64  \n",
      " 32  Total Current Balance         67463 non-null  int64  \n",
      " 33  Total Revolving Credit Limit  67463 non-null  int64  \n",
      " 34  Loan Status                   67463 non-null  int64  \n",
      "dtypes: float64(9), int64(17), object(9)\n",
      "memory usage: 18.0+ MB\n"
     ]
    }
   ],
   "source": [
    "train.info()"
   ]
  },
  {
   "cell_type": "code",
   "execution_count": 6,
   "metadata": {},
   "outputs": [
    {
     "name": "stdout",
     "output_type": "stream",
     "text": [
      "<class 'pandas.core.frame.DataFrame'>\n",
      "RangeIndex: 28913 entries, 0 to 28912\n",
      "Data columns (total 35 columns):\n",
      " #   Column                        Non-Null Count  Dtype  \n",
      "---  ------                        --------------  -----  \n",
      " 0   ID                            28913 non-null  int64  \n",
      " 1   Loan Amount                   28913 non-null  int64  \n",
      " 2   Funded Amount                 28913 non-null  int64  \n",
      " 3   Funded Amount Investor        28913 non-null  float64\n",
      " 4   Term                          28913 non-null  int64  \n",
      " 5   Batch Enrolled                28913 non-null  object \n",
      " 6   Interest Rate                 28913 non-null  float64\n",
      " 7   Grade                         28913 non-null  object \n",
      " 8   Sub Grade                     28913 non-null  object \n",
      " 9   Employment Duration           28913 non-null  object \n",
      " 10  Home Ownership                28913 non-null  float64\n",
      " 11  Verification Status           28913 non-null  object \n",
      " 12  Payment Plan                  28913 non-null  object \n",
      " 13  Loan Title                    28913 non-null  object \n",
      " 14  Debit to Income               28913 non-null  float64\n",
      " 15  Delinquency - two years       28913 non-null  int64  \n",
      " 16  Inquires - six months         28913 non-null  int64  \n",
      " 17  Open Account                  28913 non-null  int64  \n",
      " 18  Public Record                 28913 non-null  int64  \n",
      " 19  Revolving Balance             28913 non-null  int64  \n",
      " 20  Revolving Utilities           28913 non-null  float64\n",
      " 21  Total Accounts                28913 non-null  int64  \n",
      " 22  Initial List Status           28913 non-null  object \n",
      " 23  Total Received Interest       28913 non-null  float64\n",
      " 24  Total Received Late Fee       28913 non-null  float64\n",
      " 25  Recoveries                    28913 non-null  float64\n",
      " 26  Collection Recovery Fee       28913 non-null  float64\n",
      " 27  Collection 12 months Medical  28913 non-null  int64  \n",
      " 28  Application Type              28913 non-null  object \n",
      " 29  Last week Pay                 28913 non-null  int64  \n",
      " 30  Accounts Delinquent           28913 non-null  int64  \n",
      " 31  Total Collection Amount       28913 non-null  int64  \n",
      " 32  Total Current Balance         28913 non-null  int64  \n",
      " 33  Total Revolving Credit Limit  28913 non-null  int64  \n",
      " 34  Loan Status                   0 non-null      float64\n",
      "dtypes: float64(10), int64(16), object(9)\n",
      "memory usage: 7.7+ MB\n"
     ]
    }
   ],
   "source": [
    "test_df.info()"
   ]
  },
  {
   "cell_type": "code",
   "execution_count": 7,
   "metadata": {},
   "outputs": [],
   "source": [
    "train = train.drop(columns = ['ID'])"
   ]
  },
  {
   "cell_type": "code",
   "execution_count": 8,
   "metadata": {},
   "outputs": [
    {
     "data": {
      "text/html": [
       "<div>\n",
       "<style scoped>\n",
       "    .dataframe tbody tr th:only-of-type {\n",
       "        vertical-align: middle;\n",
       "    }\n",
       "\n",
       "    .dataframe tbody tr th {\n",
       "        vertical-align: top;\n",
       "    }\n",
       "\n",
       "    .dataframe thead th {\n",
       "        text-align: right;\n",
       "    }\n",
       "</style>\n",
       "<table border=\"1\" class=\"dataframe\">\n",
       "  <thead>\n",
       "    <tr style=\"text-align: right;\">\n",
       "      <th></th>\n",
       "      <th>Loan Amount</th>\n",
       "      <th>Funded Amount</th>\n",
       "      <th>Funded Amount Investor</th>\n",
       "      <th>Term</th>\n",
       "      <th>Batch Enrolled</th>\n",
       "      <th>Interest Rate</th>\n",
       "      <th>Grade</th>\n",
       "      <th>Sub Grade</th>\n",
       "      <th>Employment Duration</th>\n",
       "      <th>Home Ownership</th>\n",
       "      <th>...</th>\n",
       "      <th>Recoveries</th>\n",
       "      <th>Collection Recovery Fee</th>\n",
       "      <th>Collection 12 months Medical</th>\n",
       "      <th>Application Type</th>\n",
       "      <th>Last week Pay</th>\n",
       "      <th>Accounts Delinquent</th>\n",
       "      <th>Total Collection Amount</th>\n",
       "      <th>Total Current Balance</th>\n",
       "      <th>Total Revolving Credit Limit</th>\n",
       "      <th>Loan Status</th>\n",
       "    </tr>\n",
       "  </thead>\n",
       "  <tbody>\n",
       "    <tr>\n",
       "      <th>0</th>\n",
       "      <td>10000</td>\n",
       "      <td>32236</td>\n",
       "      <td>12329.36286</td>\n",
       "      <td>59</td>\n",
       "      <td>BAT2522922</td>\n",
       "      <td>11.135007</td>\n",
       "      <td>B</td>\n",
       "      <td>C4</td>\n",
       "      <td>MORTGAGE</td>\n",
       "      <td>176346.62670</td>\n",
       "      <td>...</td>\n",
       "      <td>2.498291</td>\n",
       "      <td>0.793724</td>\n",
       "      <td>0</td>\n",
       "      <td>INDIVIDUAL</td>\n",
       "      <td>49</td>\n",
       "      <td>0</td>\n",
       "      <td>31</td>\n",
       "      <td>311301</td>\n",
       "      <td>6619</td>\n",
       "      <td>0</td>\n",
       "    </tr>\n",
       "    <tr>\n",
       "      <th>1</th>\n",
       "      <td>3609</td>\n",
       "      <td>11940</td>\n",
       "      <td>12191.99692</td>\n",
       "      <td>59</td>\n",
       "      <td>BAT1586599</td>\n",
       "      <td>12.237563</td>\n",
       "      <td>C</td>\n",
       "      <td>D3</td>\n",
       "      <td>RENT</td>\n",
       "      <td>39833.92100</td>\n",
       "      <td>...</td>\n",
       "      <td>2.377215</td>\n",
       "      <td>0.974821</td>\n",
       "      <td>0</td>\n",
       "      <td>INDIVIDUAL</td>\n",
       "      <td>109</td>\n",
       "      <td>0</td>\n",
       "      <td>53</td>\n",
       "      <td>182610</td>\n",
       "      <td>20885</td>\n",
       "      <td>0</td>\n",
       "    </tr>\n",
       "    <tr>\n",
       "      <th>2</th>\n",
       "      <td>28276</td>\n",
       "      <td>9311</td>\n",
       "      <td>21603.22455</td>\n",
       "      <td>59</td>\n",
       "      <td>BAT2136391</td>\n",
       "      <td>12.545884</td>\n",
       "      <td>F</td>\n",
       "      <td>D4</td>\n",
       "      <td>MORTGAGE</td>\n",
       "      <td>91506.69105</td>\n",
       "      <td>...</td>\n",
       "      <td>4.316277</td>\n",
       "      <td>1.020075</td>\n",
       "      <td>0</td>\n",
       "      <td>INDIVIDUAL</td>\n",
       "      <td>66</td>\n",
       "      <td>0</td>\n",
       "      <td>34</td>\n",
       "      <td>89801</td>\n",
       "      <td>26155</td>\n",
       "      <td>0</td>\n",
       "    </tr>\n",
       "    <tr>\n",
       "      <th>3</th>\n",
       "      <td>11170</td>\n",
       "      <td>6954</td>\n",
       "      <td>17877.15585</td>\n",
       "      <td>59</td>\n",
       "      <td>BAT2428731</td>\n",
       "      <td>16.731201</td>\n",
       "      <td>C</td>\n",
       "      <td>C3</td>\n",
       "      <td>MORTGAGE</td>\n",
       "      <td>108286.57590</td>\n",
       "      <td>...</td>\n",
       "      <td>0.107020</td>\n",
       "      <td>0.749971</td>\n",
       "      <td>0</td>\n",
       "      <td>INDIVIDUAL</td>\n",
       "      <td>39</td>\n",
       "      <td>0</td>\n",
       "      <td>40</td>\n",
       "      <td>9189</td>\n",
       "      <td>60214</td>\n",
       "      <td>0</td>\n",
       "    </tr>\n",
       "    <tr>\n",
       "      <th>4</th>\n",
       "      <td>16890</td>\n",
       "      <td>13226</td>\n",
       "      <td>13539.92667</td>\n",
       "      <td>59</td>\n",
       "      <td>BAT5341619</td>\n",
       "      <td>15.008300</td>\n",
       "      <td>C</td>\n",
       "      <td>D4</td>\n",
       "      <td>MORTGAGE</td>\n",
       "      <td>44234.82545</td>\n",
       "      <td>...</td>\n",
       "      <td>1294.818751</td>\n",
       "      <td>0.368953</td>\n",
       "      <td>0</td>\n",
       "      <td>INDIVIDUAL</td>\n",
       "      <td>18</td>\n",
       "      <td>0</td>\n",
       "      <td>430</td>\n",
       "      <td>126029</td>\n",
       "      <td>22579</td>\n",
       "      <td>0</td>\n",
       "    </tr>\n",
       "  </tbody>\n",
       "</table>\n",
       "<p>5 rows × 34 columns</p>\n",
       "</div>"
      ],
      "text/plain": [
       "   Loan Amount  Funded Amount  Funded Amount Investor  Term Batch Enrolled  \\\n",
       "0        10000          32236             12329.36286    59     BAT2522922   \n",
       "1         3609          11940             12191.99692    59     BAT1586599   \n",
       "2        28276           9311             21603.22455    59     BAT2136391   \n",
       "3        11170           6954             17877.15585    59     BAT2428731   \n",
       "4        16890          13226             13539.92667    59     BAT5341619   \n",
       "\n",
       "   Interest Rate Grade Sub Grade Employment Duration  Home Ownership  ...  \\\n",
       "0      11.135007     B        C4            MORTGAGE    176346.62670  ...   \n",
       "1      12.237563     C        D3                RENT     39833.92100  ...   \n",
       "2      12.545884     F        D4            MORTGAGE     91506.69105  ...   \n",
       "3      16.731201     C        C3            MORTGAGE    108286.57590  ...   \n",
       "4      15.008300     C        D4            MORTGAGE     44234.82545  ...   \n",
       "\n",
       "    Recoveries Collection Recovery Fee Collection 12 months Medical  \\\n",
       "0     2.498291                0.793724                            0   \n",
       "1     2.377215                0.974821                            0   \n",
       "2     4.316277                1.020075                            0   \n",
       "3     0.107020                0.749971                            0   \n",
       "4  1294.818751                0.368953                            0   \n",
       "\n",
       "   Application Type  Last week Pay  Accounts Delinquent  \\\n",
       "0        INDIVIDUAL             49                    0   \n",
       "1        INDIVIDUAL            109                    0   \n",
       "2        INDIVIDUAL             66                    0   \n",
       "3        INDIVIDUAL             39                    0   \n",
       "4        INDIVIDUAL             18                    0   \n",
       "\n",
       "   Total Collection Amount  Total Current Balance  \\\n",
       "0                       31                 311301   \n",
       "1                       53                 182610   \n",
       "2                       34                  89801   \n",
       "3                       40                   9189   \n",
       "4                      430                 126029   \n",
       "\n",
       "   Total Revolving Credit Limit  Loan Status  \n",
       "0                          6619            0  \n",
       "1                         20885            0  \n",
       "2                         26155            0  \n",
       "3                         60214            0  \n",
       "4                         22579            0  \n",
       "\n",
       "[5 rows x 34 columns]"
      ]
     },
     "execution_count": 8,
     "metadata": {},
     "output_type": "execute_result"
    }
   ],
   "source": [
    "train.head()"
   ]
  },
  {
   "cell_type": "code",
   "execution_count": 9,
   "metadata": {},
   "outputs": [],
   "source": [
    "test_df = test_df.drop(columns = ['ID'])"
   ]
  },
  {
   "cell_type": "code",
   "execution_count": 10,
   "metadata": {},
   "outputs": [
    {
     "data": {
      "text/html": [
       "<div>\n",
       "<style scoped>\n",
       "    .dataframe tbody tr th:only-of-type {\n",
       "        vertical-align: middle;\n",
       "    }\n",
       "\n",
       "    .dataframe tbody tr th {\n",
       "        vertical-align: top;\n",
       "    }\n",
       "\n",
       "    .dataframe thead th {\n",
       "        text-align: right;\n",
       "    }\n",
       "</style>\n",
       "<table border=\"1\" class=\"dataframe\">\n",
       "  <thead>\n",
       "    <tr style=\"text-align: right;\">\n",
       "      <th></th>\n",
       "      <th>Loan Amount</th>\n",
       "      <th>Funded Amount</th>\n",
       "      <th>Funded Amount Investor</th>\n",
       "      <th>Term</th>\n",
       "      <th>Batch Enrolled</th>\n",
       "      <th>Interest Rate</th>\n",
       "      <th>Grade</th>\n",
       "      <th>Sub Grade</th>\n",
       "      <th>Employment Duration</th>\n",
       "      <th>Home Ownership</th>\n",
       "      <th>...</th>\n",
       "      <th>Recoveries</th>\n",
       "      <th>Collection Recovery Fee</th>\n",
       "      <th>Collection 12 months Medical</th>\n",
       "      <th>Application Type</th>\n",
       "      <th>Last week Pay</th>\n",
       "      <th>Accounts Delinquent</th>\n",
       "      <th>Total Collection Amount</th>\n",
       "      <th>Total Current Balance</th>\n",
       "      <th>Total Revolving Credit Limit</th>\n",
       "      <th>Loan Status</th>\n",
       "    </tr>\n",
       "  </thead>\n",
       "  <tbody>\n",
       "    <tr>\n",
       "      <th>0</th>\n",
       "      <td>17120</td>\n",
       "      <td>10365</td>\n",
       "      <td>16025.082690</td>\n",
       "      <td>59</td>\n",
       "      <td>BAT2575549</td>\n",
       "      <td>12.163926</td>\n",
       "      <td>A</td>\n",
       "      <td>D1</td>\n",
       "      <td>RENT</td>\n",
       "      <td>76468.82190</td>\n",
       "      <td>...</td>\n",
       "      <td>8.425776</td>\n",
       "      <td>0.731797</td>\n",
       "      <td>0</td>\n",
       "      <td>INDIVIDUAL</td>\n",
       "      <td>135</td>\n",
       "      <td>0</td>\n",
       "      <td>24</td>\n",
       "      <td>475442</td>\n",
       "      <td>4364</td>\n",
       "      <td>NaN</td>\n",
       "    </tr>\n",
       "    <tr>\n",
       "      <th>1</th>\n",
       "      <td>7133</td>\n",
       "      <td>11650</td>\n",
       "      <td>12615.795600</td>\n",
       "      <td>59</td>\n",
       "      <td>BAT2833642</td>\n",
       "      <td>6.564296</td>\n",
       "      <td>B</td>\n",
       "      <td>E3</td>\n",
       "      <td>MORTGAGE</td>\n",
       "      <td>38079.01344</td>\n",
       "      <td>...</td>\n",
       "      <td>6.157008</td>\n",
       "      <td>0.992918</td>\n",
       "      <td>0</td>\n",
       "      <td>INDIVIDUAL</td>\n",
       "      <td>56</td>\n",
       "      <td>0</td>\n",
       "      <td>1</td>\n",
       "      <td>72412</td>\n",
       "      <td>2573</td>\n",
       "      <td>NaN</td>\n",
       "    </tr>\n",
       "    <tr>\n",
       "      <th>2</th>\n",
       "      <td>25291</td>\n",
       "      <td>25825</td>\n",
       "      <td>11621.280830</td>\n",
       "      <td>59</td>\n",
       "      <td>BAT1761981</td>\n",
       "      <td>14.729900</td>\n",
       "      <td>A</td>\n",
       "      <td>C3</td>\n",
       "      <td>MORTGAGE</td>\n",
       "      <td>51275.93268</td>\n",
       "      <td>...</td>\n",
       "      <td>5.705077</td>\n",
       "      <td>0.281580</td>\n",
       "      <td>0</td>\n",
       "      <td>INDIVIDUAL</td>\n",
       "      <td>3</td>\n",
       "      <td>0</td>\n",
       "      <td>26</td>\n",
       "      <td>284825</td>\n",
       "      <td>19676</td>\n",
       "      <td>NaN</td>\n",
       "    </tr>\n",
       "    <tr>\n",
       "      <th>3</th>\n",
       "      <td>30781</td>\n",
       "      <td>9664</td>\n",
       "      <td>15375.823510</td>\n",
       "      <td>59</td>\n",
       "      <td>BAT5341619</td>\n",
       "      <td>10.523767</td>\n",
       "      <td>A</td>\n",
       "      <td>A2</td>\n",
       "      <td>RENT</td>\n",
       "      <td>68867.98965</td>\n",
       "      <td>...</td>\n",
       "      <td>2.469688</td>\n",
       "      <td>0.959162</td>\n",
       "      <td>0</td>\n",
       "      <td>INDIVIDUAL</td>\n",
       "      <td>21</td>\n",
       "      <td>0</td>\n",
       "      <td>32</td>\n",
       "      <td>40842</td>\n",
       "      <td>7226</td>\n",
       "      <td>NaN</td>\n",
       "    </tr>\n",
       "    <tr>\n",
       "      <th>4</th>\n",
       "      <td>8878</td>\n",
       "      <td>9419</td>\n",
       "      <td>7176.647582</td>\n",
       "      <td>58</td>\n",
       "      <td>BAT4694572</td>\n",
       "      <td>9.997013</td>\n",
       "      <td>C</td>\n",
       "      <td>B3</td>\n",
       "      <td>OWN</td>\n",
       "      <td>91556.85423</td>\n",
       "      <td>...</td>\n",
       "      <td>2.127835</td>\n",
       "      <td>0.402315</td>\n",
       "      <td>0</td>\n",
       "      <td>INDIVIDUAL</td>\n",
       "      <td>104</td>\n",
       "      <td>0</td>\n",
       "      <td>33</td>\n",
       "      <td>90825</td>\n",
       "      <td>26145</td>\n",
       "      <td>NaN</td>\n",
       "    </tr>\n",
       "  </tbody>\n",
       "</table>\n",
       "<p>5 rows × 34 columns</p>\n",
       "</div>"
      ],
      "text/plain": [
       "   Loan Amount  Funded Amount  Funded Amount Investor  Term Batch Enrolled  \\\n",
       "0        17120          10365            16025.082690    59     BAT2575549   \n",
       "1         7133          11650            12615.795600    59     BAT2833642   \n",
       "2        25291          25825            11621.280830    59     BAT1761981   \n",
       "3        30781           9664            15375.823510    59     BAT5341619   \n",
       "4         8878           9419             7176.647582    58     BAT4694572   \n",
       "\n",
       "   Interest Rate Grade Sub Grade Employment Duration  Home Ownership  ...  \\\n",
       "0      12.163926     A        D1                RENT     76468.82190  ...   \n",
       "1       6.564296     B        E3            MORTGAGE     38079.01344  ...   \n",
       "2      14.729900     A        C3            MORTGAGE     51275.93268  ...   \n",
       "3      10.523767     A        A2                RENT     68867.98965  ...   \n",
       "4       9.997013     C        B3                 OWN     91556.85423  ...   \n",
       "\n",
       "  Recoveries Collection Recovery Fee Collection 12 months Medical  \\\n",
       "0   8.425776                0.731797                            0   \n",
       "1   6.157008                0.992918                            0   \n",
       "2   5.705077                0.281580                            0   \n",
       "3   2.469688                0.959162                            0   \n",
       "4   2.127835                0.402315                            0   \n",
       "\n",
       "   Application Type  Last week Pay  Accounts Delinquent  \\\n",
       "0        INDIVIDUAL            135                    0   \n",
       "1        INDIVIDUAL             56                    0   \n",
       "2        INDIVIDUAL              3                    0   \n",
       "3        INDIVIDUAL             21                    0   \n",
       "4        INDIVIDUAL            104                    0   \n",
       "\n",
       "   Total Collection Amount  Total Current Balance  \\\n",
       "0                       24                 475442   \n",
       "1                        1                  72412   \n",
       "2                       26                 284825   \n",
       "3                       32                  40842   \n",
       "4                       33                  90825   \n",
       "\n",
       "   Total Revolving Credit Limit  Loan Status  \n",
       "0                          4364          NaN  \n",
       "1                          2573          NaN  \n",
       "2                         19676          NaN  \n",
       "3                          7226          NaN  \n",
       "4                         26145          NaN  \n",
       "\n",
       "[5 rows x 34 columns]"
      ]
     },
     "execution_count": 10,
     "metadata": {},
     "output_type": "execute_result"
    }
   ],
   "source": [
    "test_df.head()"
   ]
  },
  {
   "cell_type": "code",
   "execution_count": 11,
   "metadata": {},
   "outputs": [],
   "source": [
    "# Renaming Home ownership and employment duration columns as the column names seem to have been swapped\n",
    "train.rename(columns={'Home Ownership': 'Employment Duration', \"Employment Duration\":\"Home Ownership\"}, inplace=True)\n",
    "test_df.rename(columns={'Home Ownership': 'Employment Duration', \"Employment Duration\":\"Home Ownership\"}, inplace=True)"
   ]
  },
  {
   "cell_type": "code",
   "execution_count": 12,
   "metadata": {},
   "outputs": [
    {
     "data": {
      "text/html": [
       "<div>\n",
       "<style scoped>\n",
       "    .dataframe tbody tr th:only-of-type {\n",
       "        vertical-align: middle;\n",
       "    }\n",
       "\n",
       "    .dataframe tbody tr th {\n",
       "        vertical-align: top;\n",
       "    }\n",
       "\n",
       "    .dataframe thead th {\n",
       "        text-align: right;\n",
       "    }\n",
       "</style>\n",
       "<table border=\"1\" class=\"dataframe\">\n",
       "  <thead>\n",
       "    <tr style=\"text-align: right;\">\n",
       "      <th></th>\n",
       "      <th>Loan Amount</th>\n",
       "      <th>Funded Amount</th>\n",
       "      <th>Funded Amount Investor</th>\n",
       "      <th>Term</th>\n",
       "      <th>Batch Enrolled</th>\n",
       "      <th>Interest Rate</th>\n",
       "      <th>Grade</th>\n",
       "      <th>Sub Grade</th>\n",
       "      <th>Home Ownership</th>\n",
       "      <th>Employment Duration</th>\n",
       "      <th>...</th>\n",
       "      <th>Recoveries</th>\n",
       "      <th>Collection Recovery Fee</th>\n",
       "      <th>Collection 12 months Medical</th>\n",
       "      <th>Application Type</th>\n",
       "      <th>Last week Pay</th>\n",
       "      <th>Accounts Delinquent</th>\n",
       "      <th>Total Collection Amount</th>\n",
       "      <th>Total Current Balance</th>\n",
       "      <th>Total Revolving Credit Limit</th>\n",
       "      <th>Loan Status</th>\n",
       "    </tr>\n",
       "  </thead>\n",
       "  <tbody>\n",
       "    <tr>\n",
       "      <th>0</th>\n",
       "      <td>10000</td>\n",
       "      <td>32236</td>\n",
       "      <td>12329.36286</td>\n",
       "      <td>59</td>\n",
       "      <td>BAT2522922</td>\n",
       "      <td>11.135007</td>\n",
       "      <td>B</td>\n",
       "      <td>C4</td>\n",
       "      <td>MORTGAGE</td>\n",
       "      <td>176346.62670</td>\n",
       "      <td>...</td>\n",
       "      <td>2.498291</td>\n",
       "      <td>0.793724</td>\n",
       "      <td>0</td>\n",
       "      <td>INDIVIDUAL</td>\n",
       "      <td>49</td>\n",
       "      <td>0</td>\n",
       "      <td>31</td>\n",
       "      <td>311301</td>\n",
       "      <td>6619</td>\n",
       "      <td>0</td>\n",
       "    </tr>\n",
       "    <tr>\n",
       "      <th>1</th>\n",
       "      <td>3609</td>\n",
       "      <td>11940</td>\n",
       "      <td>12191.99692</td>\n",
       "      <td>59</td>\n",
       "      <td>BAT1586599</td>\n",
       "      <td>12.237563</td>\n",
       "      <td>C</td>\n",
       "      <td>D3</td>\n",
       "      <td>RENT</td>\n",
       "      <td>39833.92100</td>\n",
       "      <td>...</td>\n",
       "      <td>2.377215</td>\n",
       "      <td>0.974821</td>\n",
       "      <td>0</td>\n",
       "      <td>INDIVIDUAL</td>\n",
       "      <td>109</td>\n",
       "      <td>0</td>\n",
       "      <td>53</td>\n",
       "      <td>182610</td>\n",
       "      <td>20885</td>\n",
       "      <td>0</td>\n",
       "    </tr>\n",
       "    <tr>\n",
       "      <th>2</th>\n",
       "      <td>28276</td>\n",
       "      <td>9311</td>\n",
       "      <td>21603.22455</td>\n",
       "      <td>59</td>\n",
       "      <td>BAT2136391</td>\n",
       "      <td>12.545884</td>\n",
       "      <td>F</td>\n",
       "      <td>D4</td>\n",
       "      <td>MORTGAGE</td>\n",
       "      <td>91506.69105</td>\n",
       "      <td>...</td>\n",
       "      <td>4.316277</td>\n",
       "      <td>1.020075</td>\n",
       "      <td>0</td>\n",
       "      <td>INDIVIDUAL</td>\n",
       "      <td>66</td>\n",
       "      <td>0</td>\n",
       "      <td>34</td>\n",
       "      <td>89801</td>\n",
       "      <td>26155</td>\n",
       "      <td>0</td>\n",
       "    </tr>\n",
       "    <tr>\n",
       "      <th>3</th>\n",
       "      <td>11170</td>\n",
       "      <td>6954</td>\n",
       "      <td>17877.15585</td>\n",
       "      <td>59</td>\n",
       "      <td>BAT2428731</td>\n",
       "      <td>16.731201</td>\n",
       "      <td>C</td>\n",
       "      <td>C3</td>\n",
       "      <td>MORTGAGE</td>\n",
       "      <td>108286.57590</td>\n",
       "      <td>...</td>\n",
       "      <td>0.107020</td>\n",
       "      <td>0.749971</td>\n",
       "      <td>0</td>\n",
       "      <td>INDIVIDUAL</td>\n",
       "      <td>39</td>\n",
       "      <td>0</td>\n",
       "      <td>40</td>\n",
       "      <td>9189</td>\n",
       "      <td>60214</td>\n",
       "      <td>0</td>\n",
       "    </tr>\n",
       "    <tr>\n",
       "      <th>4</th>\n",
       "      <td>16890</td>\n",
       "      <td>13226</td>\n",
       "      <td>13539.92667</td>\n",
       "      <td>59</td>\n",
       "      <td>BAT5341619</td>\n",
       "      <td>15.008300</td>\n",
       "      <td>C</td>\n",
       "      <td>D4</td>\n",
       "      <td>MORTGAGE</td>\n",
       "      <td>44234.82545</td>\n",
       "      <td>...</td>\n",
       "      <td>1294.818751</td>\n",
       "      <td>0.368953</td>\n",
       "      <td>0</td>\n",
       "      <td>INDIVIDUAL</td>\n",
       "      <td>18</td>\n",
       "      <td>0</td>\n",
       "      <td>430</td>\n",
       "      <td>126029</td>\n",
       "      <td>22579</td>\n",
       "      <td>0</td>\n",
       "    </tr>\n",
       "  </tbody>\n",
       "</table>\n",
       "<p>5 rows × 34 columns</p>\n",
       "</div>"
      ],
      "text/plain": [
       "   Loan Amount  Funded Amount  Funded Amount Investor  Term Batch Enrolled  \\\n",
       "0        10000          32236             12329.36286    59     BAT2522922   \n",
       "1         3609          11940             12191.99692    59     BAT1586599   \n",
       "2        28276           9311             21603.22455    59     BAT2136391   \n",
       "3        11170           6954             17877.15585    59     BAT2428731   \n",
       "4        16890          13226             13539.92667    59     BAT5341619   \n",
       "\n",
       "   Interest Rate Grade Sub Grade Home Ownership  Employment Duration  ...  \\\n",
       "0      11.135007     B        C4       MORTGAGE         176346.62670  ...   \n",
       "1      12.237563     C        D3           RENT          39833.92100  ...   \n",
       "2      12.545884     F        D4       MORTGAGE          91506.69105  ...   \n",
       "3      16.731201     C        C3       MORTGAGE         108286.57590  ...   \n",
       "4      15.008300     C        D4       MORTGAGE          44234.82545  ...   \n",
       "\n",
       "    Recoveries Collection Recovery Fee Collection 12 months Medical  \\\n",
       "0     2.498291                0.793724                            0   \n",
       "1     2.377215                0.974821                            0   \n",
       "2     4.316277                1.020075                            0   \n",
       "3     0.107020                0.749971                            0   \n",
       "4  1294.818751                0.368953                            0   \n",
       "\n",
       "   Application Type  Last week Pay  Accounts Delinquent  \\\n",
       "0        INDIVIDUAL             49                    0   \n",
       "1        INDIVIDUAL            109                    0   \n",
       "2        INDIVIDUAL             66                    0   \n",
       "3        INDIVIDUAL             39                    0   \n",
       "4        INDIVIDUAL             18                    0   \n",
       "\n",
       "   Total Collection Amount  Total Current Balance  \\\n",
       "0                       31                 311301   \n",
       "1                       53                 182610   \n",
       "2                       34                  89801   \n",
       "3                       40                   9189   \n",
       "4                      430                 126029   \n",
       "\n",
       "   Total Revolving Credit Limit  Loan Status  \n",
       "0                          6619            0  \n",
       "1                         20885            0  \n",
       "2                         26155            0  \n",
       "3                         60214            0  \n",
       "4                         22579            0  \n",
       "\n",
       "[5 rows x 34 columns]"
      ]
     },
     "execution_count": 12,
     "metadata": {},
     "output_type": "execute_result"
    }
   ],
   "source": [
    "train.head()"
   ]
  },
  {
   "cell_type": "code",
   "execution_count": 13,
   "metadata": {},
   "outputs": [
    {
     "data": {
      "text/html": [
       "<div>\n",
       "<style scoped>\n",
       "    .dataframe tbody tr th:only-of-type {\n",
       "        vertical-align: middle;\n",
       "    }\n",
       "\n",
       "    .dataframe tbody tr th {\n",
       "        vertical-align: top;\n",
       "    }\n",
       "\n",
       "    .dataframe thead th {\n",
       "        text-align: right;\n",
       "    }\n",
       "</style>\n",
       "<table border=\"1\" class=\"dataframe\">\n",
       "  <thead>\n",
       "    <tr style=\"text-align: right;\">\n",
       "      <th></th>\n",
       "      <th>Loan Amount</th>\n",
       "      <th>Funded Amount</th>\n",
       "      <th>Funded Amount Investor</th>\n",
       "      <th>Term</th>\n",
       "      <th>Batch Enrolled</th>\n",
       "      <th>Interest Rate</th>\n",
       "      <th>Grade</th>\n",
       "      <th>Sub Grade</th>\n",
       "      <th>Home Ownership</th>\n",
       "      <th>Employment Duration</th>\n",
       "      <th>...</th>\n",
       "      <th>Recoveries</th>\n",
       "      <th>Collection Recovery Fee</th>\n",
       "      <th>Collection 12 months Medical</th>\n",
       "      <th>Application Type</th>\n",
       "      <th>Last week Pay</th>\n",
       "      <th>Accounts Delinquent</th>\n",
       "      <th>Total Collection Amount</th>\n",
       "      <th>Total Current Balance</th>\n",
       "      <th>Total Revolving Credit Limit</th>\n",
       "      <th>Loan Status</th>\n",
       "    </tr>\n",
       "  </thead>\n",
       "  <tbody>\n",
       "    <tr>\n",
       "      <th>0</th>\n",
       "      <td>17120</td>\n",
       "      <td>10365</td>\n",
       "      <td>16025.082690</td>\n",
       "      <td>59</td>\n",
       "      <td>BAT2575549</td>\n",
       "      <td>12.163926</td>\n",
       "      <td>A</td>\n",
       "      <td>D1</td>\n",
       "      <td>RENT</td>\n",
       "      <td>76468.82190</td>\n",
       "      <td>...</td>\n",
       "      <td>8.425776</td>\n",
       "      <td>0.731797</td>\n",
       "      <td>0</td>\n",
       "      <td>INDIVIDUAL</td>\n",
       "      <td>135</td>\n",
       "      <td>0</td>\n",
       "      <td>24</td>\n",
       "      <td>475442</td>\n",
       "      <td>4364</td>\n",
       "      <td>NaN</td>\n",
       "    </tr>\n",
       "    <tr>\n",
       "      <th>1</th>\n",
       "      <td>7133</td>\n",
       "      <td>11650</td>\n",
       "      <td>12615.795600</td>\n",
       "      <td>59</td>\n",
       "      <td>BAT2833642</td>\n",
       "      <td>6.564296</td>\n",
       "      <td>B</td>\n",
       "      <td>E3</td>\n",
       "      <td>MORTGAGE</td>\n",
       "      <td>38079.01344</td>\n",
       "      <td>...</td>\n",
       "      <td>6.157008</td>\n",
       "      <td>0.992918</td>\n",
       "      <td>0</td>\n",
       "      <td>INDIVIDUAL</td>\n",
       "      <td>56</td>\n",
       "      <td>0</td>\n",
       "      <td>1</td>\n",
       "      <td>72412</td>\n",
       "      <td>2573</td>\n",
       "      <td>NaN</td>\n",
       "    </tr>\n",
       "    <tr>\n",
       "      <th>2</th>\n",
       "      <td>25291</td>\n",
       "      <td>25825</td>\n",
       "      <td>11621.280830</td>\n",
       "      <td>59</td>\n",
       "      <td>BAT1761981</td>\n",
       "      <td>14.729900</td>\n",
       "      <td>A</td>\n",
       "      <td>C3</td>\n",
       "      <td>MORTGAGE</td>\n",
       "      <td>51275.93268</td>\n",
       "      <td>...</td>\n",
       "      <td>5.705077</td>\n",
       "      <td>0.281580</td>\n",
       "      <td>0</td>\n",
       "      <td>INDIVIDUAL</td>\n",
       "      <td>3</td>\n",
       "      <td>0</td>\n",
       "      <td>26</td>\n",
       "      <td>284825</td>\n",
       "      <td>19676</td>\n",
       "      <td>NaN</td>\n",
       "    </tr>\n",
       "    <tr>\n",
       "      <th>3</th>\n",
       "      <td>30781</td>\n",
       "      <td>9664</td>\n",
       "      <td>15375.823510</td>\n",
       "      <td>59</td>\n",
       "      <td>BAT5341619</td>\n",
       "      <td>10.523767</td>\n",
       "      <td>A</td>\n",
       "      <td>A2</td>\n",
       "      <td>RENT</td>\n",
       "      <td>68867.98965</td>\n",
       "      <td>...</td>\n",
       "      <td>2.469688</td>\n",
       "      <td>0.959162</td>\n",
       "      <td>0</td>\n",
       "      <td>INDIVIDUAL</td>\n",
       "      <td>21</td>\n",
       "      <td>0</td>\n",
       "      <td>32</td>\n",
       "      <td>40842</td>\n",
       "      <td>7226</td>\n",
       "      <td>NaN</td>\n",
       "    </tr>\n",
       "    <tr>\n",
       "      <th>4</th>\n",
       "      <td>8878</td>\n",
       "      <td>9419</td>\n",
       "      <td>7176.647582</td>\n",
       "      <td>58</td>\n",
       "      <td>BAT4694572</td>\n",
       "      <td>9.997013</td>\n",
       "      <td>C</td>\n",
       "      <td>B3</td>\n",
       "      <td>OWN</td>\n",
       "      <td>91556.85423</td>\n",
       "      <td>...</td>\n",
       "      <td>2.127835</td>\n",
       "      <td>0.402315</td>\n",
       "      <td>0</td>\n",
       "      <td>INDIVIDUAL</td>\n",
       "      <td>104</td>\n",
       "      <td>0</td>\n",
       "      <td>33</td>\n",
       "      <td>90825</td>\n",
       "      <td>26145</td>\n",
       "      <td>NaN</td>\n",
       "    </tr>\n",
       "  </tbody>\n",
       "</table>\n",
       "<p>5 rows × 34 columns</p>\n",
       "</div>"
      ],
      "text/plain": [
       "   Loan Amount  Funded Amount  Funded Amount Investor  Term Batch Enrolled  \\\n",
       "0        17120          10365            16025.082690    59     BAT2575549   \n",
       "1         7133          11650            12615.795600    59     BAT2833642   \n",
       "2        25291          25825            11621.280830    59     BAT1761981   \n",
       "3        30781           9664            15375.823510    59     BAT5341619   \n",
       "4         8878           9419             7176.647582    58     BAT4694572   \n",
       "\n",
       "   Interest Rate Grade Sub Grade Home Ownership  Employment Duration  ...  \\\n",
       "0      12.163926     A        D1           RENT          76468.82190  ...   \n",
       "1       6.564296     B        E3       MORTGAGE          38079.01344  ...   \n",
       "2      14.729900     A        C3       MORTGAGE          51275.93268  ...   \n",
       "3      10.523767     A        A2           RENT          68867.98965  ...   \n",
       "4       9.997013     C        B3            OWN          91556.85423  ...   \n",
       "\n",
       "  Recoveries Collection Recovery Fee Collection 12 months Medical  \\\n",
       "0   8.425776                0.731797                            0   \n",
       "1   6.157008                0.992918                            0   \n",
       "2   5.705077                0.281580                            0   \n",
       "3   2.469688                0.959162                            0   \n",
       "4   2.127835                0.402315                            0   \n",
       "\n",
       "   Application Type  Last week Pay  Accounts Delinquent  \\\n",
       "0        INDIVIDUAL            135                    0   \n",
       "1        INDIVIDUAL             56                    0   \n",
       "2        INDIVIDUAL              3                    0   \n",
       "3        INDIVIDUAL             21                    0   \n",
       "4        INDIVIDUAL            104                    0   \n",
       "\n",
       "   Total Collection Amount  Total Current Balance  \\\n",
       "0                       24                 475442   \n",
       "1                        1                  72412   \n",
       "2                       26                 284825   \n",
       "3                       32                  40842   \n",
       "4                       33                  90825   \n",
       "\n",
       "   Total Revolving Credit Limit  Loan Status  \n",
       "0                          4364          NaN  \n",
       "1                          2573          NaN  \n",
       "2                         19676          NaN  \n",
       "3                          7226          NaN  \n",
       "4                         26145          NaN  \n",
       "\n",
       "[5 rows x 34 columns]"
      ]
     },
     "execution_count": 13,
     "metadata": {},
     "output_type": "execute_result"
    }
   ],
   "source": [
    "test_df.head()"
   ]
  },
  {
   "cell_type": "code",
   "execution_count": 14,
   "metadata": {},
   "outputs": [
    {
     "data": {
      "text/plain": [
       "Loan Amount                     0\n",
       "Funded Amount                   0\n",
       "Funded Amount Investor          0\n",
       "Term                            0\n",
       "Batch Enrolled                  0\n",
       "Interest Rate                   0\n",
       "Grade                           0\n",
       "Sub Grade                       0\n",
       "Home Ownership                  0\n",
       "Employment Duration             0\n",
       "Verification Status             0\n",
       "Payment Plan                    0\n",
       "Loan Title                      0\n",
       "Debit to Income                 0\n",
       "Delinquency - two years         0\n",
       "Inquires - six months           0\n",
       "Open Account                    0\n",
       "Public Record                   0\n",
       "Revolving Balance               0\n",
       "Revolving Utilities             0\n",
       "Total Accounts                  0\n",
       "Initial List Status             0\n",
       "Total Received Interest         0\n",
       "Total Received Late Fee         0\n",
       "Recoveries                      0\n",
       "Collection Recovery Fee         0\n",
       "Collection 12 months Medical    0\n",
       "Application Type                0\n",
       "Last week Pay                   0\n",
       "Accounts Delinquent             0\n",
       "Total Collection Amount         0\n",
       "Total Current Balance           0\n",
       "Total Revolving Credit Limit    0\n",
       "Loan Status                     0\n",
       "dtype: int64"
      ]
     },
     "execution_count": 14,
     "metadata": {},
     "output_type": "execute_result"
    }
   ],
   "source": [
    "#checking for missing values\n",
    "train.isnull().sum()"
   ]
  },
  {
   "cell_type": "code",
   "execution_count": 15,
   "metadata": {},
   "outputs": [
    {
     "data": {
      "text/plain": [
       "Loan Amount                         0\n",
       "Funded Amount                       0\n",
       "Funded Amount Investor              0\n",
       "Term                                0\n",
       "Batch Enrolled                      0\n",
       "Interest Rate                       0\n",
       "Grade                               0\n",
       "Sub Grade                           0\n",
       "Home Ownership                      0\n",
       "Employment Duration                 0\n",
       "Verification Status                 0\n",
       "Payment Plan                        0\n",
       "Loan Title                          0\n",
       "Debit to Income                     0\n",
       "Delinquency - two years             0\n",
       "Inquires - six months               0\n",
       "Open Account                        0\n",
       "Public Record                       0\n",
       "Revolving Balance                   0\n",
       "Revolving Utilities                 0\n",
       "Total Accounts                      0\n",
       "Initial List Status                 0\n",
       "Total Received Interest             0\n",
       "Total Received Late Fee             0\n",
       "Recoveries                          0\n",
       "Collection Recovery Fee             0\n",
       "Collection 12 months Medical        0\n",
       "Application Type                    0\n",
       "Last week Pay                       0\n",
       "Accounts Delinquent                 0\n",
       "Total Collection Amount             0\n",
       "Total Current Balance               0\n",
       "Total Revolving Credit Limit        0\n",
       "Loan Status                     28913\n",
       "dtype: int64"
      ]
     },
     "execution_count": 15,
     "metadata": {},
     "output_type": "execute_result"
    }
   ],
   "source": [
    "test_df.isnull().sum()"
   ]
  },
  {
   "cell_type": "code",
   "execution_count": 16,
   "metadata": {
    "scrolled": true
   },
   "outputs": [
    {
     "data": {
      "text/plain": [
       "Accounts Delinquent                 1\n",
       "Payment Plan                        1\n",
       "Loan Status                         2\n",
       "Application Type                    2\n",
       "Collection 12 months Medical        2\n",
       "Initial List Status                 2\n",
       "Term                                3\n",
       "Home Ownership                      3\n",
       "Verification Status                 3\n",
       "Public Record                       5\n",
       "Inquires - six months               6\n",
       "Grade                               7\n",
       "Delinquency - two years             9\n",
       "Sub Grade                          35\n",
       "Open Account                       36\n",
       "Batch Enrolled                     41\n",
       "Total Accounts                     69\n",
       "Loan Title                        109\n",
       "Last week Pay                     162\n",
       "Total Collection Amount          2193\n",
       "Revolving Balance               20582\n",
       "Funded Amount                   24548\n",
       "Loan Amount                     27525\n",
       "Total Revolving Credit Limit    37708\n",
       "Total Current Balance           60901\n",
       "Collection Recovery Fee         67313\n",
       "Total Received Late Fee         67380\n",
       "Recoveries                      67387\n",
       "Funded Amount Investor          67441\n",
       "Interest Rate                   67448\n",
       "Total Received Interest         67451\n",
       "Debit to Income                 67454\n",
       "Employment Duration             67454\n",
       "Revolving Utilities             67458\n",
       "dtype: int64"
      ]
     },
     "execution_count": 16,
     "metadata": {},
     "output_type": "execute_result"
    }
   ],
   "source": [
    "#checking for unique values in the dataframes \n",
    "train.nunique().sort_values().head(35)"
   ]
  },
  {
   "cell_type": "code",
   "execution_count": 17,
   "metadata": {},
   "outputs": [
    {
     "data": {
      "text/plain": [
       "Loan Status                         0\n",
       "Payment Plan                        1\n",
       "Accounts Delinquent                 2\n",
       "Application Type                    2\n",
       "Collection 12 months Medical        2\n",
       "Initial List Status                 2\n",
       "Home Ownership                      3\n",
       "Verification Status                 3\n",
       "Term                                4\n",
       "Public Record                       5\n",
       "Inquires - six months               6\n",
       "Grade                               7\n",
       "Delinquency - two years            10\n",
       "Sub Grade                          35\n",
       "Open Account                       36\n",
       "Batch Enrolled                     41\n",
       "Total Accounts                     70\n",
       "Loan Title                        109\n",
       "Last week Pay                     162\n",
       "Total Collection Amount          1551\n",
       "Funded Amount                   14552\n",
       "Loan Amount                     15664\n",
       "Revolving Balance               16204\n",
       "Total Revolving Credit Limit    18308\n",
       "Total Received Late Fee         21535\n",
       "Collection Recovery Fee         21603\n",
       "Recoveries                      21613\n",
       "Interest Rate                   21675\n",
       "Funded Amount Investor          22419\n",
       "Revolving Utilities             22494\n",
       "Employment Duration             22551\n",
       "Debit to Income                 24447\n",
       "Total Current Balance           27569\n",
       "Total Received Interest         28564\n",
       "dtype: int64"
      ]
     },
     "execution_count": 17,
     "metadata": {},
     "output_type": "execute_result"
    }
   ],
   "source": [
    "test_df.nunique().sort_values(ascending = True)"
   ]
  },
  {
   "cell_type": "code",
   "execution_count": 18,
   "metadata": {},
   "outputs": [
    {
     "data": {
      "text/plain": [
       "Loan Amount                       int64\n",
       "Funded Amount                     int64\n",
       "Funded Amount Investor          float64\n",
       "Term                              int64\n",
       "Batch Enrolled                   object\n",
       "Interest Rate                   float64\n",
       "Grade                            object\n",
       "Sub Grade                        object\n",
       "Home Ownership                   object\n",
       "Employment Duration             float64\n",
       "Verification Status              object\n",
       "Payment Plan                     object\n",
       "Loan Title                       object\n",
       "Debit to Income                 float64\n",
       "Delinquency - two years           int64\n",
       "Inquires - six months             int64\n",
       "Open Account                      int64\n",
       "Public Record                     int64\n",
       "Revolving Balance                 int64\n",
       "Revolving Utilities             float64\n",
       "Total Accounts                    int64\n",
       "Initial List Status              object\n",
       "Total Received Interest         float64\n",
       "Total Received Late Fee         float64\n",
       "Recoveries                      float64\n",
       "Collection Recovery Fee         float64\n",
       "Collection 12 months Medical      int64\n",
       "Application Type                 object\n",
       "Last week Pay                     int64\n",
       "Accounts Delinquent               int64\n",
       "Total Collection Amount           int64\n",
       "Total Current Balance             int64\n",
       "Total Revolving Credit Limit      int64\n",
       "Loan Status                       int64\n",
       "dtype: object"
      ]
     },
     "execution_count": 18,
     "metadata": {},
     "output_type": "execute_result"
    }
   ],
   "source": [
    "train.dtypes"
   ]
  },
  {
   "cell_type": "code",
   "execution_count": 19,
   "metadata": {},
   "outputs": [],
   "source": [
    "# encoding categoriacl columns into numerical\n",
    "from sklearn.preprocessing import LabelEncoder\n",
    "\n",
    "for column in train.columns:\n",
    "    if train[column].dtype == np.number:\n",
    "        continue\n",
    "    train[column] = LabelEncoder().fit_transform(train[column])\n",
    "    \n",
    "    "
   ]
  },
  {
   "cell_type": "code",
   "execution_count": 20,
   "metadata": {},
   "outputs": [
    {
     "data": {
      "text/html": [
       "<div>\n",
       "<style scoped>\n",
       "    .dataframe tbody tr th:only-of-type {\n",
       "        vertical-align: middle;\n",
       "    }\n",
       "\n",
       "    .dataframe tbody tr th {\n",
       "        vertical-align: top;\n",
       "    }\n",
       "\n",
       "    .dataframe thead th {\n",
       "        text-align: right;\n",
       "    }\n",
       "</style>\n",
       "<table border=\"1\" class=\"dataframe\">\n",
       "  <thead>\n",
       "    <tr style=\"text-align: right;\">\n",
       "      <th></th>\n",
       "      <th>Loan Amount</th>\n",
       "      <th>Funded Amount</th>\n",
       "      <th>Funded Amount Investor</th>\n",
       "      <th>Term</th>\n",
       "      <th>Batch Enrolled</th>\n",
       "      <th>Interest Rate</th>\n",
       "      <th>Grade</th>\n",
       "      <th>Sub Grade</th>\n",
       "      <th>Home Ownership</th>\n",
       "      <th>Employment Duration</th>\n",
       "      <th>...</th>\n",
       "      <th>Recoveries</th>\n",
       "      <th>Collection Recovery Fee</th>\n",
       "      <th>Collection 12 months Medical</th>\n",
       "      <th>Application Type</th>\n",
       "      <th>Last week Pay</th>\n",
       "      <th>Accounts Delinquent</th>\n",
       "      <th>Total Collection Amount</th>\n",
       "      <th>Total Current Balance</th>\n",
       "      <th>Total Revolving Credit Limit</th>\n",
       "      <th>Loan Status</th>\n",
       "    </tr>\n",
       "  </thead>\n",
       "  <tbody>\n",
       "    <tr>\n",
       "      <th>0</th>\n",
       "      <td>7094</td>\n",
       "      <td>22699</td>\n",
       "      <td>12329.36286</td>\n",
       "      <td>2</td>\n",
       "      <td>16</td>\n",
       "      <td>11.135007</td>\n",
       "      <td>1</td>\n",
       "      <td>13</td>\n",
       "      <td>0</td>\n",
       "      <td>176346.62670</td>\n",
       "      <td>...</td>\n",
       "      <td>2.498291</td>\n",
       "      <td>0.793724</td>\n",
       "      <td>0</td>\n",
       "      <td>0</td>\n",
       "      <td>49</td>\n",
       "      <td>0</td>\n",
       "      <td>30</td>\n",
       "      <td>51921</td>\n",
       "      <td>5050</td>\n",
       "      <td>0</td>\n",
       "    </tr>\n",
       "    <tr>\n",
       "      <th>1</th>\n",
       "      <td>1334</td>\n",
       "      <td>7866</td>\n",
       "      <td>12191.99692</td>\n",
       "      <td>2</td>\n",
       "      <td>4</td>\n",
       "      <td>12.237563</td>\n",
       "      <td>2</td>\n",
       "      <td>17</td>\n",
       "      <td>2</td>\n",
       "      <td>39833.92100</td>\n",
       "      <td>...</td>\n",
       "      <td>2.377215</td>\n",
       "      <td>0.974821</td>\n",
       "      <td>0</td>\n",
       "      <td>0</td>\n",
       "      <td>109</td>\n",
       "      <td>0</td>\n",
       "      <td>52</td>\n",
       "      <td>38407</td>\n",
       "      <td>16786</td>\n",
       "      <td>0</td>\n",
       "    </tr>\n",
       "    <tr>\n",
       "      <th>2</th>\n",
       "      <td>22610</td>\n",
       "      <td>5260</td>\n",
       "      <td>21603.22455</td>\n",
       "      <td>2</td>\n",
       "      <td>11</td>\n",
       "      <td>12.545884</td>\n",
       "      <td>5</td>\n",
       "      <td>18</td>\n",
       "      <td>0</td>\n",
       "      <td>91506.69105</td>\n",
       "      <td>...</td>\n",
       "      <td>4.316277</td>\n",
       "      <td>1.020075</td>\n",
       "      <td>0</td>\n",
       "      <td>0</td>\n",
       "      <td>66</td>\n",
       "      <td>0</td>\n",
       "      <td>33</td>\n",
       "      <td>23733</td>\n",
       "      <td>20266</td>\n",
       "      <td>0</td>\n",
       "    </tr>\n",
       "    <tr>\n",
       "      <th>3</th>\n",
       "      <td>8155</td>\n",
       "      <td>2937</td>\n",
       "      <td>17877.15585</td>\n",
       "      <td>2</td>\n",
       "      <td>15</td>\n",
       "      <td>16.731201</td>\n",
       "      <td>2</td>\n",
       "      <td>12</td>\n",
       "      <td>0</td>\n",
       "      <td>108286.57590</td>\n",
       "      <td>...</td>\n",
       "      <td>0.107020</td>\n",
       "      <td>0.749971</td>\n",
       "      <td>0</td>\n",
       "      <td>0</td>\n",
       "      <td>39</td>\n",
       "      <td>0</td>\n",
       "      <td>39</td>\n",
       "      <td>995</td>\n",
       "      <td>33921</td>\n",
       "      <td>0</td>\n",
       "    </tr>\n",
       "    <tr>\n",
       "      <th>4</th>\n",
       "      <td>13477</td>\n",
       "      <td>9079</td>\n",
       "      <td>13539.92667</td>\n",
       "      <td>2</td>\n",
       "      <td>32</td>\n",
       "      <td>15.008300</td>\n",
       "      <td>2</td>\n",
       "      <td>18</td>\n",
       "      <td>0</td>\n",
       "      <td>44234.82545</td>\n",
       "      <td>...</td>\n",
       "      <td>1294.818751</td>\n",
       "      <td>0.368953</td>\n",
       "      <td>0</td>\n",
       "      <td>0</td>\n",
       "      <td>18</td>\n",
       "      <td>0</td>\n",
       "      <td>340</td>\n",
       "      <td>29936</td>\n",
       "      <td>17944</td>\n",
       "      <td>0</td>\n",
       "    </tr>\n",
       "  </tbody>\n",
       "</table>\n",
       "<p>5 rows × 34 columns</p>\n",
       "</div>"
      ],
      "text/plain": [
       "   Loan Amount  Funded Amount  Funded Amount Investor  Term  Batch Enrolled  \\\n",
       "0         7094          22699             12329.36286     2              16   \n",
       "1         1334           7866             12191.99692     2               4   \n",
       "2        22610           5260             21603.22455     2              11   \n",
       "3         8155           2937             17877.15585     2              15   \n",
       "4        13477           9079             13539.92667     2              32   \n",
       "\n",
       "   Interest Rate  Grade  Sub Grade  Home Ownership  Employment Duration  ...  \\\n",
       "0      11.135007      1         13               0         176346.62670  ...   \n",
       "1      12.237563      2         17               2          39833.92100  ...   \n",
       "2      12.545884      5         18               0          91506.69105  ...   \n",
       "3      16.731201      2         12               0         108286.57590  ...   \n",
       "4      15.008300      2         18               0          44234.82545  ...   \n",
       "\n",
       "    Recoveries  Collection Recovery Fee  Collection 12 months Medical  \\\n",
       "0     2.498291                 0.793724                             0   \n",
       "1     2.377215                 0.974821                             0   \n",
       "2     4.316277                 1.020075                             0   \n",
       "3     0.107020                 0.749971                             0   \n",
       "4  1294.818751                 0.368953                             0   \n",
       "\n",
       "   Application Type  Last week Pay  Accounts Delinquent  \\\n",
       "0                 0             49                    0   \n",
       "1                 0            109                    0   \n",
       "2                 0             66                    0   \n",
       "3                 0             39                    0   \n",
       "4                 0             18                    0   \n",
       "\n",
       "   Total Collection Amount  Total Current Balance  \\\n",
       "0                       30                  51921   \n",
       "1                       52                  38407   \n",
       "2                       33                  23733   \n",
       "3                       39                    995   \n",
       "4                      340                  29936   \n",
       "\n",
       "   Total Revolving Credit Limit  Loan Status  \n",
       "0                          5050            0  \n",
       "1                         16786            0  \n",
       "2                         20266            0  \n",
       "3                         33921            0  \n",
       "4                         17944            0  \n",
       "\n",
       "[5 rows x 34 columns]"
      ]
     },
     "execution_count": 20,
     "metadata": {},
     "output_type": "execute_result"
    }
   ],
   "source": [
    "train.head()"
   ]
  },
  {
   "cell_type": "code",
   "execution_count": 21,
   "metadata": {},
   "outputs": [],
   "source": [
    "for column in test_df.columns:\n",
    "    if test_df[column].dtype == np.number:\n",
    "        continue\n",
    "    test_df[column] = LabelEncoder().fit_transform(test_df[column])"
   ]
  },
  {
   "cell_type": "code",
   "execution_count": 22,
   "metadata": {
    "scrolled": true
   },
   "outputs": [
    {
     "data": {
      "text/html": [
       "<div>\n",
       "<style scoped>\n",
       "    .dataframe tbody tr th:only-of-type {\n",
       "        vertical-align: middle;\n",
       "    }\n",
       "\n",
       "    .dataframe tbody tr th {\n",
       "        vertical-align: top;\n",
       "    }\n",
       "\n",
       "    .dataframe thead th {\n",
       "        text-align: right;\n",
       "    }\n",
       "</style>\n",
       "<table border=\"1\" class=\"dataframe\">\n",
       "  <thead>\n",
       "    <tr style=\"text-align: right;\">\n",
       "      <th></th>\n",
       "      <th>Loan Amount</th>\n",
       "      <th>Funded Amount</th>\n",
       "      <th>Funded Amount Investor</th>\n",
       "      <th>Term</th>\n",
       "      <th>Batch Enrolled</th>\n",
       "      <th>Interest Rate</th>\n",
       "      <th>Grade</th>\n",
       "      <th>Sub Grade</th>\n",
       "      <th>Home Ownership</th>\n",
       "      <th>Employment Duration</th>\n",
       "      <th>...</th>\n",
       "      <th>Recoveries</th>\n",
       "      <th>Collection Recovery Fee</th>\n",
       "      <th>Collection 12 months Medical</th>\n",
       "      <th>Application Type</th>\n",
       "      <th>Last week Pay</th>\n",
       "      <th>Accounts Delinquent</th>\n",
       "      <th>Total Collection Amount</th>\n",
       "      <th>Total Current Balance</th>\n",
       "      <th>Total Revolving Credit Limit</th>\n",
       "      <th>Loan Status</th>\n",
       "    </tr>\n",
       "  </thead>\n",
       "  <tbody>\n",
       "    <tr>\n",
       "      <th>0</th>\n",
       "      <td>8234</td>\n",
       "      <td>4308</td>\n",
       "      <td>16025.082690</td>\n",
       "      <td>2</td>\n",
       "      <td>18</td>\n",
       "      <td>12.163926</td>\n",
       "      <td>0</td>\n",
       "      <td>15</td>\n",
       "      <td>2</td>\n",
       "      <td>76468.82190</td>\n",
       "      <td>...</td>\n",
       "      <td>8.425776</td>\n",
       "      <td>0.731797</td>\n",
       "      <td>0</td>\n",
       "      <td>0</td>\n",
       "      <td>135</td>\n",
       "      <td>0</td>\n",
       "      <td>24</td>\n",
       "      <td>26623</td>\n",
       "      <td>1719</td>\n",
       "      <td>NaN</td>\n",
       "    </tr>\n",
       "    <tr>\n",
       "      <th>1</th>\n",
       "      <td>2374</td>\n",
       "      <td>5375</td>\n",
       "      <td>12615.795600</td>\n",
       "      <td>2</td>\n",
       "      <td>20</td>\n",
       "      <td>6.564296</td>\n",
       "      <td>1</td>\n",
       "      <td>22</td>\n",
       "      <td>0</td>\n",
       "      <td>38079.01344</td>\n",
       "      <td>...</td>\n",
       "      <td>6.157008</td>\n",
       "      <td>0.992918</td>\n",
       "      <td>0</td>\n",
       "      <td>0</td>\n",
       "      <td>56</td>\n",
       "      <td>0</td>\n",
       "      <td>1</td>\n",
       "      <td>10074</td>\n",
       "      <td>769</td>\n",
       "      <td>NaN</td>\n",
       "    </tr>\n",
       "    <tr>\n",
       "      <th>2</th>\n",
       "      <td>12379</td>\n",
       "      <td>11901</td>\n",
       "      <td>11621.280830</td>\n",
       "      <td>2</td>\n",
       "      <td>5</td>\n",
       "      <td>14.729900</td>\n",
       "      <td>0</td>\n",
       "      <td>12</td>\n",
       "      <td>0</td>\n",
       "      <td>51275.93268</td>\n",
       "      <td>...</td>\n",
       "      <td>5.705077</td>\n",
       "      <td>0.281580</td>\n",
       "      <td>0</td>\n",
       "      <td>0</td>\n",
       "      <td>3</td>\n",
       "      <td>0</td>\n",
       "      <td>26</td>\n",
       "      <td>23050</td>\n",
       "      <td>8913</td>\n",
       "      <td>NaN</td>\n",
       "    </tr>\n",
       "    <tr>\n",
       "      <th>3</th>\n",
       "      <td>14382</td>\n",
       "      <td>3732</td>\n",
       "      <td>15375.823510</td>\n",
       "      <td>2</td>\n",
       "      <td>32</td>\n",
       "      <td>10.523767</td>\n",
       "      <td>0</td>\n",
       "      <td>1</td>\n",
       "      <td>2</td>\n",
       "      <td>68867.98965</td>\n",
       "      <td>...</td>\n",
       "      <td>2.469688</td>\n",
       "      <td>0.959162</td>\n",
       "      <td>0</td>\n",
       "      <td>0</td>\n",
       "      <td>21</td>\n",
       "      <td>0</td>\n",
       "      <td>32</td>\n",
       "      <td>6022</td>\n",
       "      <td>3268</td>\n",
       "      <td>NaN</td>\n",
       "    </tr>\n",
       "    <tr>\n",
       "      <th>4</th>\n",
       "      <td>3368</td>\n",
       "      <td>3543</td>\n",
       "      <td>7176.647582</td>\n",
       "      <td>1</td>\n",
       "      <td>29</td>\n",
       "      <td>9.997013</td>\n",
       "      <td>2</td>\n",
       "      <td>7</td>\n",
       "      <td>1</td>\n",
       "      <td>91556.85423</td>\n",
       "      <td>...</td>\n",
       "      <td>2.127835</td>\n",
       "      <td>0.402315</td>\n",
       "      <td>0</td>\n",
       "      <td>0</td>\n",
       "      <td>104</td>\n",
       "      <td>0</td>\n",
       "      <td>33</td>\n",
       "      <td>11928</td>\n",
       "      <td>11034</td>\n",
       "      <td>NaN</td>\n",
       "    </tr>\n",
       "  </tbody>\n",
       "</table>\n",
       "<p>5 rows × 34 columns</p>\n",
       "</div>"
      ],
      "text/plain": [
       "   Loan Amount  Funded Amount  Funded Amount Investor  Term  Batch Enrolled  \\\n",
       "0         8234           4308            16025.082690     2              18   \n",
       "1         2374           5375            12615.795600     2              20   \n",
       "2        12379          11901            11621.280830     2               5   \n",
       "3        14382           3732            15375.823510     2              32   \n",
       "4         3368           3543             7176.647582     1              29   \n",
       "\n",
       "   Interest Rate  Grade  Sub Grade  Home Ownership  Employment Duration  ...  \\\n",
       "0      12.163926      0         15               2          76468.82190  ...   \n",
       "1       6.564296      1         22               0          38079.01344  ...   \n",
       "2      14.729900      0         12               0          51275.93268  ...   \n",
       "3      10.523767      0          1               2          68867.98965  ...   \n",
       "4       9.997013      2          7               1          91556.85423  ...   \n",
       "\n",
       "   Recoveries  Collection Recovery Fee  Collection 12 months Medical  \\\n",
       "0    8.425776                 0.731797                             0   \n",
       "1    6.157008                 0.992918                             0   \n",
       "2    5.705077                 0.281580                             0   \n",
       "3    2.469688                 0.959162                             0   \n",
       "4    2.127835                 0.402315                             0   \n",
       "\n",
       "   Application Type  Last week Pay  Accounts Delinquent  \\\n",
       "0                 0            135                    0   \n",
       "1                 0             56                    0   \n",
       "2                 0              3                    0   \n",
       "3                 0             21                    0   \n",
       "4                 0            104                    0   \n",
       "\n",
       "   Total Collection Amount  Total Current Balance  \\\n",
       "0                       24                  26623   \n",
       "1                        1                  10074   \n",
       "2                       26                  23050   \n",
       "3                       32                   6022   \n",
       "4                       33                  11928   \n",
       "\n",
       "   Total Revolving Credit Limit  Loan Status  \n",
       "0                          1719          NaN  \n",
       "1                           769          NaN  \n",
       "2                          8913          NaN  \n",
       "3                          3268          NaN  \n",
       "4                         11034          NaN  \n",
       "\n",
       "[5 rows x 34 columns]"
      ]
     },
     "execution_count": 22,
     "metadata": {},
     "output_type": "execute_result"
    }
   ],
   "source": [
    "test_df.head()"
   ]
  },
  {
   "cell_type": "code",
   "execution_count": 23,
   "metadata": {},
   "outputs": [
    {
     "data": {
      "text/plain": [
       "array([nan])"
      ]
     },
     "execution_count": 23,
     "metadata": {},
     "output_type": "execute_result"
    }
   ],
   "source": [
    "test_df['Loan Status'].unique()"
   ]
  },
  {
   "cell_type": "code",
   "execution_count": 24,
   "metadata": {},
   "outputs": [
    {
     "data": {
      "text/plain": [
       "(67463, 33)"
      ]
     },
     "execution_count": 24,
     "metadata": {},
     "output_type": "execute_result"
    }
   ],
   "source": [
    "X_train= train.drop(['Loan Status'],axis=1)\n",
    "X_train.shape"
   ]
  },
  {
   "cell_type": "code",
   "execution_count": 25,
   "metadata": {},
   "outputs": [
    {
     "data": {
      "text/plain": [
       "(67463,)"
      ]
     },
     "execution_count": 25,
     "metadata": {},
     "output_type": "execute_result"
    }
   ],
   "source": [
    "y_train = train['Loan Status']\n",
    "y_train.shape"
   ]
  },
  {
   "cell_type": "code",
   "execution_count": 26,
   "metadata": {},
   "outputs": [
    {
     "data": {
      "text/plain": [
       "(28913, 33)"
      ]
     },
     "execution_count": 26,
     "metadata": {},
     "output_type": "execute_result"
    }
   ],
   "source": [
    "X_test_df= test_df.drop(['Loan Status'],axis=1)\n",
    "X_test_df.shape"
   ]
  },
  {
   "cell_type": "code",
   "execution_count": 27,
   "metadata": {},
   "outputs": [
    {
     "data": {
      "text/plain": [
       "(28913,)"
      ]
     },
     "execution_count": 27,
     "metadata": {},
     "output_type": "execute_result"
    }
   ],
   "source": [
    "y_test_df= test_df['Loan Status']\n",
    "y_test_df.shape"
   ]
  },
  {
   "cell_type": "markdown",
   "metadata": {},
   "source": [
    "### Performing Feature Scaling"
   ]
  },
  {
   "cell_type": "code",
   "execution_count": 28,
   "metadata": {},
   "outputs": [
    {
     "data": {
      "text/html": [
       "<div>\n",
       "<style scoped>\n",
       "    .dataframe tbody tr th:only-of-type {\n",
       "        vertical-align: middle;\n",
       "    }\n",
       "\n",
       "    .dataframe tbody tr th {\n",
       "        vertical-align: top;\n",
       "    }\n",
       "\n",
       "    .dataframe thead th {\n",
       "        text-align: right;\n",
       "    }\n",
       "</style>\n",
       "<table border=\"1\" class=\"dataframe\">\n",
       "  <thead>\n",
       "    <tr style=\"text-align: right;\">\n",
       "      <th></th>\n",
       "      <th>Loan Amount</th>\n",
       "      <th>Funded Amount</th>\n",
       "      <th>Funded Amount Investor</th>\n",
       "      <th>Term</th>\n",
       "      <th>Batch Enrolled</th>\n",
       "      <th>Interest Rate</th>\n",
       "      <th>Grade</th>\n",
       "      <th>Sub Grade</th>\n",
       "      <th>Home Ownership</th>\n",
       "      <th>Employment Duration</th>\n",
       "      <th>...</th>\n",
       "      <th>Total Received Late Fee</th>\n",
       "      <th>Recoveries</th>\n",
       "      <th>Collection Recovery Fee</th>\n",
       "      <th>Collection 12 months Medical</th>\n",
       "      <th>Application Type</th>\n",
       "      <th>Last week Pay</th>\n",
       "      <th>Accounts Delinquent</th>\n",
       "      <th>Total Collection Amount</th>\n",
       "      <th>Total Current Balance</th>\n",
       "      <th>Total Revolving Credit Limit</th>\n",
       "    </tr>\n",
       "  </thead>\n",
       "  <tbody>\n",
       "    <tr>\n",
       "      <th>0</th>\n",
       "      <td>0.257739</td>\n",
       "      <td>0.924716</td>\n",
       "      <td>0.330964</td>\n",
       "      <td>1.0</td>\n",
       "      <td>0.400</td>\n",
       "      <td>0.265983</td>\n",
       "      <td>0.166667</td>\n",
       "      <td>0.382353</td>\n",
       "      <td>0.0</td>\n",
       "      <td>0.412699</td>\n",
       "      <td>...</td>\n",
       "      <td>0.002395</td>\n",
       "      <td>0.000574</td>\n",
       "      <td>0.004757</td>\n",
       "      <td>0.0</td>\n",
       "      <td>0.0</td>\n",
       "      <td>0.304348</td>\n",
       "      <td>0.0</td>\n",
       "      <td>0.013686</td>\n",
       "      <td>0.852562</td>\n",
       "      <td>0.133927</td>\n",
       "    </tr>\n",
       "    <tr>\n",
       "      <th>1</th>\n",
       "      <td>0.048467</td>\n",
       "      <td>0.320446</td>\n",
       "      <td>0.326910</td>\n",
       "      <td>1.0</td>\n",
       "      <td>0.100</td>\n",
       "      <td>0.316414</td>\n",
       "      <td>0.333333</td>\n",
       "      <td>0.500000</td>\n",
       "      <td>1.0</td>\n",
       "      <td>0.064442</td>\n",
       "      <td>...</td>\n",
       "      <td>0.000849</td>\n",
       "      <td>0.000546</td>\n",
       "      <td>0.005843</td>\n",
       "      <td>0.0</td>\n",
       "      <td>0.0</td>\n",
       "      <td>0.677019</td>\n",
       "      <td>0.0</td>\n",
       "      <td>0.023723</td>\n",
       "      <td>0.630657</td>\n",
       "      <td>0.445169</td>\n",
       "    </tr>\n",
       "    <tr>\n",
       "      <th>2</th>\n",
       "      <td>0.821465</td>\n",
       "      <td>0.214283</td>\n",
       "      <td>0.604649</td>\n",
       "      <td>1.0</td>\n",
       "      <td>0.275</td>\n",
       "      <td>0.330517</td>\n",
       "      <td>0.833333</td>\n",
       "      <td>0.529412</td>\n",
       "      <td>0.0</td>\n",
       "      <td>0.196264</td>\n",
       "      <td>...</td>\n",
       "      <td>0.440618</td>\n",
       "      <td>0.000991</td>\n",
       "      <td>0.006114</td>\n",
       "      <td>0.0</td>\n",
       "      <td>0.0</td>\n",
       "      <td>0.409938</td>\n",
       "      <td>0.0</td>\n",
       "      <td>0.015055</td>\n",
       "      <td>0.389704</td>\n",
       "      <td>0.537460</td>\n",
       "    </tr>\n",
       "    <tr>\n",
       "      <th>3</th>\n",
       "      <td>0.296287</td>\n",
       "      <td>0.119648</td>\n",
       "      <td>0.494688</td>\n",
       "      <td>1.0</td>\n",
       "      <td>0.375</td>\n",
       "      <td>0.521957</td>\n",
       "      <td>0.333333</td>\n",
       "      <td>0.352941</td>\n",
       "      <td>0.0</td>\n",
       "      <td>0.239071</td>\n",
       "      <td>...</td>\n",
       "      <td>0.001035</td>\n",
       "      <td>0.000025</td>\n",
       "      <td>0.004495</td>\n",
       "      <td>0.0</td>\n",
       "      <td>0.0</td>\n",
       "      <td>0.242236</td>\n",
       "      <td>0.0</td>\n",
       "      <td>0.017792</td>\n",
       "      <td>0.016338</td>\n",
       "      <td>0.899594</td>\n",
       "    </tr>\n",
       "    <tr>\n",
       "      <th>4</th>\n",
       "      <td>0.489645</td>\n",
       "      <td>0.369862</td>\n",
       "      <td>0.366690</td>\n",
       "      <td>1.0</td>\n",
       "      <td>0.800</td>\n",
       "      <td>0.443150</td>\n",
       "      <td>0.333333</td>\n",
       "      <td>0.529412</td>\n",
       "      <td>0.0</td>\n",
       "      <td>0.075669</td>\n",
       "      <td>...</td>\n",
       "      <td>0.453007</td>\n",
       "      <td>0.297354</td>\n",
       "      <td>0.002211</td>\n",
       "      <td>0.0</td>\n",
       "      <td>0.0</td>\n",
       "      <td>0.111801</td>\n",
       "      <td>0.0</td>\n",
       "      <td>0.155109</td>\n",
       "      <td>0.491560</td>\n",
       "      <td>0.475880</td>\n",
       "    </tr>\n",
       "  </tbody>\n",
       "</table>\n",
       "<p>5 rows × 33 columns</p>\n",
       "</div>"
      ],
      "text/plain": [
       "   Loan Amount  Funded Amount  Funded Amount Investor  Term  Batch Enrolled  \\\n",
       "0     0.257739       0.924716                0.330964   1.0           0.400   \n",
       "1     0.048467       0.320446                0.326910   1.0           0.100   \n",
       "2     0.821465       0.214283                0.604649   1.0           0.275   \n",
       "3     0.296287       0.119648                0.494688   1.0           0.375   \n",
       "4     0.489645       0.369862                0.366690   1.0           0.800   \n",
       "\n",
       "   Interest Rate     Grade  Sub Grade  Home Ownership  Employment Duration  \\\n",
       "0       0.265983  0.166667   0.382353             0.0             0.412699   \n",
       "1       0.316414  0.333333   0.500000             1.0             0.064442   \n",
       "2       0.330517  0.833333   0.529412             0.0             0.196264   \n",
       "3       0.521957  0.333333   0.352941             0.0             0.239071   \n",
       "4       0.443150  0.333333   0.529412             0.0             0.075669   \n",
       "\n",
       "   ...  Total Received Late Fee  Recoveries  Collection Recovery Fee  \\\n",
       "0  ...                 0.002395    0.000574                 0.004757   \n",
       "1  ...                 0.000849    0.000546                 0.005843   \n",
       "2  ...                 0.440618    0.000991                 0.006114   \n",
       "3  ...                 0.001035    0.000025                 0.004495   \n",
       "4  ...                 0.453007    0.297354                 0.002211   \n",
       "\n",
       "   Collection 12 months Medical  Application Type  Last week Pay  \\\n",
       "0                           0.0               0.0       0.304348   \n",
       "1                           0.0               0.0       0.677019   \n",
       "2                           0.0               0.0       0.409938   \n",
       "3                           0.0               0.0       0.242236   \n",
       "4                           0.0               0.0       0.111801   \n",
       "\n",
       "   Accounts Delinquent  Total Collection Amount  Total Current Balance  \\\n",
       "0                  0.0                 0.013686               0.852562   \n",
       "1                  0.0                 0.023723               0.630657   \n",
       "2                  0.0                 0.015055               0.389704   \n",
       "3                  0.0                 0.017792               0.016338   \n",
       "4                  0.0                 0.155109               0.491560   \n",
       "\n",
       "   Total Revolving Credit Limit  \n",
       "0                      0.133927  \n",
       "1                      0.445169  \n",
       "2                      0.537460  \n",
       "3                      0.899594  \n",
       "4                      0.475880  \n",
       "\n",
       "[5 rows x 33 columns]"
      ]
     },
     "execution_count": 28,
     "metadata": {},
     "output_type": "execute_result"
    }
   ],
   "source": [
    "from sklearn.preprocessing import MinMaxScaler\n",
    "scaler = MinMaxScaler()\n",
    "X_train = pd.DataFrame(scaler.fit_transform(X_train), columns = X_train.columns)\n",
    "X_train.head()"
   ]
  },
  {
   "cell_type": "code",
   "execution_count": 29,
   "metadata": {},
   "outputs": [
    {
     "data": {
      "text/html": [
       "<div>\n",
       "<style scoped>\n",
       "    .dataframe tbody tr th:only-of-type {\n",
       "        vertical-align: middle;\n",
       "    }\n",
       "\n",
       "    .dataframe tbody tr th {\n",
       "        vertical-align: top;\n",
       "    }\n",
       "\n",
       "    .dataframe thead th {\n",
       "        text-align: right;\n",
       "    }\n",
       "</style>\n",
       "<table border=\"1\" class=\"dataframe\">\n",
       "  <thead>\n",
       "    <tr style=\"text-align: right;\">\n",
       "      <th></th>\n",
       "      <th>Loan Amount</th>\n",
       "      <th>Funded Amount</th>\n",
       "      <th>Funded Amount Investor</th>\n",
       "      <th>Term</th>\n",
       "      <th>Batch Enrolled</th>\n",
       "      <th>Interest Rate</th>\n",
       "      <th>Grade</th>\n",
       "      <th>Sub Grade</th>\n",
       "      <th>Home Ownership</th>\n",
       "      <th>Employment Duration</th>\n",
       "      <th>...</th>\n",
       "      <th>Total Received Late Fee</th>\n",
       "      <th>Recoveries</th>\n",
       "      <th>Collection Recovery Fee</th>\n",
       "      <th>Collection 12 months Medical</th>\n",
       "      <th>Application Type</th>\n",
       "      <th>Last week Pay</th>\n",
       "      <th>Accounts Delinquent</th>\n",
       "      <th>Total Collection Amount</th>\n",
       "      <th>Total Current Balance</th>\n",
       "      <th>Total Revolving Credit Limit</th>\n",
       "    </tr>\n",
       "  </thead>\n",
       "  <tbody>\n",
       "    <tr>\n",
       "      <th>0</th>\n",
       "      <td>0.525698</td>\n",
       "      <td>0.296062</td>\n",
       "      <td>0.441914</td>\n",
       "      <td>0.666667</td>\n",
       "      <td>0.450</td>\n",
       "      <td>0.311229</td>\n",
       "      <td>0.000000</td>\n",
       "      <td>0.441176</td>\n",
       "      <td>1.0</td>\n",
       "      <td>0.157028</td>\n",
       "      <td>...</td>\n",
       "      <td>0.002070</td>\n",
       "      <td>0.001948</td>\n",
       "      <td>0.000985</td>\n",
       "      <td>0.0</td>\n",
       "      <td>0.0</td>\n",
       "      <td>0.838509</td>\n",
       "      <td>0.0</td>\n",
       "      <td>0.015484</td>\n",
       "      <td>0.965721</td>\n",
       "      <td>0.093899</td>\n",
       "    </tr>\n",
       "    <tr>\n",
       "      <th>1</th>\n",
       "      <td>0.151567</td>\n",
       "      <td>0.369390</td>\n",
       "      <td>0.341641</td>\n",
       "      <td>0.666667</td>\n",
       "      <td>0.500</td>\n",
       "      <td>0.056585</td>\n",
       "      <td>0.166667</td>\n",
       "      <td>0.647059</td>\n",
       "      <td>0.0</td>\n",
       "      <td>0.059104</td>\n",
       "      <td>...</td>\n",
       "      <td>0.000970</td>\n",
       "      <td>0.001423</td>\n",
       "      <td>0.001336</td>\n",
       "      <td>0.0</td>\n",
       "      <td>0.0</td>\n",
       "      <td>0.347826</td>\n",
       "      <td>0.0</td>\n",
       "      <td>0.000645</td>\n",
       "      <td>0.365424</td>\n",
       "      <td>0.042006</td>\n",
       "    </tr>\n",
       "    <tr>\n",
       "      <th>2</th>\n",
       "      <td>0.790334</td>\n",
       "      <td>0.817882</td>\n",
       "      <td>0.312391</td>\n",
       "      <td>0.666667</td>\n",
       "      <td>0.125</td>\n",
       "      <td>0.427917</td>\n",
       "      <td>0.000000</td>\n",
       "      <td>0.352941</td>\n",
       "      <td>0.0</td>\n",
       "      <td>0.092767</td>\n",
       "      <td>...</td>\n",
       "      <td>0.000511</td>\n",
       "      <td>0.001319</td>\n",
       "      <td>0.000379</td>\n",
       "      <td>0.0</td>\n",
       "      <td>0.0</td>\n",
       "      <td>0.018634</td>\n",
       "      <td>0.0</td>\n",
       "      <td>0.016774</td>\n",
       "      <td>0.836114</td>\n",
       "      <td>0.486863</td>\n",
       "    </tr>\n",
       "    <tr>\n",
       "      <th>3</th>\n",
       "      <td>0.918215</td>\n",
       "      <td>0.256477</td>\n",
       "      <td>0.422818</td>\n",
       "      <td>0.666667</td>\n",
       "      <td>0.800</td>\n",
       "      <td>0.236642</td>\n",
       "      <td>0.000000</td>\n",
       "      <td>0.029412</td>\n",
       "      <td>1.0</td>\n",
       "      <td>0.137640</td>\n",
       "      <td>...</td>\n",
       "      <td>0.002173</td>\n",
       "      <td>0.000571</td>\n",
       "      <td>0.001291</td>\n",
       "      <td>0.0</td>\n",
       "      <td>0.0</td>\n",
       "      <td>0.130435</td>\n",
       "      <td>0.0</td>\n",
       "      <td>0.020645</td>\n",
       "      <td>0.218442</td>\n",
       "      <td>0.178511</td>\n",
       "    </tr>\n",
       "    <tr>\n",
       "      <th>4</th>\n",
       "      <td>0.215029</td>\n",
       "      <td>0.243488</td>\n",
       "      <td>0.181666</td>\n",
       "      <td>0.333333</td>\n",
       "      <td>0.725</td>\n",
       "      <td>0.212688</td>\n",
       "      <td>0.333333</td>\n",
       "      <td>0.205882</td>\n",
       "      <td>0.5</td>\n",
       "      <td>0.195515</td>\n",
       "      <td>...</td>\n",
       "      <td>0.000244</td>\n",
       "      <td>0.000492</td>\n",
       "      <td>0.000541</td>\n",
       "      <td>0.0</td>\n",
       "      <td>0.0</td>\n",
       "      <td>0.645963</td>\n",
       "      <td>0.0</td>\n",
       "      <td>0.021290</td>\n",
       "      <td>0.432676</td>\n",
       "      <td>0.602720</td>\n",
       "    </tr>\n",
       "  </tbody>\n",
       "</table>\n",
       "<p>5 rows × 33 columns</p>\n",
       "</div>"
      ],
      "text/plain": [
       "   Loan Amount  Funded Amount  Funded Amount Investor      Term  \\\n",
       "0     0.525698       0.296062                0.441914  0.666667   \n",
       "1     0.151567       0.369390                0.341641  0.666667   \n",
       "2     0.790334       0.817882                0.312391  0.666667   \n",
       "3     0.918215       0.256477                0.422818  0.666667   \n",
       "4     0.215029       0.243488                0.181666  0.333333   \n",
       "\n",
       "   Batch Enrolled  Interest Rate     Grade  Sub Grade  Home Ownership  \\\n",
       "0           0.450       0.311229  0.000000   0.441176             1.0   \n",
       "1           0.500       0.056585  0.166667   0.647059             0.0   \n",
       "2           0.125       0.427917  0.000000   0.352941             0.0   \n",
       "3           0.800       0.236642  0.000000   0.029412             1.0   \n",
       "4           0.725       0.212688  0.333333   0.205882             0.5   \n",
       "\n",
       "   Employment Duration  ...  Total Received Late Fee  Recoveries  \\\n",
       "0             0.157028  ...                 0.002070    0.001948   \n",
       "1             0.059104  ...                 0.000970    0.001423   \n",
       "2             0.092767  ...                 0.000511    0.001319   \n",
       "3             0.137640  ...                 0.002173    0.000571   \n",
       "4             0.195515  ...                 0.000244    0.000492   \n",
       "\n",
       "   Collection Recovery Fee  Collection 12 months Medical  Application Type  \\\n",
       "0                 0.000985                           0.0               0.0   \n",
       "1                 0.001336                           0.0               0.0   \n",
       "2                 0.000379                           0.0               0.0   \n",
       "3                 0.001291                           0.0               0.0   \n",
       "4                 0.000541                           0.0               0.0   \n",
       "\n",
       "   Last week Pay  Accounts Delinquent  Total Collection Amount  \\\n",
       "0       0.838509                  0.0                 0.015484   \n",
       "1       0.347826                  0.0                 0.000645   \n",
       "2       0.018634                  0.0                 0.016774   \n",
       "3       0.130435                  0.0                 0.020645   \n",
       "4       0.645963                  0.0                 0.021290   \n",
       "\n",
       "   Total Current Balance  Total Revolving Credit Limit  \n",
       "0               0.965721                      0.093899  \n",
       "1               0.365424                      0.042006  \n",
       "2               0.836114                      0.486863  \n",
       "3               0.218442                      0.178511  \n",
       "4               0.432676                      0.602720  \n",
       "\n",
       "[5 rows x 33 columns]"
      ]
     },
     "execution_count": 29,
     "metadata": {},
     "output_type": "execute_result"
    }
   ],
   "source": [
    "X_test_df =pd.DataFrame(scaler.fit_transform(X_test_df),columns=X_test_df.columns)\n",
    "X_test_df.head()"
   ]
  },
  {
   "cell_type": "markdown",
   "metadata": {},
   "source": [
    "### Visualizing the train dataset"
   ]
  },
  {
   "cell_type": "code",
   "execution_count": 30,
   "metadata": {},
   "outputs": [
    {
     "data": {
      "text/plain": [
       "array([[<matplotlib.axes._subplots.AxesSubplot object at 0x7faa8f060e90>,\n",
       "        <matplotlib.axes._subplots.AxesSubplot object at 0x7faa8f047550>,\n",
       "        <matplotlib.axes._subplots.AxesSubplot object at 0x7faa8efedfd0>,\n",
       "        <matplotlib.axes._subplots.AxesSubplot object at 0x7faa8ef30810>,\n",
       "        <matplotlib.axes._subplots.AxesSubplot object at 0x7faa8eee7b10>,\n",
       "        <matplotlib.axes._subplots.AxesSubplot object at 0x7faa8ef1fe10>],\n",
       "       [<matplotlib.axes._subplots.AxesSubplot object at 0x7faa8ee62c90>,\n",
       "        <matplotlib.axes._subplots.AxesSubplot object at 0x7faa8ee9c450>,\n",
       "        <matplotlib.axes._subplots.AxesSubplot object at 0x7faa8ee9cf10>,\n",
       "        <matplotlib.axes._subplots.AxesSubplot object at 0x7faa8ee61390>,\n",
       "        <matplotlib.axes._subplots.AxesSubplot object at 0x7faa8edc5d50>,\n",
       "        <matplotlib.axes._subplots.AxesSubplot object at 0x7faa8ed88b50>],\n",
       "       [<matplotlib.axes._subplots.AxesSubplot object at 0x7faa8ed3fe50>,\n",
       "        <matplotlib.axes._subplots.AxesSubplot object at 0x7faa8ecfb690>,\n",
       "        <matplotlib.axes._subplots.AxesSubplot object at 0x7faa8ecb3990>,\n",
       "        <matplotlib.axes._subplots.AxesSubplot object at 0x7faa8f0ce850>,\n",
       "        <matplotlib.axes._subplots.AxesSubplot object at 0x7faa8f0cb3d0>,\n",
       "        <matplotlib.axes._subplots.AxesSubplot object at 0x7faa8f11e150>],\n",
       "       [<matplotlib.axes._subplots.AxesSubplot object at 0x7faa8ec39cd0>,\n",
       "        <matplotlib.axes._subplots.AxesSubplot object at 0x7faa8ebf9510>,\n",
       "        <matplotlib.axes._subplots.AxesSubplot object at 0x7faa8ebaed10>,\n",
       "        <matplotlib.axes._subplots.AxesSubplot object at 0x7faa8eb6f550>,\n",
       "        <matplotlib.axes._subplots.AxesSubplot object at 0x7faa8eb23d50>,\n",
       "        <matplotlib.axes._subplots.AxesSubplot object at 0x7faa8eae5590>],\n",
       "       [<matplotlib.axes._subplots.AxesSubplot object at 0x7faa8eb17d90>,\n",
       "        <matplotlib.axes._subplots.AxesSubplot object at 0x7faa8eadb5d0>,\n",
       "        <matplotlib.axes._subplots.AxesSubplot object at 0x7faa8ea8edd0>,\n",
       "        <matplotlib.axes._subplots.AxesSubplot object at 0x7faa8ea50610>,\n",
       "        <matplotlib.axes._subplots.AxesSubplot object at 0x7faa8ea06e10>,\n",
       "        <matplotlib.axes._subplots.AxesSubplot object at 0x7faa8e9c6650>],\n",
       "       [<matplotlib.axes._subplots.AxesSubplot object at 0x7faa8e97ae50>,\n",
       "        <matplotlib.axes._subplots.AxesSubplot object at 0x7faa8e93b690>,\n",
       "        <matplotlib.axes._subplots.AxesSubplot object at 0x7faa8e8efe90>,\n",
       "        <matplotlib.axes._subplots.AxesSubplot object at 0x7faa8e8b36d0>,\n",
       "        <matplotlib.axes._subplots.AxesSubplot object at 0x7faa8e865ed0>,\n",
       "        <matplotlib.axes._subplots.AxesSubplot object at 0x7faa8e827710>]],\n",
       "      dtype=object)"
      ]
     },
     "execution_count": 30,
     "metadata": {},
     "output_type": "execute_result"
    },
    {
     "data": {
      "image/png": "[encoded data removed]",
      "text/plain": [
       "<Figure size 1440x720 with 36 Axes>"
      ]
     },
     "metadata": {
      "needs_background": "light"
     },
     "output_type": "display_data"
    }
   ],
   "source": [
    "#plotting histogram of the train dataframe\n",
    "train[['Loan Amount', 'Funded Amount', 'Funded Amount Investor', 'Term',\n",
    "       'Batch Enrolled', 'Interest Rate', 'Grade', 'Sub Grade',\n",
    "       'Employment Duration', 'Home Ownership', 'Verification Status',\n",
    "       'Payment Plan', 'Loan Title', 'Debit to Income',\n",
    "       'Delinquency - two years', 'Inquires - six months', 'Open Account',\n",
    "       'Public Record', 'Revolving Balance', 'Revolving Utilities',\n",
    "       'Total Accounts', 'Initial List Status', 'Total Received Interest',\n",
    "       'Total Received Late Fee', 'Recoveries', 'Collection Recovery Fee',\n",
    "       'Collection 12 months Medical', 'Application Type', 'Last week Pay',\n",
    "       'Accounts Delinquent', 'Total Collection Amount',\n",
    "       'Total Current Balance', 'Total Revolving Credit Limit', 'Loan Status']].hist(bins = 20, figsize = (20,10), color = 'r', )"
   ]
  },
  {
   "cell_type": "code",
   "execution_count": 31,
   "metadata": {},
   "outputs": [
    {
     "data": {
      "text/plain": [
       "<matplotlib.axes._subplots.AxesSubplot at 0x7faa8d333710>"
      ]
     },
     "execution_count": 31,
     "metadata": {},
     "output_type": "execute_result"
    },
    {
     "data": {
      "image/png": "[encoded data removed]",
      "text/plain": [
       "<Figure size 2160x1080 with 2 Axes>"
      ]
     },
     "metadata": {
      "needs_background": "light"
     },
     "output_type": "display_data"
    }
   ],
   "source": [
    "corr = X_train.corr()\n",
    "top_features = corr.index\n",
    "plt.figure(figsize=(30,15))\n",
    "sns.heatmap(X_train[top_features].corr(),annot=True)"
   ]
  },
  {
   "cell_type": "code",
   "execution_count": 32,
   "metadata": {},
   "outputs": [],
   "source": [
    "from sklearn.model_selection import train_test_split\n",
    "X_train, X_test, y_train, y_test = train_test_split(X_train, y_train, test_size = 0.25)"
   ]
  },
  {
   "cell_type": "markdown",
   "metadata": {},
   "source": [
    "### performing features selection"
   ]
  },
  {
   "cell_type": "code",
   "execution_count": 33,
   "metadata": {},
   "outputs": [
    {
     "data": {
      "text/plain": [
       "ExtraTreesClassifier()"
      ]
     },
     "execution_count": 33,
     "metadata": {},
     "output_type": "execute_result"
    }
   ],
   "source": [
    "from sklearn.ensemble import ExtraTreesClassifier\n",
    "import matplotlib.pyplot as plt\n",
    "model=ExtraTreesClassifier()\n",
    "model.fit(X_train,y_train)"
   ]
  },
  {
   "cell_type": "code",
   "execution_count": 34,
   "metadata": {},
   "outputs": [
    {
     "name": "stdout",
     "output_type": "stream",
     "text": [
      "[0.04118771 0.04093348 0.04182558 0.01268156 0.03962745 0.04106906\n",
      " 0.0344011  0.04030403 0.01713108 0.04177773 0.02571639 0.\n",
      " 0.03380735 0.04060448 0.02326841 0.01503719 0.03941219 0.01120171\n",
      " 0.04030331 0.04041989 0.04102538 0.00850753 0.04085128 0.04082752\n",
      " 0.04040145 0.03952428 0.00440353 0.00081346 0.04092134 0.\n",
      " 0.04028696 0.04080153 0.04092605]\n"
     ]
    }
   ],
   "source": [
    "print(model.feature_importances_)"
   ]
  },
  {
   "cell_type": "code",
   "execution_count": 35,
   "metadata": {},
   "outputs": [
    {
     "data": {
      "image/png": "[encoded data removed]",
      "text/plain": [
       "<Figure size 432x288 with 1 Axes>"
      ]
     },
     "metadata": {
      "needs_background": "light"
     },
     "output_type": "display_data"
    },
    {
     "data": {
      "text/plain": [
       "<Figure size 1296x720 with 0 Axes>"
      ]
     },
     "metadata": {},
     "output_type": "display_data"
    }
   ],
   "source": [
    "ranked_features=pd.Series(model.feature_importances_,index=X_train.columns)\n",
    "ranked_features.nlargest(33).plot(kind='barh')\n",
    "plt.figure(figsize=[18,10])\n",
    "plt.show()"
   ]
  },
  {
   "cell_type": "code",
   "execution_count": 36,
   "metadata": {
    "scrolled": true
   },
   "outputs": [
    {
     "data": {
      "text/plain": [
       "Funded Amount Investor          0.041826\n",
       "Employment Duration             0.041778\n",
       "Loan Amount                     0.041188\n",
       "Interest Rate                   0.041069\n",
       "Total Accounts                  0.041025\n",
       "Funded Amount                   0.040933\n",
       "Total Revolving Credit Limit    0.040926\n",
       "Last week Pay                   0.040921\n",
       "Total Received Interest         0.040851\n",
       "Total Received Late Fee         0.040828\n",
       "Total Current Balance           0.040802\n",
       "Debit to Income                 0.040604\n",
       "Revolving Utilities             0.040420\n",
       "Recoveries                      0.040401\n",
       "Sub Grade                       0.040304\n",
       "Revolving Balance               0.040303\n",
       "Total Collection Amount         0.040287\n",
       "Batch Enrolled                  0.039627\n",
       "Collection Recovery Fee         0.039524\n",
       "Open Account                    0.039412\n",
       "Grade                           0.034401\n",
       "Loan Title                      0.033807\n",
       "Verification Status             0.025716\n",
       "Delinquency - two years         0.023268\n",
       "Home Ownership                  0.017131\n",
       "dtype: float64"
      ]
     },
     "execution_count": 36,
     "metadata": {},
     "output_type": "execute_result"
    }
   ],
   "source": [
    "ranked_features.nlargest(25,keep='all')"
   ]
  },
  {
   "cell_type": "code",
   "execution_count": 37,
   "metadata": {},
   "outputs": [],
   "source": [
    "#selecting highly correlated features and removing them\n",
    "threshold=0.60\n",
    "def correlation(dataset,threshold):\n",
    "    col_corr=set()\n",
    "    corr_matrix=dataset.corr()\n",
    "    for i in range(len(corr_matrix.columns)):\n",
    "        for j in range(i):\n",
    "            if abs(corr_matrix.iloc[i,j])>threshold:\n",
    "                colname=corr_matrix.colname[i]\n",
    "                col_corr.add(colname)\n",
    "    return col_corr"
   ]
  },
  {
   "cell_type": "code",
   "execution_count": 38,
   "metadata": {},
   "outputs": [
    {
     "data": {
      "text/plain": [
       "0"
      ]
     },
     "execution_count": 38,
     "metadata": {},
     "output_type": "execute_result"
    }
   ],
   "source": [
    "corr_features = correlation(X_train, threshold)\n",
    "len(set(corr_features))"
   ]
  },
  {
   "cell_type": "markdown",
   "metadata": {},
   "source": [
    "- Features are not correlated with each other"
   ]
  },
  {
   "cell_type": "code",
   "execution_count": 39,
   "metadata": {},
   "outputs": [
    {
     "data": {
      "text/html": [
       "<div>\n",
       "<style scoped>\n",
       "    .dataframe tbody tr th:only-of-type {\n",
       "        vertical-align: middle;\n",
       "    }\n",
       "\n",
       "    .dataframe tbody tr th {\n",
       "        vertical-align: top;\n",
       "    }\n",
       "\n",
       "    .dataframe thead th {\n",
       "        text-align: right;\n",
       "    }\n",
       "</style>\n",
       "<table border=\"1\" class=\"dataframe\">\n",
       "  <thead>\n",
       "    <tr style=\"text-align: right;\">\n",
       "      <th></th>\n",
       "      <th>Loan Amount</th>\n",
       "      <th>Funded Amount</th>\n",
       "      <th>Funded Amount Investor</th>\n",
       "      <th>Term</th>\n",
       "      <th>Batch Enrolled</th>\n",
       "      <th>Interest Rate</th>\n",
       "      <th>Grade</th>\n",
       "      <th>Sub Grade</th>\n",
       "      <th>Home Ownership</th>\n",
       "      <th>Employment Duration</th>\n",
       "      <th>...</th>\n",
       "      <th>Total Received Late Fee</th>\n",
       "      <th>Recoveries</th>\n",
       "      <th>Collection Recovery Fee</th>\n",
       "      <th>Collection 12 months Medical</th>\n",
       "      <th>Application Type</th>\n",
       "      <th>Last week Pay</th>\n",
       "      <th>Accounts Delinquent</th>\n",
       "      <th>Total Collection Amount</th>\n",
       "      <th>Total Current Balance</th>\n",
       "      <th>Total Revolving Credit Limit</th>\n",
       "    </tr>\n",
       "  </thead>\n",
       "  <tbody>\n",
       "    <tr>\n",
       "      <th>59609</th>\n",
       "      <td>0.226312</td>\n",
       "      <td>0.493624</td>\n",
       "      <td>0.495314</td>\n",
       "      <td>0.5</td>\n",
       "      <td>0.150</td>\n",
       "      <td>0.127805</td>\n",
       "      <td>0.500000</td>\n",
       "      <td>0.764706</td>\n",
       "      <td>1.0</td>\n",
       "      <td>0.177716</td>\n",
       "      <td>...</td>\n",
       "      <td>0.001161</td>\n",
       "      <td>0.626528</td>\n",
       "      <td>0.006327</td>\n",
       "      <td>0.0</td>\n",
       "      <td>0.0</td>\n",
       "      <td>0.633540</td>\n",
       "      <td>0.0</td>\n",
       "      <td>0.010036</td>\n",
       "      <td>0.915764</td>\n",
       "      <td>0.038189</td>\n",
       "    </tr>\n",
       "    <tr>\n",
       "      <th>52371</th>\n",
       "      <td>0.306823</td>\n",
       "      <td>0.175500</td>\n",
       "      <td>0.364253</td>\n",
       "      <td>1.0</td>\n",
       "      <td>0.625</td>\n",
       "      <td>0.265825</td>\n",
       "      <td>0.333333</td>\n",
       "      <td>0.500000</td>\n",
       "      <td>1.0</td>\n",
       "      <td>0.155899</td>\n",
       "      <td>...</td>\n",
       "      <td>0.000823</td>\n",
       "      <td>0.001133</td>\n",
       "      <td>0.006135</td>\n",
       "      <td>0.0</td>\n",
       "      <td>0.0</td>\n",
       "      <td>0.552795</td>\n",
       "      <td>0.0</td>\n",
       "      <td>0.016880</td>\n",
       "      <td>0.192479</td>\n",
       "      <td>0.604901</td>\n",
       "    </tr>\n",
       "    <tr>\n",
       "      <th>66760</th>\n",
       "      <td>0.609504</td>\n",
       "      <td>0.638164</td>\n",
       "      <td>0.430135</td>\n",
       "      <td>0.5</td>\n",
       "      <td>0.250</td>\n",
       "      <td>0.446091</td>\n",
       "      <td>0.333333</td>\n",
       "      <td>0.588235</td>\n",
       "      <td>0.5</td>\n",
       "      <td>0.433271</td>\n",
       "      <td>...</td>\n",
       "      <td>0.002671</td>\n",
       "      <td>0.001703</td>\n",
       "      <td>0.007859</td>\n",
       "      <td>0.0</td>\n",
       "      <td>0.0</td>\n",
       "      <td>0.062112</td>\n",
       "      <td>0.0</td>\n",
       "      <td>0.016880</td>\n",
       "      <td>0.144828</td>\n",
       "      <td>0.171215</td>\n",
       "    </tr>\n",
       "    <tr>\n",
       "      <th>25054</th>\n",
       "      <td>0.315761</td>\n",
       "      <td>0.536725</td>\n",
       "      <td>0.305431</td>\n",
       "      <td>1.0</td>\n",
       "      <td>0.550</td>\n",
       "      <td>0.026264</td>\n",
       "      <td>0.166667</td>\n",
       "      <td>0.088235</td>\n",
       "      <td>0.0</td>\n",
       "      <td>0.224035</td>\n",
       "      <td>...</td>\n",
       "      <td>0.000811</td>\n",
       "      <td>0.001524</td>\n",
       "      <td>0.005113</td>\n",
       "      <td>0.0</td>\n",
       "      <td>0.0</td>\n",
       "      <td>0.273292</td>\n",
       "      <td>0.0</td>\n",
       "      <td>0.020073</td>\n",
       "      <td>0.848539</td>\n",
       "      <td>0.118254</td>\n",
       "    </tr>\n",
       "    <tr>\n",
       "      <th>52774</th>\n",
       "      <td>0.593446</td>\n",
       "      <td>0.658777</td>\n",
       "      <td>0.436748</td>\n",
       "      <td>1.0</td>\n",
       "      <td>0.400</td>\n",
       "      <td>0.349525</td>\n",
       "      <td>0.333333</td>\n",
       "      <td>0.352941</td>\n",
       "      <td>0.0</td>\n",
       "      <td>0.114259</td>\n",
       "      <td>...</td>\n",
       "      <td>0.001190</td>\n",
       "      <td>0.000384</td>\n",
       "      <td>0.001059</td>\n",
       "      <td>0.0</td>\n",
       "      <td>0.0</td>\n",
       "      <td>0.372671</td>\n",
       "      <td>0.0</td>\n",
       "      <td>0.020529</td>\n",
       "      <td>0.047094</td>\n",
       "      <td>0.326730</td>\n",
       "    </tr>\n",
       "  </tbody>\n",
       "</table>\n",
       "<p>5 rows × 33 columns</p>\n",
       "</div>"
      ],
      "text/plain": [
       "       Loan Amount  Funded Amount  Funded Amount Investor  Term  \\\n",
       "59609     0.226312       0.493624                0.495314   0.5   \n",
       "52371     0.306823       0.175500                0.364253   1.0   \n",
       "66760     0.609504       0.638164                0.430135   0.5   \n",
       "25054     0.315761       0.536725                0.305431   1.0   \n",
       "52774     0.593446       0.658777                0.436748   1.0   \n",
       "\n",
       "       Batch Enrolled  Interest Rate     Grade  Sub Grade  Home Ownership  \\\n",
       "59609           0.150       0.127805  0.500000   0.764706             1.0   \n",
       "52371           0.625       0.265825  0.333333   0.500000             1.0   \n",
       "66760           0.250       0.446091  0.333333   0.588235             0.5   \n",
       "25054           0.550       0.026264  0.166667   0.088235             0.0   \n",
       "52774           0.400       0.349525  0.333333   0.352941             0.0   \n",
       "\n",
       "       Employment Duration  ...  Total Received Late Fee  Recoveries  \\\n",
       "59609             0.177716  ...                 0.001161    0.626528   \n",
       "52371             0.155899  ...                 0.000823    0.001133   \n",
       "66760             0.433271  ...                 0.002671    0.001703   \n",
       "25054             0.224035  ...                 0.000811    0.001524   \n",
       "52774             0.114259  ...                 0.001190    0.000384   \n",
       "\n",
       "       Collection Recovery Fee  Collection 12 months Medical  \\\n",
       "59609                 0.006327                           0.0   \n",
       "52371                 0.006135                           0.0   \n",
       "66760                 0.007859                           0.0   \n",
       "25054                 0.005113                           0.0   \n",
       "52774                 0.001059                           0.0   \n",
       "\n",
       "       Application Type  Last week Pay  Accounts Delinquent  \\\n",
       "59609               0.0       0.633540                  0.0   \n",
       "52371               0.0       0.552795                  0.0   \n",
       "66760               0.0       0.062112                  0.0   \n",
       "25054               0.0       0.273292                  0.0   \n",
       "52774               0.0       0.372671                  0.0   \n",
       "\n",
       "       Total Collection Amount  Total Current Balance  \\\n",
       "59609                 0.010036               0.915764   \n",
       "52371                 0.016880               0.192479   \n",
       "66760                 0.016880               0.144828   \n",
       "25054                 0.020073               0.848539   \n",
       "52774                 0.020529               0.047094   \n",
       "\n",
       "       Total Revolving Credit Limit  \n",
       "59609                      0.038189  \n",
       "52371                      0.604901  \n",
       "66760                      0.171215  \n",
       "25054                      0.118254  \n",
       "52774                      0.326730  \n",
       "\n",
       "[5 rows x 33 columns]"
      ]
     },
     "execution_count": 39,
     "metadata": {},
     "output_type": "execute_result"
    }
   ],
   "source": [
    "X_train.head()"
   ]
  },
  {
   "cell_type": "code",
   "execution_count": 40,
   "metadata": {},
   "outputs": [
    {
     "data": {
      "text/plain": [
       "Index(['Loan Amount', 'Funded Amount', 'Funded Amount Investor', 'Term',\n",
       "       'Batch Enrolled', 'Interest Rate', 'Grade', 'Sub Grade',\n",
       "       'Home Ownership', 'Employment Duration', 'Verification Status',\n",
       "       'Payment Plan', 'Loan Title', 'Debit to Income',\n",
       "       'Delinquency - two years', 'Inquires - six months', 'Open Account',\n",
       "       'Public Record', 'Revolving Balance', 'Revolving Utilities',\n",
       "       'Total Accounts', 'Initial List Status', 'Total Received Interest',\n",
       "       'Total Received Late Fee', 'Recoveries', 'Collection Recovery Fee',\n",
       "       'Collection 12 months Medical', 'Application Type', 'Last week Pay',\n",
       "       'Accounts Delinquent', 'Total Collection Amount',\n",
       "       'Total Current Balance', 'Total Revolving Credit Limit'],\n",
       "      dtype='object')"
      ]
     },
     "execution_count": 40,
     "metadata": {},
     "output_type": "execute_result"
    }
   ],
   "source": [
    "X_train.columns"
   ]
  },
  {
   "cell_type": "code",
   "execution_count": 41,
   "metadata": {},
   "outputs": [
    {
     "data": {
      "text/plain": [
       "(50597, 25)"
      ]
     },
     "execution_count": 41,
     "metadata": {},
     "output_type": "execute_result"
    }
   ],
   "source": [
    "X_train = X_train.drop(columns = ['Inquires - six months', 'Term', 'Public Record', 'Initial List Status', 'Collection 12 months Medical', 'Application Type', 'Payment Plan', 'Accounts Delinquent'], axis = 1)\n",
    "X_train.shape"
   ]
  },
  {
   "cell_type": "code",
   "execution_count": 42,
   "metadata": {},
   "outputs": [
    {
     "data": {
      "text/plain": [
       "(16866, 25)"
      ]
     },
     "execution_count": 42,
     "metadata": {},
     "output_type": "execute_result"
    }
   ],
   "source": [
    "X_test = X_test.drop(columns = ['Inquires - six months', 'Term', 'Public Record', 'Initial List Status', 'Collection 12 months Medical', 'Application Type', 'Payment Plan', 'Accounts Delinquent'], axis = 1)\n",
    "X_test.shape"
   ]
  },
  {
   "cell_type": "code",
   "execution_count": 43,
   "metadata": {},
   "outputs": [
    {
     "data": {
      "text/plain": [
       "(28913, 25)"
      ]
     },
     "execution_count": 43,
     "metadata": {},
     "output_type": "execute_result"
    }
   ],
   "source": [
    "#FINAL TEST DATAFRAME USED FOR PREDICTION FOR SUNMISSION\n",
    "X_test_df= X_test_df.drop(columns = ['Inquires - six months', 'Term', 'Public Record', 'Initial List Status', 'Collection 12 months Medical', 'Application Type', 'Payment Plan', 'Accounts Delinquent'], axis = 1)\n",
    "X_test_df.shape"
   ]
  },
  {
   "cell_type": "markdown",
   "metadata": {},
   "source": [
    "\n",
    "\n",
    "\n",
    "## MODEL DEVELOPMENT"
   ]
  },
  {
   "cell_type": "code",
   "execution_count": 44,
   "metadata": {},
   "outputs": [
    {
     "data": {
      "text/plain": [
       "(50597, 25)"
      ]
     },
     "execution_count": 44,
     "metadata": {},
     "output_type": "execute_result"
    }
   ],
   "source": [
    "X_train.shape"
   ]
  },
  {
   "cell_type": "code",
   "execution_count": 45,
   "metadata": {},
   "outputs": [
    {
     "data": {
      "text/plain": [
       "(16866, 25)"
      ]
     },
     "execution_count": 45,
     "metadata": {},
     "output_type": "execute_result"
    }
   ],
   "source": [
    "X_test.shape"
   ]
  },
  {
   "cell_type": "code",
   "execution_count": 46,
   "metadata": {},
   "outputs": [
    {
     "data": {
      "text/plain": [
       "(50597,)"
      ]
     },
     "execution_count": 46,
     "metadata": {},
     "output_type": "execute_result"
    }
   ],
   "source": [
    "y_train.shape"
   ]
  },
  {
   "cell_type": "code",
   "execution_count": 47,
   "metadata": {
    "scrolled": true
   },
   "outputs": [
    {
     "data": {
      "text/plain": [
       "(16866,)"
      ]
     },
     "execution_count": 47,
     "metadata": {},
     "output_type": "execute_result"
    }
   ],
   "source": [
    "y_test.shape"
   ]
  },
  {
   "cell_type": "code",
   "execution_count": 48,
   "metadata": {},
   "outputs": [
    {
     "data": {
      "text/plain": [
       "0    45896\n",
       "1     4701\n",
       "Name: Loan Status, dtype: int64"
      ]
     },
     "execution_count": 48,
     "metadata": {},
     "output_type": "execute_result"
    }
   ],
   "source": [
    "y_train.value_counts()"
   ]
  },
  {
   "cell_type": "code",
   "execution_count": 49,
   "metadata": {},
   "outputs": [
    {
     "data": {
      "text/plain": [
       "0    15326\n",
       "1     1540\n",
       "Name: Loan Status, dtype: int64"
      ]
     },
     "execution_count": 49,
     "metadata": {},
     "output_type": "execute_result"
    }
   ],
   "source": [
    "y_test.value_counts()"
   ]
  },
  {
   "cell_type": "code",
   "execution_count": 50,
   "metadata": {},
   "outputs": [
    {
     "data": {
      "text/plain": [
       "Counter({0: 45896, 1: 4701})"
      ]
     },
     "execution_count": 50,
     "metadata": {},
     "output_type": "execute_result"
    }
   ],
   "source": [
    "from imblearn.combine import SMOTETomek\n",
    "from collections import Counter\n",
    "Counter(y_train)"
   ]
  },
  {
   "cell_type": "code",
   "execution_count": 51,
   "metadata": {},
   "outputs": [
    {
     "name": "stdout",
     "output_type": "stream",
     "text": [
      "The number of classes before fit Counter({0: 45896, 1: 4701})\n",
      "The number of classes after fit Counter({0: 45891, 1: 34417})\n"
     ]
    }
   ],
   "source": [
    "#dealing with imbalance in the dataset\n",
    "os=SMOTETomek(0.75)\n",
    "X_train_smtom,y_train_smtom=os.fit_resample(X_train,y_train)\n",
    "print(\"The number of classes before fit {}\".format(Counter(y_train)))\n",
    "print(\"The number of classes after fit {}\".format(Counter(y_train_smtom)))"
   ]
  },
  {
   "cell_type": "code",
   "execution_count": 52,
   "metadata": {},
   "outputs": [
    {
     "data": {
      "text/plain": [
       "LogisticRegression()"
      ]
     },
     "execution_count": 52,
     "metadata": {},
     "output_type": "execute_result"
    }
   ],
   "source": [
    "#importing our logistic regression form sklean\n",
    "from sklearn.linear_model import LogisticRegression\n",
    "lr_classifier= LogisticRegression()\n",
    "lr_classifier.fit(X_train_smtom, y_train_smtom)"
   ]
  },
  {
   "cell_type": "code",
   "execution_count": 53,
   "metadata": {},
   "outputs": [
    {
     "data": {
      "text/plain": [
       "0.5638790655974498"
      ]
     },
     "execution_count": 53,
     "metadata": {},
     "output_type": "execute_result"
    }
   ],
   "source": [
    "#scores on the training dataset\n",
    "lr_classifier.score(X_train_smtom, y_train_smtom)"
   ]
  },
  {
   "cell_type": "code",
   "execution_count": 54,
   "metadata": {
    "scrolled": true
   },
   "outputs": [
    {
     "data": {
      "text/plain": [
       "0.8869322898138267"
      ]
     },
     "execution_count": 54,
     "metadata": {},
     "output_type": "execute_result"
    }
   ],
   "source": [
    "#scores on the testing dataset\n",
    "lr_classifier.score(X_test, y_test)"
   ]
  },
  {
   "cell_type": "code",
   "execution_count": 55,
   "metadata": {},
   "outputs": [],
   "source": [
    "#probabilities on training data\n",
    "pred_prob1 = lr_classifier.predict_proba(X_train_smtom)"
   ]
  },
  {
   "cell_type": "code",
   "execution_count": 56,
   "metadata": {},
   "outputs": [
    {
     "data": {
      "text/plain": [
       "array([[0.60550922, 0.39449078],\n",
       "       [0.52613244, 0.47386756],\n",
       "       [0.59101857, 0.40898143],\n",
       "       ...,\n",
       "       [0.55057951, 0.44942049],\n",
       "       [0.54211403, 0.45788597],\n",
       "       [0.57945189, 0.42054811]])"
      ]
     },
     "execution_count": 56,
     "metadata": {},
     "output_type": "execute_result"
    }
   ],
   "source": [
    "pred_prob1"
   ]
  },
  {
   "cell_type": "code",
   "execution_count": 57,
   "metadata": {},
   "outputs": [],
   "source": [
    "#probabilities on testing data\n",
    "pred_prob2 = lr_classifier.predict_proba(X_test)"
   ]
  },
  {
   "cell_type": "code",
   "execution_count": 58,
   "metadata": {},
   "outputs": [
    {
     "data": {
      "text/plain": [
       "array([[0.56987113, 0.43012887],\n",
       "       [0.55550092, 0.44449908],\n",
       "       [0.62143101, 0.37856899],\n",
       "       ...,\n",
       "       [0.51473973, 0.48526027],\n",
       "       [0.61255935, 0.38744065],\n",
       "       [0.65601726, 0.34398274]])"
      ]
     },
     "execution_count": 58,
     "metadata": {},
     "output_type": "execute_result"
    }
   ],
   "source": [
    "pred_prob2"
   ]
  },
  {
   "cell_type": "code",
   "execution_count": 59,
   "metadata": {
    "scrolled": true
   },
   "outputs": [
    {
     "name": "stdout",
     "output_type": "stream",
     "text": [
      "[[14902   424]\n",
      " [ 1483    57]]\n",
      "0.8869322898138267\n",
      "              precision    recall  f1-score   support\n",
      "\n",
      "           0       0.91      0.97      0.94     15326\n",
      "           1       0.12      0.04      0.06      1540\n",
      "\n",
      "    accuracy                           0.89     16866\n",
      "   macro avg       0.51      0.50      0.50     16866\n",
      "weighted avg       0.84      0.89      0.86     16866\n",
      "\n"
     ]
    }
   ],
   "source": [
    "from sklearn.metrics import confusion_matrix,classification_report,accuracy_score\n",
    "y_pred = lr_classifier.predict(X_test)\n",
    "print(confusion_matrix(y_test, y_pred))\n",
    "print(accuracy_score(y_test,y_pred))\n",
    "print(classification_report(y_test,y_pred))"
   ]
  },
  {
   "cell_type": "code",
   "execution_count": 60,
   "metadata": {},
   "outputs": [
    {
     "name": "stdout",
     "output_type": "stream",
     "text": [
      "Accuracy: 90.87 %\n",
      "Standard Deviation: 0.00 %\n"
     ]
    }
   ],
   "source": [
    "#performing cross validation\n",
    "from sklearn.model_selection import cross_val_score\n",
    "accuracies = cross_val_score(estimator = lr_classifier, X = X_test, y = y_test, cv = 10)\n",
    "print(\"Accuracy: {:.2f} %\".format(accuracies.mean()*100))\n",
    "print(\"Standard Deviation: {:.2f} %\".format(accuracies.std()*100))"
   ]
  },
  {
   "cell_type": "code",
   "execution_count": 61,
   "metadata": {
    "scrolled": true
   },
   "outputs": [
    {
     "data": {
      "text/plain": [
       "<sklearn.metrics._plot.confusion_matrix.ConfusionMatrixDisplay at 0x7faa82941f10>"
      ]
     },
     "execution_count": 61,
     "metadata": {},
     "output_type": "execute_result"
    },
    {
     "data": {
      "image/png": "[encoded data removed]",
      "text/plain": [
       "<Figure size 432x288 with 2 Axes>"
      ]
     },
     "metadata": {
      "needs_background": "light"
     },
     "output_type": "display_data"
    }
   ],
   "source": [
    "#plotting confusion matrix\n",
    "from sklearn.metrics import plot_confusion_matrix\n",
    "plot_confusion_matrix(lr_classifier, X_test, y_test)"
   ]
  },
  {
   "cell_type": "code",
   "execution_count": 62,
   "metadata": {},
   "outputs": [
    {
     "name": "stdout",
     "output_type": "stream",
     "text": [
      "log loss on training is:  0.6792997390952233\n"
     ]
    }
   ],
   "source": [
    "#running log loss on training dataset\n",
    "from sklearn.metrics import log_loss\n",
    "print('log loss on training is: ', log_loss(y_train_smtom, pred_prob1))"
   ]
  },
  {
   "cell_type": "code",
   "execution_count": 63,
   "metadata": {},
   "outputs": [
    {
     "name": "stdout",
     "output_type": "stream",
     "text": [
      "log loss on testing is:  0.5853814735714642\n"
     ]
    }
   ],
   "source": [
    "#running log loss on testing dataset\n",
    "\n",
    "print('log loss on testing is: ', log_loss(y_test, pred_prob2))"
   ]
  },
  {
   "cell_type": "markdown",
   "metadata": {},
   "source": [
    "# USING RANDOMFOREST MODEL"
   ]
  },
  {
   "cell_type": "code",
   "execution_count": 64,
   "metadata": {},
   "outputs": [
    {
     "data": {
      "text/plain": [
       "RandomForestClassifier(random_state=42)"
      ]
     },
     "execution_count": 64,
     "metadata": {},
     "output_type": "execute_result"
    }
   ],
   "source": [
    "from sklearn.ensemble import RandomForestClassifier\n",
    "\n",
    "rf_classifier = RandomForestClassifier(random_state=42)\n",
    "rf_classifier.fit(X_train_smtom, y_train_smtom)"
   ]
  },
  {
   "cell_type": "code",
   "execution_count": 65,
   "metadata": {},
   "outputs": [
    {
     "data": {
      "text/plain": [
       "1.0"
      ]
     },
     "execution_count": 65,
     "metadata": {},
     "output_type": "execute_result"
    }
   ],
   "source": [
    "#scores on the training dataset\n",
    "rf_classifier.score(X_train_smtom, y_train_smtom)"
   ]
  },
  {
   "cell_type": "code",
   "execution_count": 66,
   "metadata": {},
   "outputs": [
    {
     "data": {
      "text/plain": [
       "0.9059053717538242"
      ]
     },
     "execution_count": 66,
     "metadata": {},
     "output_type": "execute_result"
    }
   ],
   "source": [
    "#scores on the testing dataset\n",
    "rf_classifier.score(X_test, y_test)"
   ]
  },
  {
   "cell_type": "code",
   "execution_count": 67,
   "metadata": {},
   "outputs": [],
   "source": [
    "#probabilities on training data\n",
    "pred_prob3 = rf_classifier.predict_proba(X_train_smtom)"
   ]
  },
  {
   "cell_type": "code",
   "execution_count": 68,
   "metadata": {},
   "outputs": [
    {
     "data": {
      "text/plain": [
       "array([[0.94, 0.06],\n",
       "       [0.94, 0.06],\n",
       "       [0.87, 0.13],\n",
       "       ...,\n",
       "       [0.  , 1.  ],\n",
       "       [0.12, 0.88],\n",
       "       [0.05, 0.95]])"
      ]
     },
     "execution_count": 68,
     "metadata": {},
     "output_type": "execute_result"
    }
   ],
   "source": [
    "pred_prob3"
   ]
  },
  {
   "cell_type": "code",
   "execution_count": 69,
   "metadata": {},
   "outputs": [],
   "source": [
    "#probabilities on testing data\n",
    "pred_prob4 = rf_classifier.predict_proba(X_test)"
   ]
  },
  {
   "cell_type": "code",
   "execution_count": 70,
   "metadata": {},
   "outputs": [
    {
     "data": {
      "text/plain": [
       "array([[0.8 , 0.2 ],\n",
       "       [0.88, 0.12],\n",
       "       [0.81, 0.19],\n",
       "       ...,\n",
       "       [0.91, 0.09],\n",
       "       [0.86, 0.14],\n",
       "       [0.77, 0.23]])"
      ]
     },
     "execution_count": 70,
     "metadata": {},
     "output_type": "execute_result"
    }
   ],
   "source": [
    "pred_prob4"
   ]
  },
  {
   "cell_type": "code",
   "execution_count": 132,
   "metadata": {},
   "outputs": [
    {
     "name": "stdout",
     "output_type": "stream",
     "text": [
      "[[2260    0]\n",
      " [   0 1756]]\n",
      "1.0\n",
      "              precision    recall  f1-score   support\n",
      "\n",
      "           0       1.00      1.00      1.00      2260\n",
      "           1       1.00      1.00      1.00      1756\n",
      "\n",
      "    accuracy                           1.00      4016\n",
      "   macro avg       1.00      1.00      1.00      4016\n",
      "weighted avg       1.00      1.00      1.00      4016\n",
      "\n"
     ]
    }
   ],
   "source": [
    "from sklearn.metrics import confusion_matrix,classification_report,accuracy_score\n",
    "y_pred1 = rf_classifier.predict(X_test)\n",
    "print(confusion_matrix(y_test,y_pred1))\n",
    "print(accuracy_score(y_test,y_pred1))\n",
    "print(classification_report(y_test,y_pred1))"
   ]
  },
  {
   "cell_type": "code",
   "execution_count": 72,
   "metadata": {},
   "outputs": [
    {
     "name": "stdout",
     "output_type": "stream",
     "text": [
      "Accuracy: 93.03 %\n",
      "Standard Deviation: 10.80 %\n"
     ]
    }
   ],
   "source": [
    "\n",
    "#performing cross validation\n",
    "from sklearn.model_selection import cross_val_score\n",
    "accuracies = cross_val_score(estimator = rf_classifier, X = X_train_smtom, y = y_train_smtom, cv = 10)\n",
    "print(\"Accuracy: {:.2f} %\".format(accuracies.mean()*100))\n",
    "print(\"Standard Deviation: {:.2f} %\".format(accuracies.std()*100))"
   ]
  },
  {
   "cell_type": "code",
   "execution_count": 73,
   "metadata": {
    "scrolled": true
   },
   "outputs": [
    {
     "data": {
      "text/plain": [
       "<sklearn.metrics._plot.confusion_matrix.ConfusionMatrixDisplay at 0x7faa83062a90>"
      ]
     },
     "execution_count": 73,
     "metadata": {},
     "output_type": "execute_result"
    },
    {
     "data": {
      "image/png": "[encoded data removed]",
      "text/plain": [
       "<Figure size 432x288 with 2 Axes>"
      ]
     },
     "metadata": {
      "needs_background": "light"
     },
     "output_type": "display_data"
    }
   ],
   "source": [
    "#plotting confusion matrix\n",
    "from sklearn.metrics import plot_confusion_matrix\n",
    "plot_confusion_matrix(rf_classifier, X_test, y_test)"
   ]
  },
  {
   "cell_type": "code",
   "execution_count": 74,
   "metadata": {},
   "outputs": [
    {
     "name": "stdout",
     "output_type": "stream",
     "text": [
      "log loss on training is:  0.07453528371294045\n"
     ]
    }
   ],
   "source": [
    "#running log loss on training dataset\n",
    "from sklearn.metrics import log_loss\n",
    "print('log loss on training is: ', log_loss(y_train_smtom, pred_prob3))"
   ]
  },
  {
   "cell_type": "code",
   "execution_count": 75,
   "metadata": {},
   "outputs": [
    {
     "name": "stdout",
     "output_type": "stream",
     "text": [
      "log loss on testing is:  0.343372452289214\n"
     ]
    }
   ],
   "source": [
    "#running log loss on testing dataset\n",
    "print('log loss on testing is: ', log_loss(y_test, pred_prob4 ))"
   ]
  },
  {
   "cell_type": "markdown",
   "metadata": {},
   "source": [
    "# USING XGBOOST MODEL"
   ]
  },
  {
   "cell_type": "code",
   "execution_count": 76,
   "metadata": {},
   "outputs": [
    {
     "name": "stdout",
     "output_type": "stream",
     "text": [
      "[14:22:22] WARNING: ../src/learner.cc:1115: Starting in XGBoost 1.3.0, the default evaluation metric used with the objective 'binary:logistic' was changed from 'error' to 'logloss'. Explicitly set eval_metric if you'd like to restore the old behavior.\n"
     ]
    },
    {
     "data": {
      "text/plain": [
       "XGBClassifier(base_score=0.5, booster='gbtree', colsample_bylevel=1,\n",
       "              colsample_bynode=1, colsample_bytree=1, enable_categorical=False,\n",
       "              gamma=0, gpu_id=-1, importance_type=None,\n",
       "              interaction_constraints='', learning_rate=0.300000012,\n",
       "              max_delta_step=0, max_depth=6, min_child_weight=1, missing=nan,\n",
       "              monotone_constraints='()', n_estimators=100, n_jobs=2,\n",
       "              num_parallel_tree=1, predictor='auto', random_state=0,\n",
       "              reg_alpha=0, reg_lambda=1, scale_pos_weight=1, subsample=1,\n",
       "              tree_method='exact', validate_parameters=1, verbosity=None)"
      ]
     },
     "execution_count": 76,
     "metadata": {},
     "output_type": "execute_result"
    }
   ],
   "source": [
    "from xgboost import XGBClassifier\n",
    "\n",
    "xgb_classifier = XGBClassifier()\n",
    "xgb_classifier.fit(X_train_smtom, y_train_smtom)"
   ]
  },
  {
   "cell_type": "code",
   "execution_count": 77,
   "metadata": {},
   "outputs": [
    {
     "data": {
      "text/plain": [
       "0.9424590327240125"
      ]
     },
     "execution_count": 77,
     "metadata": {},
     "output_type": "execute_result"
    }
   ],
   "source": [
    "#scores on the training data\n",
    "xgb_classifier.score(X_train_smtom, y_train_smtom)"
   ]
  },
  {
   "cell_type": "code",
   "execution_count": 78,
   "metadata": {},
   "outputs": [
    {
     "data": {
      "text/plain": [
       "0.9060832443970117"
      ]
     },
     "execution_count": 78,
     "metadata": {},
     "output_type": "execute_result"
    }
   ],
   "source": [
    "# scores on the testing data\n",
    "xgb_classifier.score(X_test, y_test)"
   ]
  },
  {
   "cell_type": "code",
   "execution_count": 79,
   "metadata": {},
   "outputs": [],
   "source": [
    "#probabilities on training data\n",
    "pred_prob5 = xgb_classifier.predict_proba(X_train_smtom)"
   ]
  },
  {
   "cell_type": "code",
   "execution_count": 80,
   "metadata": {},
   "outputs": [
    {
     "data": {
      "text/plain": [
       "array([[9.3847585e-01, 6.1524149e-02],\n",
       "       [8.6287951e-01, 1.3712046e-01],\n",
       "       [8.4206927e-01, 1.5793070e-01],\n",
       "       ...,\n",
       "       [5.0818920e-04, 9.9949181e-01],\n",
       "       [2.1110535e-02, 9.7888947e-01],\n",
       "       [6.7942798e-02, 9.3205720e-01]], dtype=float32)"
      ]
     },
     "execution_count": 80,
     "metadata": {},
     "output_type": "execute_result"
    }
   ],
   "source": [
    "pred_prob5"
   ]
  },
  {
   "cell_type": "code",
   "execution_count": 81,
   "metadata": {},
   "outputs": [],
   "source": [
    "#probabilities on testing data\n",
    "pred_prob6 = xgb_classifier.predict_proba(X_test)"
   ]
  },
  {
   "cell_type": "code",
   "execution_count": 82,
   "metadata": {},
   "outputs": [
    {
     "data": {
      "text/plain": [
       "array([[0.8781359 , 0.1218641 ],\n",
       "       [0.8767757 , 0.1232243 ],\n",
       "       [0.8417864 , 0.15821359],\n",
       "       ...,\n",
       "       [0.8692291 , 0.13077095],\n",
       "       [0.9490729 , 0.05092712],\n",
       "       [0.8484325 , 0.15156753]], dtype=float32)"
      ]
     },
     "execution_count": 82,
     "metadata": {},
     "output_type": "execute_result"
    }
   ],
   "source": [
    "pred_prob6"
   ]
  },
  {
   "cell_type": "code",
   "execution_count": 83,
   "metadata": {},
   "outputs": [
    {
     "name": "stdout",
     "output_type": "stream",
     "text": [
      "[[15272    54]\n",
      " [ 1530    10]]\n",
      "0.9060832443970117\n",
      "              precision    recall  f1-score   support\n",
      "\n",
      "           0       0.91      1.00      0.95     15326\n",
      "           1       0.16      0.01      0.01      1540\n",
      "\n",
      "    accuracy                           0.91     16866\n",
      "   macro avg       0.53      0.50      0.48     16866\n",
      "weighted avg       0.84      0.91      0.87     16866\n",
      "\n"
     ]
    }
   ],
   "source": [
    "from sklearn.metrics import confusion_matrix,classification_report,accuracy_score\n",
    "y_pred2 = xgb_classifier.predict(X_test)\n",
    "print(confusion_matrix(y_test,y_pred2))\n",
    "print(accuracy_score(y_test,y_pred2))\n",
    "print(classification_report(y_test,y_pred2))"
   ]
  },
  {
   "cell_type": "code",
   "execution_count": 84,
   "metadata": {},
   "outputs": [
    {
     "name": "stdout",
     "output_type": "stream",
     "text": [
      "[14:22:51] WARNING: ../src/learner.cc:1115: Starting in XGBoost 1.3.0, the default evaluation metric used with the objective 'binary:logistic' was changed from 'error' to 'logloss'. Explicitly set eval_metric if you'd like to restore the old behavior.\n",
      "[14:23:16] WARNING: ../src/learner.cc:1115: Starting in XGBoost 1.3.0, the default evaluation metric used with the objective 'binary:logistic' was changed from 'error' to 'logloss'. Explicitly set eval_metric if you'd like to restore the old behavior.\n",
      "[14:23:41] WARNING: ../src/learner.cc:1115: Starting in XGBoost 1.3.0, the default evaluation metric used with the objective 'binary:logistic' was changed from 'error' to 'logloss'. Explicitly set eval_metric if you'd like to restore the old behavior.\n",
      "[14:24:07] WARNING: ../src/learner.cc:1115: Starting in XGBoost 1.3.0, the default evaluation metric used with the objective 'binary:logistic' was changed from 'error' to 'logloss'. Explicitly set eval_metric if you'd like to restore the old behavior.\n",
      "[14:24:31] WARNING: ../src/learner.cc:1115: Starting in XGBoost 1.3.0, the default evaluation metric used with the objective 'binary:logistic' was changed from 'error' to 'logloss'. Explicitly set eval_metric if you'd like to restore the old behavior.\n",
      "[14:24:56] WARNING: ../src/learner.cc:1115: Starting in XGBoost 1.3.0, the default evaluation metric used with the objective 'binary:logistic' was changed from 'error' to 'logloss'. Explicitly set eval_metric if you'd like to restore the old behavior.\n",
      "[14:25:22] WARNING: ../src/learner.cc:1115: Starting in XGBoost 1.3.0, the default evaluation metric used with the objective 'binary:logistic' was changed from 'error' to 'logloss'. Explicitly set eval_metric if you'd like to restore the old behavior.\n",
      "[14:25:47] WARNING: ../src/learner.cc:1115: Starting in XGBoost 1.3.0, the default evaluation metric used with the objective 'binary:logistic' was changed from 'error' to 'logloss'. Explicitly set eval_metric if you'd like to restore the old behavior.\n",
      "[14:26:13] WARNING: ../src/learner.cc:1115: Starting in XGBoost 1.3.0, the default evaluation metric used with the objective 'binary:logistic' was changed from 'error' to 'logloss'. Explicitly set eval_metric if you'd like to restore the old behavior.\n",
      "[14:26:38] WARNING: ../src/learner.cc:1115: Starting in XGBoost 1.3.0, the default evaluation metric used with the objective 'binary:logistic' was changed from 'error' to 'logloss'. Explicitly set eval_metric if you'd like to restore the old behavior.\n",
      "Accuracy: 93.67 %\n",
      "Standard Deviation: 13.00 %\n"
     ]
    }
   ],
   "source": [
    "\n",
    "#performing cross validation\n",
    "from sklearn.model_selection import cross_val_score\n",
    "accuracies = cross_val_score(estimator = xgb_classifier, X = X_train_smtom, y = y_train_smtom, cv = 10)\n",
    "print(\"Accuracy: {:.2f} %\".format(accuracies.mean()*100))\n",
    "print(\"Standard Deviation: {:.2f} %\".format(accuracies.std()*100))"
   ]
  },
  {
   "cell_type": "code",
   "execution_count": 85,
   "metadata": {},
   "outputs": [
    {
     "data": {
      "text/plain": [
       "<sklearn.metrics._plot.confusion_matrix.ConfusionMatrixDisplay at 0x7faa5d2abb10>"
      ]
     },
     "execution_count": 85,
     "metadata": {},
     "output_type": "execute_result"
    },
    {
     "data": {
      "image/png": "[encoded data removed]",
      "text/plain": [
       "<Figure size 432x288 with 2 Axes>"
      ]
     },
     "metadata": {
      "needs_background": "light"
     },
     "output_type": "display_data"
    }
   ],
   "source": [
    "#plotting confusion matrix\n",
    "from sklearn.metrics import plot_confusion_matrix\n",
    "plot_confusion_matrix(xgb_classifier, X_test, y_test)"
   ]
  },
  {
   "cell_type": "code",
   "execution_count": 86,
   "metadata": {},
   "outputs": [
    {
     "name": "stdout",
     "output_type": "stream",
     "text": [
      "log loss on training is:  0.15441136740633749\n"
     ]
    }
   ],
   "source": [
    "#running log loss on training dataset\n",
    "from sklearn.metrics import log_loss\n",
    "print('log loss on training is: ', log_loss(y_train_smtom, pred_prob5))"
   ]
  },
  {
   "cell_type": "code",
   "execution_count": 87,
   "metadata": {},
   "outputs": [
    {
     "name": "stdout",
     "output_type": "stream",
     "text": [
      "log loss on testing is:  0.324420693880116\n"
     ]
    }
   ],
   "source": [
    "#running log loss on testing dataset\n",
    "print('log loss on testing is: ', log_loss(y_test, pred_prob6 ))"
   ]
  },
  {
   "cell_type": "markdown",
   "metadata": {},
   "source": [
    "# hyperparameter tunning"
   ]
  },
  {
   "cell_type": "code",
   "execution_count": 88,
   "metadata": {},
   "outputs": [
    {
     "name": "stdout",
     "output_type": "stream",
     "text": [
      "[15:23:14] WARNING: ../src/learner.cc:1115: Starting in XGBoost 1.3.0, the default evaluation metric used with the objective 'binary:logistic' was changed from 'error' to 'logloss'. Explicitly set eval_metric if you'd like to restore the old behavior.\n"
     ]
    },
    {
     "data": {
      "text/plain": [
       "RandomizedSearchCV(cv=5,\n",
       "                   estimator=XGBClassifier(base_score=0.5, booster='gbtree',\n",
       "                                           colsample_bylevel=1,\n",
       "                                           colsample_bynode=1,\n",
       "                                           colsample_bytree=1,\n",
       "                                           enable_categorical=False, gamma=0,\n",
       "                                           gpu_id=-1, importance_type=None,\n",
       "                                           interaction_constraints='',\n",
       "                                           learning_rate=0.300000012,\n",
       "                                           max_delta_step=0, max_depth=6,\n",
       "                                           min_child_weight=1, missing=nan,\n",
       "                                           monotone_constraints='()',\n",
       "                                           n_estimat...\n",
       "                                           scale_pos_weight=1, subsample=1,\n",
       "                                           tree_method='exact',\n",
       "                                           validate_parameters=1,\n",
       "                                           verbosity=None),\n",
       "                   n_iter=15, n_jobs=-1,\n",
       "                   param_distributions={'colsample_bytree': [0.3, 0.4, 0.5,\n",
       "                                                             0.7],\n",
       "                                        'gamma': [0.0, 0.1, 0.2, 0.3, 0.4],\n",
       "                                        'learning_rate': [0.05, 0.1, 0.15, 0.2,\n",
       "                                                          0.25, 0.3, 0.35, 0.4,\n",
       "                                                          0.5],\n",
       "                                        'max_depth': [3, 4, 5, 6, 8, 10, 12],\n",
       "                                        'n_estimators': [200, 250, 300, 350,\n",
       "                                                         400, 450, 500]},\n",
       "                   scoring='neg_root_mean_squared_error')"
      ]
     },
     "execution_count": 88,
     "metadata": {},
     "output_type": "execute_result"
    }
   ],
   "source": [
    "from sklearn.model_selection import RandomizedSearchCV\n",
    "params= {\n",
    "    \"n_estimators\" : [200, 250, 300, 350, 400, 450, 500],\n",
    "    \"learning_rate\" : [0.05, 0.1, 0.15, 0.2, 0.25, 0.3, 0.35, 0.4, 0.5],\n",
    "    \"max_depth\" : [3, 4, 5, 6, 8, 10, 12],\n",
    "    \"gamma\" : [0.0, 0.1, 0.2, 0.3, 0.4],\n",
    "    \"colsample_bytree\" : [0.3, 0.4, 0.5, 0.7]\n",
    "}\n",
    "\n",
    "\n",
    "\n",
    "xgb_rsearchcv= RandomizedSearchCV(xgb_classifier, param_distributions=params, n_iter=15, scoring='neg_root_mean_squared_error', n_jobs= -1, cv= 5)\n",
    "xgb_rsearchcv.fit(X_train_smtom, y_train_smtom)"
   ]
  },
  {
   "cell_type": "code",
   "execution_count": 89,
   "metadata": {},
   "outputs": [
    {
     "data": {
      "text/plain": [
       "{'n_estimators': 500,\n",
       " 'max_depth': 10,\n",
       " 'learning_rate': 0.2,\n",
       " 'gamma': 0.1,\n",
       " 'colsample_bytree': 0.3}"
      ]
     },
     "execution_count": 89,
     "metadata": {},
     "output_type": "execute_result"
    }
   ],
   "source": [
    "#best parameters\n",
    "xgb_rsearchcv.best_params_"
   ]
  },
  {
   "cell_type": "code",
   "execution_count": 90,
   "metadata": {},
   "outputs": [
    {
     "name": "stdout",
     "output_type": "stream",
     "text": [
      "[[15316    10]\n",
      " [ 1538     2]]\n",
      " Accuracy  Score 0.9082177161152615\n",
      " Classification  report:               precision    recall  f1-score   support\n",
      "\n",
      "           0       0.91      1.00      0.95     15326\n",
      "           1       0.17      0.00      0.00      1540\n",
      "\n",
      "    accuracy                           0.91     16866\n",
      "   macro avg       0.54      0.50      0.48     16866\n",
      "weighted avg       0.84      0.91      0.87     16866\n",
      "\n"
     ]
    }
   ],
   "source": [
    "xgbest=xgb_rsearchcv.best_estimator_\n",
    "y_preds=xgbest.predict(X_test)\n",
    "print(confusion_matrix(y_test,y_preds))\n",
    "print(\" Accuracy  Score {}\".format(accuracy_score(y_test,y_preds)))\n",
    "print(\" Classification  report: {}\".format(classification_report(y_test,y_preds)))"
   ]
  },
  {
   "cell_type": "code",
   "execution_count": 91,
   "metadata": {},
   "outputs": [],
   "source": [
    "#probabilities on training data\n",
    "pred_prob7 = xgbest.predict_proba(X_train_smtom)"
   ]
  },
  {
   "cell_type": "code",
   "execution_count": 92,
   "metadata": {},
   "outputs": [],
   "source": [
    "#probabilities on testing data\n",
    "pred_prob8 = xgbest.predict_proba(X_test)"
   ]
  },
  {
   "cell_type": "code",
   "execution_count": 93,
   "metadata": {},
   "outputs": [
    {
     "name": "stdout",
     "output_type": "stream",
     "text": [
      "log loss on training is:  0.016169255138069254\n"
     ]
    }
   ],
   "source": [
    "#running log loss on training dataset\n",
    "from sklearn.metrics import log_loss\n",
    "print('log loss on training is: ', log_loss(y_train_smtom, pred_prob7))"
   ]
  },
  {
   "cell_type": "code",
   "execution_count": 94,
   "metadata": {},
   "outputs": [
    {
     "name": "stdout",
     "output_type": "stream",
     "text": [
      "log loss on testing is:  0.3927265758933887\n"
     ]
    }
   ],
   "source": [
    "#running log loss on testing dataset\n",
    "print('log loss on testing is: ', log_loss(y_test, pred_prob8))"
   ]
  },
  {
   "cell_type": "code",
   "execution_count": 95,
   "metadata": {},
   "outputs": [],
   "source": [
    "# predicting the test dataframe using xgboost after hyperparameter tunning\n",
    "y_pred_data = xgbest.predict(X_test_df)"
   ]
  },
  {
   "cell_type": "code",
   "execution_count": 96,
   "metadata": {},
   "outputs": [
    {
     "data": {
      "text/plain": [
       "array([1, 0, 0, ..., 0, 0, 0])"
      ]
     },
     "execution_count": 96,
     "metadata": {},
     "output_type": "execute_result"
    }
   ],
   "source": [
    "y_pred_data"
   ]
  },
  {
   "cell_type": "code",
   "execution_count": 98,
   "metadata": {},
   "outputs": [
    {
     "data": {
      "text/plain": [
       "0    23448\n",
       "1     5465\n",
       "dtype: int64"
      ]
     },
     "execution_count": 98,
     "metadata": {},
     "output_type": "execute_result"
    }
   ],
   "source": [
    "y_pred_df = pd.DataFrame(y_pred_data)\n",
    "y_pred_df.value_counts()"
   ]
  },
  {
   "cell_type": "code",
   "execution_count": 99,
   "metadata": {},
   "outputs": [],
   "source": [
    "y_pred_final=pd.DataFrame(y_pred_df).rename(columns={0:\"Loan Status\"})\n",
    "y_pred_final.to_csv('my_submission.csv',index=False)"
   ]
  },
  {
   "cell_type": "markdown",
   "metadata": {},
   "source": [
    "# PERFORMING HYPERPARAMETER TUNNING IN AWS SAGEMAKER"
   ]
  },
  {
   "cell_type": "code",
   "execution_count": 101,
   "metadata": {},
   "outputs": [
    {
     "name": "stdout",
     "output_type": "stream",
     "text": [
      "arn:aws:iam::158804195875:role/service-role/AmazonSageMaker-ExecutionRole-20220102T073731\n"
     ]
    }
   ],
   "source": [
    "import sagemaker\n",
    "import boto3\n",
    "\n",
    "\n",
    "#creating sagemaker session\n",
    "sagemaker_session = sagemaker.Session()\n",
    "region = boto3.Session().region_name\n",
    "#defining the s3 bucket and prefix that we want to use in this session\n",
    "bucket = \"sagemaker-machine-learning1\"\n",
    "prefix = \"loan_status_Xgboost\"\n",
    "\n",
    "#Execution role for the notebook instances \n",
    "role = sagemaker.get_execution_role()\n",
    "print(role)"
   ]
  },
  {
   "cell_type": "code",
   "execution_count": 102,
   "metadata": {},
   "outputs": [
    {
     "data": {
      "text/plain": [
       "(80308, 25)"
      ]
     },
     "execution_count": 102,
     "metadata": {},
     "output_type": "execute_result"
    }
   ],
   "source": [
    "X_train_smtom.shape"
   ]
  },
  {
   "cell_type": "code",
   "execution_count": 103,
   "metadata": {},
   "outputs": [
    {
     "data": {
      "text/plain": [
       "(80308,)"
      ]
     },
     "execution_count": 103,
     "metadata": {},
     "output_type": "execute_result"
    }
   ],
   "source": [
    "y_train_smtom.shape"
   ]
  },
  {
   "cell_type": "code",
   "execution_count": 104,
   "metadata": {},
   "outputs": [
    {
     "data": {
      "text/html": [
       "<div>\n",
       "<style scoped>\n",
       "    .dataframe tbody tr th:only-of-type {\n",
       "        vertical-align: middle;\n",
       "    }\n",
       "\n",
       "    .dataframe tbody tr th {\n",
       "        vertical-align: top;\n",
       "    }\n",
       "\n",
       "    .dataframe thead th {\n",
       "        text-align: right;\n",
       "    }\n",
       "</style>\n",
       "<table border=\"1\" class=\"dataframe\">\n",
       "  <thead>\n",
       "    <tr style=\"text-align: right;\">\n",
       "      <th></th>\n",
       "      <th>Target</th>\n",
       "    </tr>\n",
       "  </thead>\n",
       "  <tbody>\n",
       "    <tr>\n",
       "      <th>0</th>\n",
       "      <td>0</td>\n",
       "    </tr>\n",
       "    <tr>\n",
       "      <th>1</th>\n",
       "      <td>0</td>\n",
       "    </tr>\n",
       "    <tr>\n",
       "      <th>2</th>\n",
       "      <td>0</td>\n",
       "    </tr>\n",
       "    <tr>\n",
       "      <th>3</th>\n",
       "      <td>0</td>\n",
       "    </tr>\n",
       "    <tr>\n",
       "      <th>4</th>\n",
       "      <td>0</td>\n",
       "    </tr>\n",
       "    <tr>\n",
       "      <th>...</th>\n",
       "      <td>...</td>\n",
       "    </tr>\n",
       "    <tr>\n",
       "      <th>80303</th>\n",
       "      <td>1</td>\n",
       "    </tr>\n",
       "    <tr>\n",
       "      <th>80304</th>\n",
       "      <td>1</td>\n",
       "    </tr>\n",
       "    <tr>\n",
       "      <th>80305</th>\n",
       "      <td>1</td>\n",
       "    </tr>\n",
       "    <tr>\n",
       "      <th>80306</th>\n",
       "      <td>1</td>\n",
       "    </tr>\n",
       "    <tr>\n",
       "      <th>80307</th>\n",
       "      <td>1</td>\n",
       "    </tr>\n",
       "  </tbody>\n",
       "</table>\n",
       "<p>80308 rows × 1 columns</p>\n",
       "</div>"
      ],
      "text/plain": [
       "       Target\n",
       "0           0\n",
       "1           0\n",
       "2           0\n",
       "3           0\n",
       "4           0\n",
       "...       ...\n",
       "80303       1\n",
       "80304       1\n",
       "80305       1\n",
       "80306       1\n",
       "80307       1\n",
       "\n",
       "[80308 rows x 1 columns]"
      ]
     },
     "execution_count": 104,
     "metadata": {},
     "output_type": "execute_result"
    }
   ],
   "source": [
    "# converting the array into the dataframe in a way the target variable is the first column\n",
    "train_data = pd.DataFrame({'Target': y_train_smtom})\n",
    "train_data"
   ]
  },
  {
   "cell_type": "code",
   "execution_count": 105,
   "metadata": {},
   "outputs": [],
   "source": [
    "for i in range(X_train_smtom.shape[1]):\n",
    "    train_data[i] = X_train_smtom.iloc[:,i]\n",
    "    "
   ]
  },
  {
   "cell_type": "code",
   "execution_count": 106,
   "metadata": {},
   "outputs": [
    {
     "data": {
      "text/html": [
       "<div>\n",
       "<style scoped>\n",
       "    .dataframe tbody tr th:only-of-type {\n",
       "        vertical-align: middle;\n",
       "    }\n",
       "\n",
       "    .dataframe tbody tr th {\n",
       "        vertical-align: top;\n",
       "    }\n",
       "\n",
       "    .dataframe thead th {\n",
       "        text-align: right;\n",
       "    }\n",
       "</style>\n",
       "<table border=\"1\" class=\"dataframe\">\n",
       "  <thead>\n",
       "    <tr style=\"text-align: right;\">\n",
       "      <th></th>\n",
       "      <th>Target</th>\n",
       "      <th>0</th>\n",
       "      <th>1</th>\n",
       "      <th>2</th>\n",
       "      <th>3</th>\n",
       "      <th>4</th>\n",
       "      <th>5</th>\n",
       "      <th>6</th>\n",
       "      <th>7</th>\n",
       "      <th>8</th>\n",
       "      <th>...</th>\n",
       "      <th>15</th>\n",
       "      <th>16</th>\n",
       "      <th>17</th>\n",
       "      <th>18</th>\n",
       "      <th>19</th>\n",
       "      <th>20</th>\n",
       "      <th>21</th>\n",
       "      <th>22</th>\n",
       "      <th>23</th>\n",
       "      <th>24</th>\n",
       "    </tr>\n",
       "  </thead>\n",
       "  <tbody>\n",
       "    <tr>\n",
       "      <th>0</th>\n",
       "      <td>0</td>\n",
       "      <td>0.226312</td>\n",
       "      <td>0.493624</td>\n",
       "      <td>0.495314</td>\n",
       "      <td>0.150</td>\n",
       "      <td>0.127805</td>\n",
       "      <td>0.500000</td>\n",
       "      <td>0.764706</td>\n",
       "      <td>1.0</td>\n",
       "      <td>0.177716</td>\n",
       "      <td>...</td>\n",
       "      <td>0.565507</td>\n",
       "      <td>0.176471</td>\n",
       "      <td>0.050660</td>\n",
       "      <td>0.001161</td>\n",
       "      <td>0.626528</td>\n",
       "      <td>0.006327</td>\n",
       "      <td>0.633540</td>\n",
       "      <td>0.010036</td>\n",
       "      <td>0.915764</td>\n",
       "      <td>0.038189</td>\n",
       "    </tr>\n",
       "    <tr>\n",
       "      <th>1</th>\n",
       "      <td>0</td>\n",
       "      <td>0.306823</td>\n",
       "      <td>0.175500</td>\n",
       "      <td>0.364253</td>\n",
       "      <td>0.625</td>\n",
       "      <td>0.265825</td>\n",
       "      <td>0.333333</td>\n",
       "      <td>0.500000</td>\n",
       "      <td>1.0</td>\n",
       "      <td>0.155899</td>\n",
       "      <td>...</td>\n",
       "      <td>0.722889</td>\n",
       "      <td>0.132353</td>\n",
       "      <td>0.203453</td>\n",
       "      <td>0.000823</td>\n",
       "      <td>0.001133</td>\n",
       "      <td>0.006135</td>\n",
       "      <td>0.552795</td>\n",
       "      <td>0.016880</td>\n",
       "      <td>0.192479</td>\n",
       "      <td>0.604901</td>\n",
       "    </tr>\n",
       "    <tr>\n",
       "      <th>2</th>\n",
       "      <td>0</td>\n",
       "      <td>0.609504</td>\n",
       "      <td>0.638164</td>\n",
       "      <td>0.430135</td>\n",
       "      <td>0.250</td>\n",
       "      <td>0.446091</td>\n",
       "      <td>0.333333</td>\n",
       "      <td>0.588235</td>\n",
       "      <td>0.5</td>\n",
       "      <td>0.433271</td>\n",
       "      <td>...</td>\n",
       "      <td>0.567473</td>\n",
       "      <td>0.250000</td>\n",
       "      <td>0.079385</td>\n",
       "      <td>0.002671</td>\n",
       "      <td>0.001703</td>\n",
       "      <td>0.007859</td>\n",
       "      <td>0.062112</td>\n",
       "      <td>0.016880</td>\n",
       "      <td>0.144828</td>\n",
       "      <td>0.171215</td>\n",
       "    </tr>\n",
       "    <tr>\n",
       "      <th>3</th>\n",
       "      <td>0</td>\n",
       "      <td>0.315761</td>\n",
       "      <td>0.536725</td>\n",
       "      <td>0.305431</td>\n",
       "      <td>0.550</td>\n",
       "      <td>0.026264</td>\n",
       "      <td>0.166667</td>\n",
       "      <td>0.088235</td>\n",
       "      <td>0.0</td>\n",
       "      <td>0.224035</td>\n",
       "      <td>...</td>\n",
       "      <td>0.683611</td>\n",
       "      <td>0.147059</td>\n",
       "      <td>0.179059</td>\n",
       "      <td>0.000811</td>\n",
       "      <td>0.001524</td>\n",
       "      <td>0.005113</td>\n",
       "      <td>0.273292</td>\n",
       "      <td>0.020073</td>\n",
       "      <td>0.848539</td>\n",
       "      <td>0.118254</td>\n",
       "    </tr>\n",
       "    <tr>\n",
       "      <th>4</th>\n",
       "      <td>0</td>\n",
       "      <td>0.593446</td>\n",
       "      <td>0.658777</td>\n",
       "      <td>0.436748</td>\n",
       "      <td>0.400</td>\n",
       "      <td>0.349525</td>\n",
       "      <td>0.333333</td>\n",
       "      <td>0.352941</td>\n",
       "      <td>0.0</td>\n",
       "      <td>0.114259</td>\n",
       "      <td>...</td>\n",
       "      <td>0.609190</td>\n",
       "      <td>0.058824</td>\n",
       "      <td>0.036735</td>\n",
       "      <td>0.001190</td>\n",
       "      <td>0.000384</td>\n",
       "      <td>0.001059</td>\n",
       "      <td>0.372671</td>\n",
       "      <td>0.020529</td>\n",
       "      <td>0.047094</td>\n",
       "      <td>0.326730</td>\n",
       "    </tr>\n",
       "  </tbody>\n",
       "</table>\n",
       "<p>5 rows × 26 columns</p>\n",
       "</div>"
      ],
      "text/plain": [
       "   Target         0         1         2      3         4         5         6  \\\n",
       "0       0  0.226312  0.493624  0.495314  0.150  0.127805  0.500000  0.764706   \n",
       "1       0  0.306823  0.175500  0.364253  0.625  0.265825  0.333333  0.500000   \n",
       "2       0  0.609504  0.638164  0.430135  0.250  0.446091  0.333333  0.588235   \n",
       "3       0  0.315761  0.536725  0.305431  0.550  0.026264  0.166667  0.088235   \n",
       "4       0  0.593446  0.658777  0.436748  0.400  0.349525  0.333333  0.352941   \n",
       "\n",
       "     7         8  ...        15        16        17        18        19  \\\n",
       "0  1.0  0.177716  ...  0.565507  0.176471  0.050660  0.001161  0.626528   \n",
       "1  1.0  0.155899  ...  0.722889  0.132353  0.203453  0.000823  0.001133   \n",
       "2  0.5  0.433271  ...  0.567473  0.250000  0.079385  0.002671  0.001703   \n",
       "3  0.0  0.224035  ...  0.683611  0.147059  0.179059  0.000811  0.001524   \n",
       "4  0.0  0.114259  ...  0.609190  0.058824  0.036735  0.001190  0.000384   \n",
       "\n",
       "         20        21        22        23        24  \n",
       "0  0.006327  0.633540  0.010036  0.915764  0.038189  \n",
       "1  0.006135  0.552795  0.016880  0.192479  0.604901  \n",
       "2  0.007859  0.062112  0.016880  0.144828  0.171215  \n",
       "3  0.005113  0.273292  0.020073  0.848539  0.118254  \n",
       "4  0.001059  0.372671  0.020529  0.047094  0.326730  \n",
       "\n",
       "[5 rows x 26 columns]"
      ]
     },
     "execution_count": 106,
     "metadata": {},
     "output_type": "execute_result"
    }
   ],
   "source": [
    "train_data.head()"
   ]
  },
  {
   "cell_type": "code",
   "execution_count": 107,
   "metadata": {},
   "outputs": [
    {
     "data": {
      "text/plain": [
       "72277"
      ]
     },
     "execution_count": 107,
     "metadata": {},
     "output_type": "execute_result"
    }
   ],
   "source": [
    "train_data_size = int(0.9 * train_data.shape[0])\n",
    "train_data_size"
   ]
  },
  {
   "cell_type": "code",
   "execution_count": 108,
   "metadata": {},
   "outputs": [],
   "source": [
    "#shuffle the data in dataframe and split the dataframe into train, test, validation \n",
    "import sklearn \n",
    "train_data = sklearn.utils.shuffle(train_data)\n",
    "train, test, valid = train_data[:train_data_size], train_data[train_data_size:train_data_size + 4016],train_data[train_data_size + 4016:]\n",
    "\n"
   ]
  },
  {
   "cell_type": "code",
   "execution_count": 109,
   "metadata": {},
   "outputs": [
    {
     "data": {
      "text/plain": [
       "((72277, 26), (4016, 26), (4015, 26))"
      ]
     },
     "execution_count": 109,
     "metadata": {},
     "output_type": "execute_result"
    }
   ],
   "source": [
    "train.shape, test.shape, valid.shape"
   ]
  },
  {
   "cell_type": "code",
   "execution_count": 110,
   "metadata": {},
   "outputs": [],
   "source": [
    "X_test, y_test = test.drop(columns = ['Target']),test['Target']"
   ]
  },
  {
   "cell_type": "code",
   "execution_count": 111,
   "metadata": {},
   "outputs": [],
   "source": [
    "# save the train data and the validation data as csv file\n",
    "train.to_csv('train.csv', header = False, index = False)\n",
    "valid.to_csv('valid.csv', header = False, index = False)"
   ]
  },
  {
   "cell_type": "code",
   "execution_count": 112,
   "metadata": {},
   "outputs": [],
   "source": [
    "prefix = \"loan_status_Xgboost\"\n",
    "key = \"loan_status_Xgboost\""
   ]
  },
  {
   "cell_type": "code",
   "execution_count": 113,
   "metadata": {},
   "outputs": [
    {
     "name": "stdout",
     "output_type": "stream",
     "text": [
      "uploaded training data location: s3://sagemaker-machine-learning1/loan_status_Xgboost/train/loan_status_Xgboost\n"
     ]
    }
   ],
   "source": [
    "#read the data from csv file and then upload the data into s3 bucket\n",
    "import os\n",
    "\n",
    "#the following code uploads data in record-io format to s3 bucket to be accessed later for train\n",
    "with open ('train.csv', 'rb') as f:\n",
    "    boto3.Session().resource(\"s3\").Bucket(bucket).Object(os.path.join(prefix, \"train\", key)).upload_fileobj(f)\n",
    "\n",
    "#printing out the training data location in s3\n",
    "s3_train_data = \"s3://{}/{}/train/{}\".format(bucket, prefix, key)\n",
    "print(\"uploaded training data location: {}\".format(s3_train_data))"
   ]
  },
  {
   "cell_type": "code",
   "execution_count": 114,
   "metadata": {},
   "outputs": [
    {
     "name": "stdout",
     "output_type": "stream",
     "text": [
      "uploaded training data location: s3://sagemaker-machine-learning1/loan_status_Xgboost/valid/loan_status_Xgboost\n"
     ]
    }
   ],
   "source": [
    "#read the data from csv file and then upload the data into s3 bucket\n",
    "import os\n",
    "\n",
    "#the following code uploads data in record-io format to s3 bucket to be accessed later for train\n",
    "with open ('valid.csv', 'rb') as f:\n",
    "    boto3.Session().resource(\"s3\").Bucket(bucket).Object(os.path.join(prefix, \"valid\", key)).upload_fileobj(f)\n",
    "\n",
    "#printing out the training data location in s3\n",
    "s3_valid_data = \"s3://{}/{}/valid/{}\".format(bucket, prefix, key)\n",
    "print(\"uploaded training data location: {}\".format(s3_valid_data))"
   ]
  },
  {
   "cell_type": "code",
   "execution_count": 115,
   "metadata": {},
   "outputs": [
    {
     "name": "stdout",
     "output_type": "stream",
     "text": [
      "Training artifacts will be uploaded to: s3://sagemaker-machine-learning1/loan_status_Xgboost/output\n"
     ]
    }
   ],
   "source": [
    "#create an output palceholder in s3 bucket to store the Xgboost output\n",
    "output_location = 's3://{}/{}/output'.format(bucket, prefix)\n",
    "print(\"Training artifacts will be uploaded to: {}\".format(output_location))"
   ]
  },
  {
   "cell_type": "code",
   "execution_count": 116,
   "metadata": {},
   "outputs": [],
   "source": [
    "container = sagemaker.image_uris.retrieve(\"xgboost\", boto3.Session().region_name, \"latest\")\n"
   ]
  },
  {
   "cell_type": "code",
   "execution_count": 121,
   "metadata": {},
   "outputs": [],
   "source": [
    "# passing  the xgboost model in the container\n",
    "#output path and sagemaker session into the estimator\n",
    "#also specify how many instances  we would like to use for training\n",
    "\n",
    "xgboost_classifier= sagemaker.estimator.Estimator(\n",
    "                                   container,\n",
    "                                   role,\n",
    "                                   instance_count=1,\n",
    "                                   instance_type=\"ml.m4.xlarge\",\n",
    "                                   output_path=output_location,\n",
    "                                   sagemaker_session=sagemaker_session,\n",
    "                                   use_spot_instances= True,\n",
    "                                   max_run = 300,\n",
    "                                   max_wait = 600)\n",
    "xgboost_classifier.set_hyperparameters(\n",
    "                       max_depth=8,\n",
    "                       objective='multi:softmax',\n",
    "                       eta=0.5,\n",
    "                       gamma=0.1,\n",
    "                       learning_rate=0.2,\n",
    "                       colsample_bytress = 0.3,\n",
    "                       num_class=2,\n",
    "                       num_round=100)\n"
   ]
  },
  {
   "cell_type": "code",
   "execution_count": 122,
   "metadata": {},
   "outputs": [
    {
     "name": "stdout",
     "output_type": "stream",
     "text": [
      "2022-01-16 16:04:45 Starting - Starting the training job...\n",
      "2022-01-16 16:05:08 Starting - Launching requested ML instancesProfilerReport-1642349085: InProgress\n",
      "...\n",
      "2022-01-16 16:05:43 Starting - Preparing the instances for training............\n",
      "2022-01-16 16:07:29 Downloading - Downloading input data...\n",
      "2022-01-16 16:08:09 Training - Downloading the training image.\u001b[34mArguments: train\u001b[0m\n",
      "\u001b[34m[2022-01-16:16:08:20:INFO] Running standalone xgboost training.\u001b[0m\n",
      "\u001b[34m[2022-01-16:16:08:20:INFO] File size need to be processed in the node: 32.14mb. Available memory size in the node: 8358.71mb\u001b[0m\n",
      "\u001b[34m[2022-01-16:16:08:20:INFO] Determined delimiter of CSV input is ','\u001b[0m\n",
      "\u001b[34m[16:08:20] S3DistributionType set as FullyReplicated\u001b[0m\n",
      "\u001b[34m[16:08:20] 72277x25 matrix with 1806925 entries loaded from /opt/ml/input/data/train?format=csv&label_column=0&delimiter=,\u001b[0m\n",
      "\u001b[34m[2022-01-16:16:08:20:INFO] Determined delimiter of CSV input is ','\u001b[0m\n",
      "\u001b[34m[16:08:20] S3DistributionType set as FullyReplicated\u001b[0m\n",
      "\u001b[34m[16:08:20] 4015x25 matrix with 100375 entries loaded from /opt/ml/input/data/validation?format=csv&label_column=0&delimiter=,\u001b[0m\n",
      "\u001b[34m[16:08:20] src/tree/updater_prune.cc:74: tree pruning end, 1 roots, 278 extra nodes, 0 pruned nodes, max_depth=8\u001b[0m\n",
      "\u001b[34m[16:08:20] src/tree/updater_prune.cc:74: tree pruning end, 1 roots, 278 extra nodes, 0 pruned nodes, max_depth=8\u001b[0m\n",
      "\u001b[34m[0]#011train-merror:0.12524#011validation-merror:0.126775\u001b[0m\n",
      "\u001b[34m[16:08:21] src/tree/updater_prune.cc:74: tree pruning end, 1 roots, 340 extra nodes, 2 pruned nodes, max_depth=8\u001b[0m\n",
      "\u001b[34m[16:08:21] src/tree/updater_prune.cc:74: tree pruning end, 1 roots, 340 extra nodes, 2 pruned nodes, max_depth=8\u001b[0m\n",
      "\u001b[34m[1]#011train-merror:0.117797#011validation-merror:0.121295\u001b[0m\n",
      "\u001b[34m[16:08:21] src/tree/updater_prune.cc:74: tree pruning end, 1 roots, 250 extra nodes, 12 pruned nodes, max_depth=8\u001b[0m\n",
      "\u001b[34m[16:08:21] src/tree/updater_prune.cc:74: tree pruning end, 1 roots, 250 extra nodes, 12 pruned nodes, max_depth=8\u001b[0m\n",
      "\u001b[34m[2]#011train-merror:0.100073#011validation-merror:0.101619\u001b[0m\n",
      "\u001b[34m[16:08:21] src/tree/updater_prune.cc:74: tree pruning end, 1 roots, 226 extra nodes, 10 pruned nodes, max_depth=8\u001b[0m\n",
      "\u001b[34m[16:08:22] src/tree/updater_prune.cc:74: tree pruning end, 1 roots, 226 extra nodes, 10 pruned nodes, max_depth=8\u001b[0m\n",
      "\u001b[34m[3]#011train-merror:0.097431#011validation-merror:0.098132\u001b[0m\n",
      "\u001b[34m[16:08:22] src/tree/updater_prune.cc:74: tree pruning end, 1 roots, 268 extra nodes, 6 pruned nodes, max_depth=8\u001b[0m\n",
      "\u001b[34m[16:08:22] src/tree/updater_prune.cc:74: tree pruning end, 1 roots, 268 extra nodes, 6 pruned nodes, max_depth=8\u001b[0m\n",
      "\u001b[34m[4]#011train-merror:0.09577#011validation-merror:0.097883\u001b[0m\n",
      "\u001b[34m[16:08:22] src/tree/updater_prune.cc:74: tree pruning end, 1 roots, 270 extra nodes, 4 pruned nodes, max_depth=8\u001b[0m\n",
      "\u001b[34m[16:08:22] src/tree/updater_prune.cc:74: tree pruning end, 1 roots, 270 extra nodes, 4 pruned nodes, max_depth=8\u001b[0m\n",
      "\u001b[34m[5]#011train-merror:0.081755#011validation-merror:0.083437\u001b[0m\n",
      "\u001b[34m[16:08:23] src/tree/updater_prune.cc:74: tree pruning end, 1 roots, 256 extra nodes, 10 pruned nodes, max_depth=8\u001b[0m\n",
      "\u001b[34m[16:08:23] src/tree/updater_prune.cc:74: tree pruning end, 1 roots, 256 extra nodes, 10 pruned nodes, max_depth=8\u001b[0m\n",
      "\u001b[34m[6]#011train-merror:0.080012#011validation-merror:0.082441\u001b[0m\n",
      "\u001b[34m[16:08:23] src/tree/updater_prune.cc:74: tree pruning end, 1 roots, 256 extra nodes, 2 pruned nodes, max_depth=8\u001b[0m\n",
      "\u001b[34m[16:08:23] src/tree/updater_prune.cc:74: tree pruning end, 1 roots, 256 extra nodes, 2 pruned nodes, max_depth=8\u001b[0m\n",
      "\u001b[34m[7]#011train-merror:0.077964#011validation-merror:0.080697\u001b[0m\n",
      "\u001b[34m[16:08:23] src/tree/updater_prune.cc:74: tree pruning end, 1 roots, 262 extra nodes, 4 pruned nodes, max_depth=8\u001b[0m\n",
      "\u001b[34m[16:08:23] src/tree/updater_prune.cc:74: tree pruning end, 1 roots, 262 extra nodes, 4 pruned nodes, max_depth=8\u001b[0m\n",
      "\u001b[34m[8]#011train-merror:0.075875#011validation-merror:0.081445\u001b[0m\n",
      "\u001b[34m[16:08:23] src/tree/updater_prune.cc:74: tree pruning end, 1 roots, 230 extra nodes, 12 pruned nodes, max_depth=8\u001b[0m\n",
      "\u001b[34m[16:08:24] src/tree/updater_prune.cc:74: tree pruning end, 1 roots, 230 extra nodes, 12 pruned nodes, max_depth=8\u001b[0m\n",
      "\u001b[34m[9]#011train-merror:0.07373#011validation-merror:0.079203\u001b[0m\n",
      "\u001b[34m[16:08:24] src/tree/updater_prune.cc:74: tree pruning end, 1 roots, 200 extra nodes, 8 pruned nodes, max_depth=8\u001b[0m\n",
      "\u001b[34m[16:08:24] src/tree/updater_prune.cc:74: tree pruning end, 1 roots, 200 extra nodes, 8 pruned nodes, max_depth=8\u001b[0m\n",
      "\u001b[34m[10]#011train-merror:0.072361#011validation-merror:0.07721\u001b[0m\n",
      "\u001b[34m[16:08:24] src/tree/updater_prune.cc:74: tree pruning end, 1 roots, 278 extra nodes, 0 pruned nodes, max_depth=8\u001b[0m\n",
      "\u001b[34m[16:08:24] src/tree/updater_prune.cc:74: tree pruning end, 1 roots, 278 extra nodes, 0 pruned nodes, max_depth=8\u001b[0m\n",
      "\u001b[34m[11]#011train-merror:0.070534#011validation-merror:0.075965\u001b[0m\n",
      "\u001b[34m[16:08:24] src/tree/updater_prune.cc:74: tree pruning end, 1 roots, 182 extra nodes, 4 pruned nodes, max_depth=8\u001b[0m\n",
      "\u001b[34m[16:08:25] src/tree/updater_prune.cc:74: tree pruning end, 1 roots, 182 extra nodes, 4 pruned nodes, max_depth=8\u001b[0m\n",
      "\u001b[34m[12]#011train-merror:0.068514#011validation-merror:0.073973\u001b[0m\n",
      "\u001b[34m[16:08:25] src/tree/updater_prune.cc:74: tree pruning end, 1 roots, 190 extra nodes, 2 pruned nodes, max_depth=8\u001b[0m\n",
      "\u001b[34m[16:08:25] src/tree/updater_prune.cc:74: tree pruning end, 1 roots, 190 extra nodes, 2 pruned nodes, max_depth=8\u001b[0m\n",
      "\u001b[34m[13]#011train-merror:0.066868#011validation-merror:0.073225\u001b[0m\n",
      "\u001b[34m[16:08:25] src/tree/updater_prune.cc:74: tree pruning end, 1 roots, 210 extra nodes, 0 pruned nodes, max_depth=8\u001b[0m\n",
      "\u001b[34m[16:08:25] src/tree/updater_prune.cc:74: tree pruning end, 1 roots, 210 extra nodes, 0 pruned nodes, max_depth=8\u001b[0m\n",
      "\u001b[34m[14]#011train-merror:0.064986#011validation-merror:0.070237\u001b[0m\n",
      "\u001b[34m[16:08:25] src/tree/updater_prune.cc:74: tree pruning end, 1 roots, 208 extra nodes, 14 pruned nodes, max_depth=8\u001b[0m\n",
      "\u001b[34m[16:08:26] src/tree/updater_prune.cc:74: tree pruning end, 1 roots, 208 extra nodes, 14 pruned nodes, max_depth=8\u001b[0m\n",
      "\u001b[34m[15]#011train-merror:0.062164#011validation-merror:0.068244\u001b[0m\n",
      "\u001b[34m[16:08:26] src/tree/updater_prune.cc:74: tree pruning end, 1 roots, 186 extra nodes, 4 pruned nodes, max_depth=8\u001b[0m\n",
      "\u001b[34m[16:08:26] src/tree/updater_prune.cc:74: tree pruning end, 1 roots, 186 extra nodes, 4 pruned nodes, max_depth=8\u001b[0m\n",
      "\u001b[34m[16]#011train-merror:0.061237#011validation-merror:0.067746\u001b[0m\n",
      "\u001b[34m[16:08:26] src/tree/updater_prune.cc:74: tree pruning end, 1 roots, 188 extra nodes, 0 pruned nodes, max_depth=8\u001b[0m\n",
      "\u001b[34m[16:08:26] src/tree/updater_prune.cc:74: tree pruning end, 1 roots, 188 extra nodes, 0 pruned nodes, max_depth=8\u001b[0m\n",
      "\u001b[34m[17]#011train-merror:0.060171#011validation-merror:0.067497\u001b[0m\n",
      "\u001b[34m[16:08:26] src/tree/updater_prune.cc:74: tree pruning end, 1 roots, 220 extra nodes, 0 pruned nodes, max_depth=8\u001b[0m\n",
      "\u001b[34m[16:08:26] src/tree/updater_prune.cc:74: tree pruning end, 1 roots, 220 extra nodes, 0 pruned nodes, max_depth=8\u001b[0m\n",
      "\u001b[34m[18]#011train-merror:0.05912#011validation-merror:0.068493\u001b[0m\n",
      "\u001b[34m[16:08:27] src/tree/updater_prune.cc:74: tree pruning end, 1 roots, 334 extra nodes, 8 pruned nodes, max_depth=8\u001b[0m\n",
      "\u001b[34m[16:08:27] src/tree/updater_prune.cc:74: tree pruning end, 1 roots, 334 extra nodes, 8 pruned nodes, max_depth=8\u001b[0m\n",
      "\u001b[34m[19]#011train-merror:0.057819#011validation-merror:0.068742\u001b[0m\n",
      "\u001b[34m[16:08:27] src/tree/updater_prune.cc:74: tree pruning end, 1 roots, 280 extra nodes, 2 pruned nodes, max_depth=8\u001b[0m\n",
      "\u001b[34m[16:08:27] src/tree/updater_prune.cc:74: tree pruning end, 1 roots, 280 extra nodes, 2 pruned nodes, max_depth=8\u001b[0m\n",
      "\u001b[34m[20]#011train-merror:0.056533#011validation-merror:0.067746\u001b[0m\n",
      "\u001b[34m[16:08:27] src/tree/updater_prune.cc:74: tree pruning end, 1 roots, 142 extra nodes, 0 pruned nodes, max_depth=8\u001b[0m\n",
      "\u001b[34m[16:08:27] src/tree/updater_prune.cc:74: tree pruning end, 1 roots, 142 extra nodes, 0 pruned nodes, max_depth=8\u001b[0m\n",
      "\u001b[34m[21]#011train-merror:0.056242#011validation-merror:0.067497\u001b[0m\n",
      "\u001b[34m[16:08:27] src/tree/updater_prune.cc:74: tree pruning end, 1 roots, 190 extra nodes, 2 pruned nodes, max_depth=8\u001b[0m\n",
      "\u001b[34m[16:08:28] src/tree/updater_prune.cc:74: tree pruning end, 1 roots, 190 extra nodes, 2 pruned nodes, max_depth=8\u001b[0m\n",
      "\u001b[34m[22]#011train-merror:0.055287#011validation-merror:0.067248\u001b[0m\n",
      "\u001b[34m[16:08:28] src/tree/updater_prune.cc:74: tree pruning end, 1 roots, 252 extra nodes, 4 pruned nodes, max_depth=8\u001b[0m\n",
      "\u001b[34m[16:08:28] src/tree/updater_prune.cc:74: tree pruning end, 1 roots, 252 extra nodes, 4 pruned nodes, max_depth=8\u001b[0m\n",
      "\u001b[34m[23]#011train-merror:0.054153#011validation-merror:0.067746\u001b[0m\n",
      "\u001b[34m[16:08:28] src/tree/updater_prune.cc:74: tree pruning end, 1 roots, 152 extra nodes, 2 pruned nodes, max_depth=8\u001b[0m\n",
      "\u001b[34m[16:08:28] src/tree/updater_prune.cc:74: tree pruning end, 1 roots, 152 extra nodes, 2 pruned nodes, max_depth=8\u001b[0m\n",
      "\u001b[34m[24]#011train-merror:0.05353#011validation-merror:0.067497\u001b[0m\n",
      "\u001b[34m[16:08:28] src/tree/updater_prune.cc:74: tree pruning end, 1 roots, 208 extra nodes, 4 pruned nodes, max_depth=8\u001b[0m\n",
      "\u001b[34m[16:08:29] src/tree/updater_prune.cc:74: tree pruning end, 1 roots, 208 extra nodes, 4 pruned nodes, max_depth=8\u001b[0m\n",
      "\u001b[34m[25]#011train-merror:0.052562#011validation-merror:0.067746\u001b[0m\n",
      "\u001b[34m[16:08:29] src/tree/updater_prune.cc:74: tree pruning end, 1 roots, 224 extra nodes, 4 pruned nodes, max_depth=8\u001b[0m\n",
      "\u001b[34m[16:08:29] src/tree/updater_prune.cc:74: tree pruning end, 1 roots, 224 extra nodes, 4 pruned nodes, max_depth=8\u001b[0m\n",
      "\u001b[34m[26]#011train-merror:0.051247#011validation-merror:0.066999\u001b[0m\n",
      "\u001b[34m[16:08:29] src/tree/updater_prune.cc:74: tree pruning end, 1 roots, 314 extra nodes, 2 pruned nodes, max_depth=8\u001b[0m\n",
      "\u001b[34m[16:08:29] src/tree/updater_prune.cc:74: tree pruning end, 1 roots, 314 extra nodes, 2 pruned nodes, max_depth=8\u001b[0m\n",
      "\u001b[34m[27]#011train-merror:0.05003#011validation-merror:0.06675\u001b[0m\n",
      "\u001b[34m[16:08:29] src/tree/updater_prune.cc:74: tree pruning end, 1 roots, 150 extra nodes, 2 pruned nodes, max_depth=8\u001b[0m\n",
      "\u001b[34m[16:08:29] src/tree/updater_prune.cc:74: tree pruning end, 1 roots, 150 extra nodes, 2 pruned nodes, max_depth=8\u001b[0m\n",
      "\u001b[34m[28]#011train-merror:0.049449#011validation-merror:0.066002\u001b[0m\n",
      "\u001b[34m[16:08:30] src/tree/updater_prune.cc:74: tree pruning end, 1 roots, 146 extra nodes, 6 pruned nodes, max_depth=8\u001b[0m\n",
      "\u001b[34m[16:08:30] src/tree/updater_prune.cc:74: tree pruning end, 1 roots, 146 extra nodes, 6 pruned nodes, max_depth=8\u001b[0m\n",
      "\u001b[34m[29]#011train-merror:0.04884#011validation-merror:0.066252\u001b[0m\n",
      "\u001b[34m[16:08:30] src/tree/updater_prune.cc:74: tree pruning end, 1 roots, 180 extra nodes, 4 pruned nodes, max_depth=8\u001b[0m\n",
      "\u001b[34m[16:08:30] src/tree/updater_prune.cc:74: tree pruning end, 1 roots, 180 extra nodes, 4 pruned nodes, max_depth=8\u001b[0m\n",
      "\u001b[34m[30]#011train-merror:0.047954#011validation-merror:0.064757\u001b[0m\n",
      "\u001b[34m[16:08:30] src/tree/updater_prune.cc:74: tree pruning end, 1 roots, 228 extra nodes, 4 pruned nodes, max_depth=8\u001b[0m\n",
      "\u001b[34m[16:08:30] src/tree/updater_prune.cc:74: tree pruning end, 1 roots, 228 extra nodes, 4 pruned nodes, max_depth=8\u001b[0m\n",
      "\u001b[34m[31]#011train-merror:0.046585#011validation-merror:0.06401\u001b[0m\n",
      "\u001b[34m[16:08:30] src/tree/updater_prune.cc:74: tree pruning end, 1 roots, 214 extra nodes, 10 pruned nodes, max_depth=8\u001b[0m\n",
      "\u001b[34m[16:08:31] src/tree/updater_prune.cc:74: tree pruning end, 1 roots, 214 extra nodes, 10 pruned nodes, max_depth=8\u001b[0m\n",
      "\u001b[34m[32]#011train-merror:0.045658#011validation-merror:0.064259\u001b[0m\n",
      "\u001b[34m[16:08:31] src/tree/updater_prune.cc:74: tree pruning end, 1 roots, 354 extra nodes, 0 pruned nodes, max_depth=8\u001b[0m\n",
      "\u001b[34m[16:08:31] src/tree/updater_prune.cc:74: tree pruning end, 1 roots, 354 extra nodes, 0 pruned nodes, max_depth=8\u001b[0m\n",
      "\u001b[34m[33]#011train-merror:0.043859#011validation-merror:0.064508\u001b[0m\n",
      "\u001b[34m[16:08:31] src/tree/updater_prune.cc:74: tree pruning end, 1 roots, 256 extra nodes, 4 pruned nodes, max_depth=8\u001b[0m\n",
      "\u001b[34m[16:08:31] src/tree/updater_prune.cc:74: tree pruning end, 1 roots, 256 extra nodes, 4 pruned nodes, max_depth=8\u001b[0m\n",
      "\u001b[34m[34]#011train-merror:0.042932#011validation-merror:0.064757\u001b[0m\n",
      "\u001b[34m[16:08:31] src/tree/updater_prune.cc:74: tree pruning end, 1 roots, 206 extra nodes, 2 pruned nodes, max_depth=8\u001b[0m\n",
      "\u001b[34m[16:08:32] src/tree/updater_prune.cc:74: tree pruning end, 1 roots, 206 extra nodes, 2 pruned nodes, max_depth=8\u001b[0m\n",
      "\u001b[34m[35]#011train-merror:0.042116#011validation-merror:0.064757\u001b[0m\n",
      "\u001b[34m[16:08:32] src/tree/updater_prune.cc:74: tree pruning end, 1 roots, 210 extra nodes, 0 pruned nodes, max_depth=8\u001b[0m\n",
      "\u001b[34m[16:08:32] src/tree/updater_prune.cc:74: tree pruning end, 1 roots, 210 extra nodes, 0 pruned nodes, max_depth=8\u001b[0m\n",
      "\u001b[34m[36]#011train-merror:0.041355#011validation-merror:0.065753\u001b[0m\n",
      "\u001b[34m[16:08:32] src/tree/updater_prune.cc:74: tree pruning end, 1 roots, 194 extra nodes, 10 pruned nodes, max_depth=8\u001b[0m\n",
      "\u001b[34m[16:08:32] src/tree/updater_prune.cc:74: tree pruning end, 1 roots, 194 extra nodes, 10 pruned nodes, max_depth=8\u001b[0m\n",
      "\u001b[34m[37]#011train-merror:0.040345#011validation-merror:0.064757\u001b[0m\n",
      "\u001b[34m[16:08:32] src/tree/updater_prune.cc:74: tree pruning end, 1 roots, 188 extra nodes, 0 pruned nodes, max_depth=8\u001b[0m\n",
      "\u001b[34m[16:08:33] src/tree/updater_prune.cc:74: tree pruning end, 1 roots, 188 extra nodes, 0 pruned nodes, max_depth=8\u001b[0m\n",
      "\u001b[34m[38]#011train-merror:0.039764#011validation-merror:0.064508\u001b[0m\n",
      "\u001b[34m[16:08:33] src/tree/updater_prune.cc:74: tree pruning end, 1 roots, 172 extra nodes, 6 pruned nodes, max_depth=8\u001b[0m\n",
      "\u001b[34m[16:08:33] src/tree/updater_prune.cc:74: tree pruning end, 1 roots, 172 extra nodes, 6 pruned nodes, max_depth=8\u001b[0m\n",
      "\u001b[34m[39]#011train-merror:0.039196#011validation-merror:0.064757\u001b[0m\n",
      "\n",
      "2022-01-16 16:08:29 Training - Training image download completed. Training in progress.\u001b[34m[16:08:33] src/tree/updater_prune.cc:74: tree pruning end, 1 roots, 112 extra nodes, 4 pruned nodes, max_depth=8\u001b[0m\n",
      "\u001b[34m[16:08:33] src/tree/updater_prune.cc:74: tree pruning end, 1 roots, 112 extra nodes, 4 pruned nodes, max_depth=8\u001b[0m\n",
      "\u001b[34m[40]#011train-merror:0.03892#011validation-merror:0.064757\u001b[0m\n",
      "\u001b[34m[16:08:33] src/tree/updater_prune.cc:74: tree pruning end, 1 roots, 96 extra nodes, 0 pruned nodes, max_depth=8\u001b[0m\n",
      "\u001b[34m[16:08:33] src/tree/updater_prune.cc:74: tree pruning end, 1 roots, 96 extra nodes, 0 pruned nodes, max_depth=8\u001b[0m\n",
      "\u001b[34m[41]#011train-merror:0.03874#011validation-merror:0.064508\u001b[0m\n",
      "\u001b[34m[16:08:34] src/tree/updater_prune.cc:74: tree pruning end, 1 roots, 270 extra nodes, 2 pruned nodes, max_depth=8\u001b[0m\n",
      "\u001b[34m[16:08:34] src/tree/updater_prune.cc:74: tree pruning end, 1 roots, 270 extra nodes, 2 pruned nodes, max_depth=8\u001b[0m\n",
      "\u001b[34m[42]#011train-merror:0.037412#011validation-merror:0.064508\u001b[0m\n",
      "\u001b[34m[16:08:34] src/tree/updater_prune.cc:74: tree pruning end, 1 roots, 82 extra nodes, 4 pruned nodes, max_depth=8\u001b[0m\n",
      "\u001b[34m[16:08:34] src/tree/updater_prune.cc:74: tree pruning end, 1 roots, 82 extra nodes, 4 pruned nodes, max_depth=8\u001b[0m\n",
      "\u001b[34m[43]#011train-merror:0.037287#011validation-merror:0.064508\u001b[0m\n",
      "\u001b[34m[16:08:34] src/tree/updater_prune.cc:74: tree pruning end, 1 roots, 256 extra nodes, 4 pruned nodes, max_depth=8\u001b[0m\n",
      "\u001b[34m[16:08:34] src/tree/updater_prune.cc:74: tree pruning end, 1 roots, 256 extra nodes, 4 pruned nodes, max_depth=8\u001b[0m\n",
      "\u001b[34m[44]#011train-merror:0.035959#011validation-merror:0.064757\u001b[0m\n",
      "\u001b[34m[16:08:34] src/tree/updater_prune.cc:74: tree pruning end, 1 roots, 176 extra nodes, 2 pruned nodes, max_depth=8\u001b[0m\n",
      "\u001b[34m[16:08:35] src/tree/updater_prune.cc:74: tree pruning end, 1 roots, 176 extra nodes, 2 pruned nodes, max_depth=8\u001b[0m\n",
      "\u001b[34m[45]#011train-merror:0.035378#011validation-merror:0.064259\u001b[0m\n",
      "\u001b[34m[16:08:35] src/tree/updater_prune.cc:74: tree pruning end, 1 roots, 242 extra nodes, 2 pruned nodes, max_depth=8\u001b[0m\n",
      "\u001b[34m[16:08:35] src/tree/updater_prune.cc:74: tree pruning end, 1 roots, 242 extra nodes, 2 pruned nodes, max_depth=8\u001b[0m\n",
      "\u001b[34m[46]#011train-merror:0.034271#011validation-merror:0.065006\u001b[0m\n",
      "\u001b[34m[16:08:35] src/tree/updater_prune.cc:74: tree pruning end, 1 roots, 230 extra nodes, 2 pruned nodes, max_depth=8\u001b[0m\n",
      "\u001b[34m[16:08:35] src/tree/updater_prune.cc:74: tree pruning end, 1 roots, 230 extra nodes, 2 pruned nodes, max_depth=8\u001b[0m\n",
      "\u001b[34m[47]#011train-merror:0.033247#011validation-merror:0.06401\u001b[0m\n",
      "\u001b[34m[16:08:35] src/tree/updater_prune.cc:74: tree pruning end, 1 roots, 176 extra nodes, 12 pruned nodes, max_depth=8\u001b[0m\n",
      "\u001b[34m[16:08:36] src/tree/updater_prune.cc:74: tree pruning end, 1 roots, 176 extra nodes, 12 pruned nodes, max_depth=8\u001b[0m\n",
      "\u001b[34m[48]#011train-merror:0.032818#011validation-merror:0.06401\u001b[0m\n",
      "\u001b[34m[16:08:36] src/tree/updater_prune.cc:74: tree pruning end, 1 roots, 78 extra nodes, 2 pruned nodes, max_depth=8\u001b[0m\n",
      "\u001b[34m[16:08:36] src/tree/updater_prune.cc:74: tree pruning end, 1 roots, 78 extra nodes, 2 pruned nodes, max_depth=8\u001b[0m\n",
      "\u001b[34m[49]#011train-merror:0.032528#011validation-merror:0.064259\u001b[0m\n",
      "\u001b[34m[16:08:36] src/tree/updater_prune.cc:74: tree pruning end, 1 roots, 304 extra nodes, 4 pruned nodes, max_depth=8\u001b[0m\n",
      "\u001b[34m[16:08:36] src/tree/updater_prune.cc:74: tree pruning end, 1 roots, 304 extra nodes, 4 pruned nodes, max_depth=8\u001b[0m\n",
      "\u001b[34m[50]#011train-merror:0.03131#011validation-merror:0.064259\u001b[0m\n",
      "\u001b[34m[16:08:36] src/tree/updater_prune.cc:74: tree pruning end, 1 roots, 212 extra nodes, 8 pruned nodes, max_depth=8\u001b[0m\n",
      "\u001b[34m[16:08:36] src/tree/updater_prune.cc:74: tree pruning end, 1 roots, 212 extra nodes, 8 pruned nodes, max_depth=8\u001b[0m\n",
      "\u001b[34m[51]#011train-merror:0.030646#011validation-merror:0.06401\u001b[0m\n",
      "\u001b[34m[16:08:37] src/tree/updater_prune.cc:74: tree pruning end, 1 roots, 332 extra nodes, 6 pruned nodes, max_depth=8\u001b[0m\n",
      "\u001b[34m[16:08:37] src/tree/updater_prune.cc:74: tree pruning end, 1 roots, 332 extra nodes, 6 pruned nodes, max_depth=8\u001b[0m\n",
      "\u001b[34m[52]#011train-merror:0.029221#011validation-merror:0.064259\u001b[0m\n",
      "\u001b[34m[16:08:37] src/tree/updater_prune.cc:74: tree pruning end, 1 roots, 246 extra nodes, 6 pruned nodes, max_depth=8\u001b[0m\n",
      "\u001b[34m[16:08:37] src/tree/updater_prune.cc:74: tree pruning end, 1 roots, 246 extra nodes, 6 pruned nodes, max_depth=8\u001b[0m\n",
      "\u001b[34m[53]#011train-merror:0.028183#011validation-merror:0.065255\u001b[0m\n",
      "\u001b[34m[16:08:37] src/tree/updater_prune.cc:74: tree pruning end, 1 roots, 284 extra nodes, 4 pruned nodes, max_depth=8\u001b[0m\n",
      "\u001b[34m[16:08:37] src/tree/updater_prune.cc:74: tree pruning end, 1 roots, 284 extra nodes, 4 pruned nodes, max_depth=8\u001b[0m\n",
      "\u001b[34m[54]#011train-merror:0.027353#011validation-merror:0.065504\u001b[0m\n",
      "\u001b[34m[16:08:38] src/tree/updater_prune.cc:74: tree pruning end, 1 roots, 268 extra nodes, 10 pruned nodes, max_depth=8\u001b[0m\n",
      "\u001b[34m[16:08:38] src/tree/updater_prune.cc:74: tree pruning end, 1 roots, 268 extra nodes, 10 pruned nodes, max_depth=8\u001b[0m\n",
      "\u001b[34m[55]#011train-merror:0.026315#011validation-merror:0.065504\u001b[0m\n",
      "\u001b[34m[16:08:38] src/tree/updater_prune.cc:74: tree pruning end, 1 roots, 262 extra nodes, 14 pruned nodes, max_depth=8\u001b[0m\n",
      "\u001b[34m[16:08:38] src/tree/updater_prune.cc:74: tree pruning end, 1 roots, 262 extra nodes, 14 pruned nodes, max_depth=8\u001b[0m\n",
      "\u001b[34m[56]#011train-merror:0.025388#011validation-merror:0.065255\u001b[0m\n",
      "\u001b[34m[16:08:38] src/tree/updater_prune.cc:74: tree pruning end, 1 roots, 238 extra nodes, 8 pruned nodes, max_depth=8\u001b[0m\n",
      "\u001b[34m[16:08:38] src/tree/updater_prune.cc:74: tree pruning end, 1 roots, 238 extra nodes, 8 pruned nodes, max_depth=8\u001b[0m\n",
      "\u001b[34m[57]#011train-merror:0.024655#011validation-merror:0.064757\u001b[0m\n",
      "\u001b[34m[16:08:39] src/tree/updater_prune.cc:74: tree pruning end, 1 roots, 212 extra nodes, 6 pruned nodes, max_depth=8\u001b[0m\n",
      "\u001b[34m[16:08:39] src/tree/updater_prune.cc:74: tree pruning end, 1 roots, 212 extra nodes, 6 pruned nodes, max_depth=8\u001b[0m\n",
      "\u001b[34m[58]#011train-merror:0.023936#011validation-merror:0.064757\u001b[0m\n",
      "\u001b[34m[16:08:39] src/tree/updater_prune.cc:74: tree pruning end, 1 roots, 178 extra nodes, 6 pruned nodes, max_depth=8\u001b[0m\n",
      "\u001b[34m[16:08:39] src/tree/updater_prune.cc:74: tree pruning end, 1 roots, 178 extra nodes, 6 pruned nodes, max_depth=8\u001b[0m\n",
      "\u001b[34m[59]#011train-merror:0.023424#011validation-merror:0.064508\u001b[0m\n",
      "\u001b[34m[16:08:39] src/tree/updater_prune.cc:74: tree pruning end, 1 roots, 112 extra nodes, 8 pruned nodes, max_depth=8\u001b[0m\n",
      "\u001b[34m[16:08:39] src/tree/updater_prune.cc:74: tree pruning end, 1 roots, 112 extra nodes, 8 pruned nodes, max_depth=8\u001b[0m\n",
      "\u001b[34m[60]#011train-merror:0.023327#011validation-merror:0.064259\u001b[0m\n",
      "\u001b[34m[16:08:39] src/tree/updater_prune.cc:74: tree pruning end, 1 roots, 210 extra nodes, 20 pruned nodes, max_depth=8\u001b[0m\n",
      "\u001b[34m[16:08:40] src/tree/updater_prune.cc:74: tree pruning end, 1 roots, 210 extra nodes, 20 pruned nodes, max_depth=8\u001b[0m\n",
      "\u001b[34m[61]#011train-merror:0.02258#011validation-merror:0.065006\u001b[0m\n",
      "\u001b[34m[16:08:40] src/tree/updater_prune.cc:74: tree pruning end, 1 roots, 180 extra nodes, 6 pruned nodes, max_depth=8\u001b[0m\n",
      "\u001b[34m[16:08:40] src/tree/updater_prune.cc:74: tree pruning end, 1 roots, 180 extra nodes, 6 pruned nodes, max_depth=8\u001b[0m\n",
      "\u001b[34m[62]#011train-merror:0.022013#011validation-merror:0.065006\u001b[0m\n",
      "\u001b[34m[16:08:40] src/tree/updater_prune.cc:74: tree pruning end, 1 roots, 228 extra nodes, 6 pruned nodes, max_depth=8\u001b[0m\n",
      "\u001b[34m[16:08:40] src/tree/updater_prune.cc:74: tree pruning end, 1 roots, 228 extra nodes, 6 pruned nodes, max_depth=8\u001b[0m\n",
      "\u001b[34m[63]#011train-merror:0.021639#011validation-merror:0.064508\u001b[0m\n",
      "\u001b[34m[16:08:40] src/tree/updater_prune.cc:74: tree pruning end, 1 roots, 160 extra nodes, 8 pruned nodes, max_depth=8\u001b[0m\n",
      "\u001b[34m[16:08:41] src/tree/updater_prune.cc:74: tree pruning end, 1 roots, 160 extra nodes, 8 pruned nodes, max_depth=8\u001b[0m\n",
      "\u001b[34m[64]#011train-merror:0.021265#011validation-merror:0.064259\u001b[0m\n",
      "\u001b[34m[16:08:41] src/tree/updater_prune.cc:74: tree pruning end, 1 roots, 244 extra nodes, 8 pruned nodes, max_depth=8\u001b[0m\n",
      "\u001b[34m[16:08:41] src/tree/updater_prune.cc:74: tree pruning end, 1 roots, 244 extra nodes, 8 pruned nodes, max_depth=8\u001b[0m\n",
      "\u001b[34m[65]#011train-merror:0.020338#011validation-merror:0.064259\u001b[0m\n",
      "\u001b[34m[16:08:41] src/tree/updater_prune.cc:74: tree pruning end, 1 roots, 146 extra nodes, 10 pruned nodes, max_depth=8\u001b[0m\n",
      "\u001b[34m[16:08:41] src/tree/updater_prune.cc:74: tree pruning end, 1 roots, 146 extra nodes, 10 pruned nodes, max_depth=8\u001b[0m\n",
      "\u001b[34m[66]#011train-merror:0.019937#011validation-merror:0.064259\u001b[0m\n",
      "\u001b[34m[16:08:41] src/tree/updater_prune.cc:74: tree pruning end, 1 roots, 196 extra nodes, 4 pruned nodes, max_depth=8\u001b[0m\n",
      "\u001b[34m[16:08:41] src/tree/updater_prune.cc:74: tree pruning end, 1 roots, 196 extra nodes, 4 pruned nodes, max_depth=8\u001b[0m\n",
      "\u001b[34m[67]#011train-merror:0.019066#011validation-merror:0.06401\u001b[0m\n",
      "\u001b[34m[16:08:42] src/tree/updater_prune.cc:74: tree pruning end, 1 roots, 82 extra nodes, 16 pruned nodes, max_depth=8\u001b[0m\n",
      "\u001b[34m[16:08:42] src/tree/updater_prune.cc:74: tree pruning end, 1 roots, 82 extra nodes, 16 pruned nodes, max_depth=8\u001b[0m\n",
      "\u001b[34m[68]#011train-merror:0.0189#011validation-merror:0.064259\u001b[0m\n",
      "\u001b[34m[16:08:42] src/tree/updater_prune.cc:74: tree pruning end, 1 roots, 38 extra nodes, 4 pruned nodes, max_depth=8\u001b[0m\n",
      "\u001b[34m[16:08:42] src/tree/updater_prune.cc:74: tree pruning end, 1 roots, 38 extra nodes, 4 pruned nodes, max_depth=8\u001b[0m\n",
      "\u001b[34m[69]#011train-merror:0.01883#011validation-merror:0.064259\u001b[0m\n",
      "\u001b[34m[16:08:42] src/tree/updater_prune.cc:74: tree pruning end, 1 roots, 130 extra nodes, 2 pruned nodes, max_depth=8\u001b[0m\n",
      "\u001b[34m[16:08:42] src/tree/updater_prune.cc:74: tree pruning end, 1 roots, 130 extra nodes, 2 pruned nodes, max_depth=8\u001b[0m\n",
      "\u001b[34m[70]#011train-merror:0.018526#011validation-merror:0.063512\u001b[0m\n",
      "\u001b[34m[16:08:42] src/tree/updater_prune.cc:74: tree pruning end, 1 roots, 128 extra nodes, 10 pruned nodes, max_depth=8\u001b[0m\n",
      "\u001b[34m[16:08:43] src/tree/updater_prune.cc:74: tree pruning end, 1 roots, 128 extra nodes, 10 pruned nodes, max_depth=8\u001b[0m\n",
      "\u001b[34m[71]#011train-merror:0.018318#011validation-merror:0.063761\u001b[0m\n",
      "\u001b[34m[16:08:43] src/tree/updater_prune.cc:74: tree pruning end, 1 roots, 250 extra nodes, 16 pruned nodes, max_depth=8\u001b[0m\n",
      "\u001b[34m[16:08:43] src/tree/updater_prune.cc:74: tree pruning end, 1 roots, 250 extra nodes, 16 pruned nodes, max_depth=8\u001b[0m\n",
      "\u001b[34m[72]#011train-merror:0.017391#011validation-merror:0.06401\u001b[0m\n",
      "\u001b[34m[16:08:43] src/tree/updater_prune.cc:74: tree pruning end, 1 roots, 228 extra nodes, 12 pruned nodes, max_depth=8\u001b[0m\n",
      "\u001b[34m[16:08:43] src/tree/updater_prune.cc:74: tree pruning end, 1 roots, 228 extra nodes, 12 pruned nodes, max_depth=8\u001b[0m\n",
      "\u001b[34m[73]#011train-merror:0.016824#011validation-merror:0.063761\u001b[0m\n",
      "\u001b[34m[16:08:43] src/tree/updater_prune.cc:74: tree pruning end, 1 roots, 230 extra nodes, 20 pruned nodes, max_depth=8\u001b[0m\n",
      "\u001b[34m[16:08:44] src/tree/updater_prune.cc:74: tree pruning end, 1 roots, 230 extra nodes, 20 pruned nodes, max_depth=8\u001b[0m\n",
      "\u001b[34m[74]#011train-merror:0.016326#011validation-merror:0.065006\u001b[0m\n",
      "\u001b[34m[16:08:44] src/tree/updater_prune.cc:74: tree pruning end, 1 roots, 316 extra nodes, 12 pruned nodes, max_depth=8\u001b[0m\n",
      "\u001b[34m[16:08:44] src/tree/updater_prune.cc:74: tree pruning end, 1 roots, 316 extra nodes, 12 pruned nodes, max_depth=8\u001b[0m\n",
      "\u001b[34m[75]#011train-merror:0.015026#011validation-merror:0.064259\u001b[0m\n",
      "\u001b[34m[16:08:44] src/tree/updater_prune.cc:74: tree pruning end, 1 roots, 220 extra nodes, 4 pruned nodes, max_depth=8\u001b[0m\n",
      "\u001b[34m[16:08:44] src/tree/updater_prune.cc:74: tree pruning end, 1 roots, 220 extra nodes, 4 pruned nodes, max_depth=8\u001b[0m\n",
      "\u001b[34m[76]#011train-merror:0.014444#011validation-merror:0.064757\u001b[0m\n",
      "\u001b[34m[16:08:44] src/tree/updater_prune.cc:74: tree pruning end, 1 roots, 144 extra nodes, 22 pruned nodes, max_depth=8\u001b[0m\n",
      "\u001b[34m[16:08:44] src/tree/updater_prune.cc:74: tree pruning end, 1 roots, 144 extra nodes, 22 pruned nodes, max_depth=8\u001b[0m\n",
      "\u001b[34m[77]#011train-merror:0.014209#011validation-merror:0.064508\u001b[0m\n",
      "\u001b[34m[16:08:45] src/tree/updater_prune.cc:74: tree pruning end, 1 roots, 320 extra nodes, 12 pruned nodes, max_depth=8\u001b[0m\n",
      "\u001b[34m[16:08:45] src/tree/updater_prune.cc:74: tree pruning end, 1 roots, 320 extra nodes, 12 pruned nodes, max_depth=8\u001b[0m\n",
      "\u001b[34m[78]#011train-merror:0.013268#011validation-merror:0.065255\u001b[0m\n",
      "\u001b[34m[16:08:45] src/tree/updater_prune.cc:74: tree pruning end, 1 roots, 168 extra nodes, 6 pruned nodes, max_depth=8\u001b[0m\n",
      "\u001b[34m[16:08:45] src/tree/updater_prune.cc:74: tree pruning end, 1 roots, 168 extra nodes, 6 pruned nodes, max_depth=8\u001b[0m\n",
      "\u001b[34m[79]#011train-merror:0.012784#011validation-merror:0.064757\u001b[0m\n",
      "\u001b[34m[16:08:45] src/tree/updater_prune.cc:74: tree pruning end, 1 roots, 194 extra nodes, 2 pruned nodes, max_depth=8\u001b[0m\n",
      "\u001b[34m[16:08:46] src/tree/updater_prune.cc:74: tree pruning end, 1 roots, 194 extra nodes, 2 pruned nodes, max_depth=8\u001b[0m\n",
      "\u001b[34m[80]#011train-merror:0.012549#011validation-merror:0.064757\u001b[0m\n",
      "\u001b[34m[16:08:46] src/tree/updater_prune.cc:74: tree pruning end, 1 roots, 184 extra nodes, 20 pruned nodes, max_depth=8\u001b[0m\n",
      "\u001b[34m[16:08:46] src/tree/updater_prune.cc:74: tree pruning end, 1 roots, 184 extra nodes, 20 pruned nodes, max_depth=8\u001b[0m\n",
      "\u001b[34m[81]#011train-merror:0.012092#011validation-merror:0.065006\u001b[0m\n",
      "\u001b[34m[16:08:46] src/tree/updater_prune.cc:74: tree pruning end, 1 roots, 94 extra nodes, 8 pruned nodes, max_depth=8\u001b[0m\n",
      "\u001b[34m[16:08:46] src/tree/updater_prune.cc:74: tree pruning end, 1 roots, 94 extra nodes, 8 pruned nodes, max_depth=8\u001b[0m\n",
      "\u001b[34m[82]#011train-merror:0.012009#011validation-merror:0.065006\u001b[0m\n",
      "\u001b[34m[16:08:46] src/tree/updater_prune.cc:74: tree pruning end, 1 roots, 44 extra nodes, 4 pruned nodes, max_depth=8\u001b[0m\n",
      "\u001b[34m[16:08:46] src/tree/updater_prune.cc:74: tree pruning end, 1 roots, 44 extra nodes, 4 pruned nodes, max_depth=8\u001b[0m\n",
      "\u001b[34m[83]#011train-merror:0.011954#011validation-merror:0.064757\u001b[0m\n",
      "\u001b[34m[16:08:47] src/tree/updater_prune.cc:74: tree pruning end, 1 roots, 318 extra nodes, 8 pruned nodes, max_depth=8\u001b[0m\n",
      "\u001b[34m[16:08:47] src/tree/updater_prune.cc:74: tree pruning end, 1 roots, 318 extra nodes, 8 pruned nodes, max_depth=8\u001b[0m\n",
      "\u001b[34m[84]#011train-merror:0.011193#011validation-merror:0.064508\u001b[0m\n",
      "\u001b[34m[16:08:47] src/tree/updater_prune.cc:74: tree pruning end, 1 roots, 124 extra nodes, 6 pruned nodes, max_depth=8\u001b[0m\n",
      "\u001b[34m[16:08:47] src/tree/updater_prune.cc:74: tree pruning end, 1 roots, 124 extra nodes, 6 pruned nodes, max_depth=8\u001b[0m\n",
      "\u001b[34m[85]#011train-merror:0.011055#011validation-merror:0.064508\u001b[0m\n",
      "\u001b[34m[16:08:47] src/tree/updater_prune.cc:74: tree pruning end, 1 roots, 224 extra nodes, 8 pruned nodes, max_depth=8\u001b[0m\n",
      "\u001b[34m[16:08:47] src/tree/updater_prune.cc:74: tree pruning end, 1 roots, 224 extra nodes, 8 pruned nodes, max_depth=8\u001b[0m\n",
      "\u001b[34m[86]#011train-merror:0.010294#011validation-merror:0.064259\u001b[0m\n",
      "\u001b[34m[16:08:48] src/tree/updater_prune.cc:74: tree pruning end, 1 roots, 246 extra nodes, 16 pruned nodes, max_depth=8\u001b[0m\n",
      "\u001b[34m[16:08:48] src/tree/updater_prune.cc:74: tree pruning end, 1 roots, 246 extra nodes, 16 pruned nodes, max_depth=8\u001b[0m\n",
      "\u001b[34m[87]#011train-merror:0.009671#011validation-merror:0.064259\u001b[0m\n",
      "\u001b[34m[16:08:48] src/tree/updater_prune.cc:74: tree pruning end, 1 roots, 210 extra nodes, 10 pruned nodes, max_depth=8\u001b[0m\n",
      "\u001b[34m[16:08:48] src/tree/updater_prune.cc:74: tree pruning end, 1 roots, 210 extra nodes, 10 pruned nodes, max_depth=8\u001b[0m\n",
      "\u001b[34m[88]#011train-merror:0.009242#011validation-merror:0.064508\u001b[0m\n",
      "\u001b[34m[16:08:48] src/tree/updater_prune.cc:74: tree pruning end, 1 roots, 244 extra nodes, 6 pruned nodes, max_depth=8\u001b[0m\n",
      "\u001b[34m[16:08:48] src/tree/updater_prune.cc:74: tree pruning end, 1 roots, 244 extra nodes, 6 pruned nodes, max_depth=8\u001b[0m\n",
      "\u001b[34m[89]#011train-merror:0.008938#011validation-merror:0.064757\u001b[0m\n",
      "\u001b[34m[16:08:49] src/tree/updater_prune.cc:74: tree pruning end, 1 roots, 194 extra nodes, 4 pruned nodes, max_depth=8\u001b[0m\n",
      "\u001b[34m[16:08:49] src/tree/updater_prune.cc:74: tree pruning end, 1 roots, 194 extra nodes, 4 pruned nodes, max_depth=8\u001b[0m\n",
      "\u001b[34m[90]#011train-merror:0.008647#011validation-merror:0.064757\u001b[0m\n",
      "\u001b[34m[16:08:49] src/tree/updater_prune.cc:74: tree pruning end, 1 roots, 246 extra nodes, 10 pruned nodes, max_depth=8\u001b[0m\n",
      "\u001b[34m[16:08:49] src/tree/updater_prune.cc:74: tree pruning end, 1 roots, 246 extra nodes, 10 pruned nodes, max_depth=8\u001b[0m\n",
      "\u001b[34m[91]#011train-merror:0.008288#011validation-merror:0.065006\u001b[0m\n",
      "\u001b[34m[16:08:49] src/tree/updater_prune.cc:74: tree pruning end, 1 roots, 218 extra nodes, 8 pruned nodes, max_depth=8\u001b[0m\n",
      "\u001b[34m[16:08:49] src/tree/updater_prune.cc:74: tree pruning end, 1 roots, 218 extra nodes, 8 pruned nodes, max_depth=8\u001b[0m\n",
      "\u001b[34m[92]#011train-merror:0.007789#011validation-merror:0.064259\u001b[0m\n",
      "\u001b[34m[16:08:49] src/tree/updater_prune.cc:74: tree pruning end, 1 roots, 146 extra nodes, 4 pruned nodes, max_depth=8\u001b[0m\n",
      "\u001b[34m[16:08:50] src/tree/updater_prune.cc:74: tree pruning end, 1 roots, 146 extra nodes, 4 pruned nodes, max_depth=8\u001b[0m\n",
      "\u001b[34m[93]#011train-merror:0.007623#011validation-merror:0.064259\u001b[0m\n",
      "\u001b[34m[16:08:50] src/tree/updater_prune.cc:74: tree pruning end, 1 roots, 198 extra nodes, 6 pruned nodes, max_depth=8\u001b[0m\n",
      "\u001b[34m[16:08:50] src/tree/updater_prune.cc:74: tree pruning end, 1 roots, 198 extra nodes, 6 pruned nodes, max_depth=8\u001b[0m\n",
      "\u001b[34m[94]#011train-merror:0.007112#011validation-merror:0.063761\u001b[0m\n",
      "\u001b[34m[16:08:50] src/tree/updater_prune.cc:74: tree pruning end, 1 roots, 230 extra nodes, 16 pruned nodes, max_depth=8\u001b[0m\n",
      "\u001b[34m[16:08:50] src/tree/updater_prune.cc:74: tree pruning end, 1 roots, 230 extra nodes, 16 pruned nodes, max_depth=8\u001b[0m\n",
      "\u001b[34m[95]#011train-merror:0.006683#011validation-merror:0.064259\u001b[0m\n",
      "\u001b[34m[16:08:50] src/tree/updater_prune.cc:74: tree pruning end, 1 roots, 92 extra nodes, 12 pruned nodes, max_depth=8\u001b[0m\n",
      "\u001b[34m[16:08:50] src/tree/updater_prune.cc:74: tree pruning end, 1 roots, 92 extra nodes, 12 pruned nodes, max_depth=8\u001b[0m\n",
      "\u001b[34m[96]#011train-merror:0.0066#011validation-merror:0.06401\u001b[0m\n",
      "\u001b[34m[16:08:51] src/tree/updater_prune.cc:74: tree pruning end, 1 roots, 194 extra nodes, 12 pruned nodes, max_depth=8\u001b[0m\n",
      "\u001b[34m[16:08:51] src/tree/updater_prune.cc:74: tree pruning end, 1 roots, 194 extra nodes, 12 pruned nodes, max_depth=8\u001b[0m\n",
      "\u001b[34m[97]#011train-merror:0.006268#011validation-merror:0.06401\u001b[0m\n",
      "\u001b[34m[16:08:51] src/tree/updater_prune.cc:74: tree pruning end, 1 roots, 274 extra nodes, 12 pruned nodes, max_depth=8\u001b[0m\n",
      "\u001b[34m[16:08:51] src/tree/updater_prune.cc:74: tree pruning end, 1 roots, 274 extra nodes, 12 pruned nodes, max_depth=8\u001b[0m\n",
      "\u001b[34m[98]#011train-merror:0.005686#011validation-merror:0.064508\u001b[0m\n",
      "\u001b[34m[16:08:51] src/tree/updater_prune.cc:74: tree pruning end, 1 roots, 192 extra nodes, 20 pruned nodes, max_depth=8\u001b[0m\n",
      "\u001b[34m[16:08:51] src/tree/updater_prune.cc:74: tree pruning end, 1 roots, 192 extra nodes, 20 pruned nodes, max_depth=8\u001b[0m\n",
      "\u001b[34m[99]#011train-merror:0.005396#011validation-merror:0.06401\u001b[0m\n",
      "\n",
      "2022-01-16 16:09:09 Uploading - Uploading generated training model\n",
      "2022-01-16 16:09:09 Completed - Training job completed\n",
      "Training seconds: 94\n",
      "Billable seconds: 20\n",
      "Managed Spot Training savings: 78.7%\n"
     ]
    }
   ],
   "source": [
    "#create train and validation channels to feed in  the model\n",
    "train_input = sagemaker.inputs.TrainingInput(s3_data = s3_train_data, content_type='csv', s3_data_type ='S3Prefix')\n",
    "valid_input = sagemaker.inputs.TrainingInput(s3_data = s3_valid_data, content_type='csv', s3_data_type ='S3Prefix')\n",
    "\n",
    "xgboost_classifier.fit({'train': train_input, 'validation': valid_input})"
   ]
  },
  {
   "cell_type": "code",
   "execution_count": 123,
   "metadata": {},
   "outputs": [
    {
     "name": "stdout",
     "output_type": "stream",
     "text": [
      "-------!"
     ]
    }
   ],
   "source": [
    "\n",
    "# Deploying the model to perform inference \n",
    "#from sagemaker.deserializers import JSONDeserializer\n",
    "from sagemaker.serializers import CSVSerializer\n",
    "xgboost_classifier = xgboost_classifier.deploy(initial_instance_count = 1,\n",
    "                                instance_type = \"ml.t2.medium\",\n",
    "                                serializer = CSVSerializer())  \n",
    "                             \n",
    "                                              \n",
    "                                              \n",
    "                        \n",
    "                       "
   ]
  },
  {
   "cell_type": "code",
   "execution_count": 124,
   "metadata": {},
   "outputs": [],
   "source": [
    "#makeing predictions\n",
    "xgb_prediction = xgboost_classifier.predict(np.array(X_test))"
   ]
  },
  {
   "cell_type": "code",
   "execution_count": 125,
   "metadata": {},
   "outputs": [
    {
     "data": {
      "text/plain": [
       "b'0.0,1.0,0.0,0.0,0.0,0.0,1.0,0.0,1.0,0.0,0.0,0.0,1.0,1.0,1.0,0.0,1.0,0.0,1.0,0.0,1.0,0.0,0.0,0.0,0.0,1.0,1.0,1.0,0.0,0.0,0.0,0.0,0.0,0.0,0.0,0.0,0.0,1.0,0.0,0.0,0.0,0.0,0.0,1.0,1.0,0.0,0.0,1.0,0.0,0.0,0.0,0.0,1.0,1.0,0.0,1.0,1.0,1.0,0.0,1.0,0.0,1.0,0.0,0.0,1.0,0.0,0.0,0.0,0.0,1.0,0.0,0.0,1.0,0.0,0.0,1.0,1.0,0.0,1.0,1.0,0.0,0.0,1.0,1.0,1.0,0.0,0.0,1.0,0.0,0.0,0.0,0.0,1.0,0.0,0.0,0.0,1.0,0.0,0.0,1.0,1.0,0.0,0.0,1.0,0.0,1.0,1.0,0.0,1.0,0.0,0.0,1.0,1.0,0.0,0.0,0.0,0.0,0.0,0.0,0.0,0.0,0.0,0.0,1.0,0.0,1.0,0.0,0.0,1.0,0.0,0.0,0.0,1.0,1.0,0.0,1.0,0.0,0.0,0.0,0.0,0.0,0.0,1.0,0.0,1.0,1.0,1.0,1.0,0.0,0.0,0.0,0.0,0.0,0.0,0.0,0.0,0.0,0.0,0.0,0.0,0.0,0.0,0.0,1.0,0.0,0.0,1.0,0.0,0.0,0.0,1.0,0.0,0.0,0.0,0.0,1.0,1.0,0.0,0.0,0.0,1.0,0.0,0.0,1.0,0.0,0.0,0.0,1.0,0.0,0.0,0.0,0.0,1.0,0.0,0.0,0.0,0.0,1.0,0.0,0.0,1.0,1.0,1.0,1.0,0.0,0.0,0.0,0.0,1.0,0.0,0.0,0.0,1.0,0.0,0.0,0.0,0.0,0.0,0.0,1.0,1.0,0.0,1.0,0.0,0.0,1.0,0.0,0.0,0.0,1.0,0.0,0.0,0.0,0.0,0.0,0.0,0.0,1.0,0.0,1.0,1.0,1.0,0.0,0.0,0.0,1.0,0.0,0.0,1.0,0.0,0.0,1.0,1.0,0.0,0.0,0.0,1.0,0.0,0.0,0.0,0.0,1.0,0.0,0.0,1.0,1.0,0.0,0.0,0.0,0.0,1.0,0.0,0.0,0.0,0.0,0.0,0.0,0.0,1.0,1.0,0.0,0.0,0.0,0.0,1.0,1.0,0.0,1.0,0.0,1.0,0.0,1.0,0.0,1.0,0.0,0.0,1.0,0.0,0.0,0.0,0.0,0.0,1.0,0.0,0.0,0.0,0.0,0.0,0.0,0.0,0.0,0.0,0.0,0.0,1.0,0.0,1.0,1.0,0.0,0.0,1.0,1.0,1.0,0.0,0.0,1.0,1.0,1.0,1.0,0.0,1.0,0.0,1.0,0.0,0.0,1.0,0.0,0.0,1.0,1.0,0.0,0.0,0.0,1.0,1.0,1.0,0.0,0.0,1.0,1.0,1.0,0.0,0.0,0.0,0.0,0.0,1.0,1.0,0.0,0.0,0.0,0.0,1.0,0.0,0.0,0.0,1.0,0.0,0.0,1.0,1.0,1.0,0.0,0.0,0.0,0.0,0.0,0.0,1.0,0.0,1.0,0.0,1.0,1.0,1.0,0.0,0.0,0.0,1.0,0.0,0.0,0.0,1.0,1.0,0.0,0.0,1.0,0.0,0.0,0.0,1.0,1.0,0.0,0.0,0.0,1.0,0.0,1.0,1.0,0.0,0.0,0.0,1.0,0.0,1.0,0.0,1.0,1.0,0.0,0.0,0.0,0.0,1.0,0.0,0.0,1.0,0.0,1.0,0.0,1.0,0.0,0.0,0.0,0.0,0.0,0.0,0.0,0.0,1.0,1.0,0.0,1.0,1.0,0.0,1.0,0.0,1.0,0.0,0.0,1.0,0.0,0.0,0.0,0.0,1.0,1.0,1.0,0.0,1.0,1.0,0.0,0.0,0.0,0.0,1.0,0.0,0.0,0.0,1.0,0.0,1.0,1.0,0.0,0.0,0.0,0.0,0.0,1.0,0.0,0.0,0.0,1.0,0.0,1.0,1.0,1.0,1.0,0.0,0.0,1.0,0.0,0.0,1.0,0.0,0.0,0.0,1.0,0.0,0.0,1.0,0.0,0.0,1.0,1.0,0.0,0.0,1.0,0.0,0.0,1.0,1.0,0.0,1.0,0.0,1.0,0.0,0.0,0.0,0.0,0.0,1.0,1.0,0.0,0.0,0.0,1.0,0.0,0.0,0.0,1.0,0.0,0.0,1.0,1.0,0.0,0.0,1.0,0.0,1.0,0.0,0.0,0.0,0.0,1.0,0.0,0.0,1.0,0.0,1.0,1.0,0.0,0.0,0.0,0.0,0.0,0.0,1.0,0.0,0.0,0.0,0.0,0.0,0.0,0.0,0.0,0.0,1.0,0.0,1.0,1.0,1.0,0.0,0.0,0.0,0.0,1.0,1.0,0.0,0.0,1.0,0.0,0.0,0.0,1.0,0.0,0.0,1.0,0.0,0.0,1.0,1.0,0.0,0.0,0.0,0.0,1.0,0.0,1.0,0.0,0.0,0.0,0.0,1.0,1.0,0.0,0.0,0.0,0.0,0.0,1.0,0.0,0.0,0.0,0.0,0.0,1.0,1.0,0.0,1.0,0.0,0.0,1.0,1.0,1.0,0.0,0.0,1.0,0.0,0.0,1.0,0.0,0.0,0.0,1.0,1.0,1.0,0.0,1.0,0.0,0.0,0.0,0.0,0.0,0.0,0.0,0.0,1.0,0.0,1.0,1.0,0.0,1.0,0.0,0.0,0.0,0.0,0.0,1.0,1.0,0.0,1.0,0.0,1.0,0.0,0.0,0.0,1.0,1.0,0.0,1.0,1.0,1.0,0.0,0.0,0.0,0.0,0.0,1.0,1.0,1.0,1.0,1.0,1.0,0.0,0.0,1.0,1.0,1.0,0.0,1.0,1.0,1.0,0.0,1.0,1.0,0.0,1.0,1.0,1.0,1.0,1.0,0.0,1.0,0.0,0.0,0.0,1.0,0.0,0.0,1.0,1.0,0.0,1.0,0.0,1.0,1.0,1.0,0.0,0.0,0.0,1.0,1.0,0.0,1.0,0.0,1.0,0.0,0.0,0.0,1.0,0.0,0.0,1.0,1.0,0.0,0.0,0.0,0.0,0.0,0.0,0.0,0.0,1.0,0.0,1.0,1.0,0.0,0.0,0.0,0.0,0.0,0.0,0.0,0.0,0.0,0.0,0.0,1.0,1.0,1.0,1.0,1.0,0.0,0.0,0.0,0.0,0.0,0.0,0.0,1.0,0.0,1.0,1.0,0.0,0.0,0.0,0.0,1.0,0.0,1.0,0.0,0.0,0.0,1.0,0.0,0.0,0.0,0.0,0.0,0.0,0.0,0.0,1.0,0.0,1.0,1.0,1.0,0.0,0.0,0.0,0.0,1.0,0.0,0.0,0.0,0.0,1.0,0.0,0.0,1.0,1.0,1.0,0.0,0.0,0.0,0.0,0.0,1.0,1.0,1.0,1.0,0.0,0.0,0.0,0.0,0.0,0.0,0.0,0.0,0.0,0.0,1.0,0.0,0.0,1.0,1.0,1.0,0.0,0.0,0.0,0.0,0.0,0.0,0.0,0.0,1.0,0.0,1.0,0.0,0.0,0.0,1.0,0.0,1.0,0.0,1.0,1.0,1.0,0.0,1.0,0.0,0.0,1.0,0.0,1.0,0.0,0.0,0.0,1.0,0.0,1.0,0.0,0.0,1.0,1.0,0.0,0.0,0.0,0.0,1.0,0.0,1.0,1.0,0.0,0.0,1.0,1.0,1.0,0.0,1.0,0.0,1.0,0.0,1.0,1.0,0.0,1.0,0.0,1.0,0.0,0.0,0.0,1.0,0.0,1.0,0.0,1.0,1.0,0.0,1.0,1.0,1.0,0.0,0.0,1.0,0.0,0.0,1.0,0.0,0.0,1.0,1.0,0.0,0.0,0.0,0.0,0.0,0.0,0.0,1.0,0.0,0.0,0.0,1.0,1.0,0.0,1.0,1.0,1.0,0.0,0.0,1.0,0.0,1.0,0.0,0.0,0.0,0.0,0.0,0.0,0.0,1.0,0.0,0.0,1.0,1.0,0.0,1.0,1.0,1.0,0.0,1.0,1.0,1.0,1.0,1.0,0.0,1.0,1.0,1.0,0.0,1.0,0.0,0.0,1.0,1.0,0.0,1.0,0.0,0.0,1.0,1.0,1.0,1.0,0.0,1.0,1.0,0.0,0.0,0.0,0.0,0.0,1.0,0.0,1.0,0.0,1.0,0.0,1.0,0.0,0.0,1.0,1.0,1.0,0.0,0.0,1.0,0.0,0.0,1.0,1.0,1.0,0.0,0.0,0.0,1.0,0.0,0.0,0.0,0.0,0.0,0.0,1.0,0.0,0.0,1.0,1.0,1.0,1.0,0.0,1.0,1.0,0.0,0.0,0.0,0.0,0.0,0.0,0.0,0.0,0.0,1.0,1.0,0.0,0.0,0.0,1.0,1.0,0.0,0.0,0.0,1.0,0.0,1.0,1.0,0.0,1.0,0.0,0.0,1.0,0.0,0.0,0.0,0.0,1.0,1.0,0.0,0.0,1.0,0.0,0.0,0.0,1.0,1.0,0.0,1.0,0.0,0.0,0.0,0.0,1.0,0.0,1.0,0.0,1.0,1.0,1.0,1.0,1.0,1.0,0.0,0.0,1.0,1.0,0.0,0.0,0.0,1.0,1.0,0.0,1.0,1.0,0.0,0.0,1.0,0.0,0.0,1.0,0.0,0.0,1.0,1.0,0.0,1.0,0.0,0.0,1.0,1.0,0.0,1.0,0.0,0.0,0.0,1.0,0.0,0.0,1.0,0.0,1.0,0.0,0.0,1.0,0.0,1.0,0.0,1.0,0.0,1.0,0.0,0.0,0.0,1.0,1.0,0.0,0.0,1.0,0.0,1.0,1.0,0.0,1.0,1.0,1.0,1.0,1.0,0.0,1.0,1.0,1.0,0.0,1.0,1.0,0.0,1.0,0.0,0.0,0.0,1.0,0.0,0.0,0.0,0.0,1.0,1.0,0.0,1.0,1.0,0.0,1.0,0.0,1.0,1.0,1.0,0.0,1.0,0.0,1.0,0.0,1.0,1.0,0.0,1.0,0.0,1.0,0.0,1.0,1.0,0.0,1.0,0.0,0.0,0.0,1.0,0.0,1.0,1.0,0.0,0.0,0.0,0.0,1.0,0.0,0.0,0.0,0.0,1.0,1.0,0.0,0.0,0.0,0.0,0.0,1.0,0.0,0.0,0.0,1.0,1.0,0.0,1.0,0.0,0.0,1.0,0.0,1.0,1.0,1.0,1.0,0.0,0.0,0.0,0.0,0.0,1.0,1.0,0.0,0.0,0.0,1.0,0.0,0.0,0.0,0.0,0.0,0.0,1.0,0.0,0.0,0.0,0.0,0.0,0.0,0.0,1.0,1.0,1.0,0.0,0.0,0.0,0.0,0.0,0.0,0.0,1.0,1.0,0.0,0.0,1.0,0.0,0.0,1.0,0.0,0.0,0.0,1.0,0.0,1.0,0.0,1.0,0.0,0.0,0.0,1.0,0.0,0.0,1.0,0.0,0.0,0.0,1.0,0.0,1.0,0.0,0.0,1.0,1.0,1.0,0.0,0.0,0.0,1.0,0.0,1.0,1.0,1.0,1.0,0.0,0.0,1.0,1.0,1.0,0.0,1.0,0.0,1.0,1.0,1.0,1.0,0.0,1.0,0.0,1.0,1.0,0.0,0.0,0.0,0.0,0.0,0.0,0.0,0.0,1.0,0.0,0.0,1.0,0.0,0.0,0.0,1.0,1.0,1.0,1.0,0.0,0.0,1.0,0.0,0.0,1.0,0.0,0.0,0.0,0.0,0.0,0.0,1.0,1.0,0.0,0.0,0.0,0.0,0.0,0.0,1.0,0.0,0.0,1.0,0.0,1.0,1.0,0.0,0.0,0.0,0.0,0.0,1.0,0.0,0.0,1.0,1.0,0.0,0.0,1.0,0.0,1.0,1.0,0.0,0.0,0.0,0.0,1.0,0.0,0.0,0.0,1.0,0.0,1.0,1.0,0.0,1.0,1.0,0.0,1.0,0.0,1.0,1.0,0.0,0.0,0.0,1.0,0.0,0.0,1.0,0.0,1.0,0.0,1.0,0.0,0.0,1.0,1.0,1.0,0.0,0.0,0.0,0.0,0.0,1.0,0.0,1.0,0.0,0.0,0.0,0.0,0.0,1.0,1.0,1.0,1.0,0.0,0.0,0.0,0.0,0.0,1.0,0.0,1.0,1.0,0.0,0.0,0.0,1.0,0.0,0.0,1.0,0.0,1.0,0.0,0.0,1.0,0.0,0.0,0.0,1.0,1.0,0.0,0.0,1.0,0.0,0.0,0.0,0.0,1.0,1.0,1.0,0.0,0.0,0.0,1.0,1.0,0.0,0.0,1.0,0.0,1.0,1.0,1.0,1.0,1.0,0.0,0.0,0.0,0.0,0.0,0.0,0.0,0.0,0.0,0.0,1.0,1.0,1.0,0.0,1.0,0.0,1.0,1.0,1.0,0.0,0.0,0.0,1.0,1.0,1.0,1.0,1.0,1.0,0.0,1.0,0.0,0.0,0.0,0.0,0.0,0.0,0.0,0.0,0.0,0.0,0.0,0.0,1.0,0.0,1.0,0.0,0.0,0.0,1.0,1.0,0.0,0.0,0.0,0.0,1.0,0.0,1.0,1.0,0.0,0.0,1.0,0.0,1.0,0.0,0.0,0.0,0.0,0.0,1.0,1.0,0.0,1.0,1.0,0.0,1.0,0.0,0.0,0.0,0.0,0.0,1.0,0.0,1.0,0.0,0.0,1.0,1.0,0.0,1.0,1.0,1.0,0.0,0.0,0.0,1.0,0.0,0.0,0.0,0.0,0.0,1.0,0.0,0.0,0.0,1.0,0.0,1.0,1.0,0.0,0.0,0.0,0.0,1.0,0.0,0.0,1.0,0.0,1.0,1.0,0.0,0.0,0.0,0.0,1.0,1.0,0.0,1.0,0.0,0.0,0.0,0.0,0.0,1.0,1.0,0.0,0.0,0.0,1.0,0.0,0.0,1.0,0.0,0.0,0.0,0.0,0.0,0.0,1.0,0.0,0.0,1.0,1.0,1.0,1.0,0.0,0.0,0.0,1.0,0.0,1.0,0.0,0.0,1.0,1.0,0.0,0.0,0.0,1.0,0.0,0.0,0.0,0.0,0.0,0.0,1.0,0.0,0.0,0.0,0.0,0.0,1.0,1.0,1.0,1.0,0.0,1.0,0.0,0.0,1.0,1.0,0.0,0.0,1.0,1.0,0.0,0.0,0.0,0.0,1.0,0.0,0.0,0.0,0.0,1.0,0.0,1.0,0.0,0.0,0.0,0.0,1.0,0.0,0.0,0.0,0.0,0.0,0.0,1.0,0.0,0.0,0.0,0.0,1.0,0.0,0.0,1.0,1.0,0.0,1.0,0.0,0.0,0.0,1.0,1.0,0.0,0.0,1.0,0.0,0.0,1.0,1.0,0.0,1.0,0.0,0.0,0.0,1.0,0.0,1.0,0.0,0.0,1.0,1.0,0.0,1.0,0.0,0.0,0.0,1.0,0.0,0.0,0.0,1.0,1.0,1.0,0.0,0.0,1.0,0.0,0.0,0.0,0.0,0.0,1.0,0.0,1.0,0.0,1.0,0.0,0.0,1.0,0.0,0.0,1.0,0.0,0.0,0.0,1.0,1.0,0.0,1.0,1.0,0.0,0.0,0.0,0.0,1.0,1.0,1.0,1.0,0.0,1.0,0.0,1.0,1.0,1.0,0.0,0.0,1.0,1.0,0.0,1.0,0.0,0.0,1.0,0.0,0.0,1.0,0.0,0.0,0.0,1.0,0.0,0.0,0.0,1.0,0.0,1.0,1.0,0.0,1.0,0.0,1.0,1.0,1.0,0.0,1.0,1.0,0.0,0.0,1.0,0.0,0.0,0.0,0.0,1.0,0.0,0.0,0.0,0.0,1.0,0.0,1.0,0.0,1.0,0.0,1.0,0.0,0.0,0.0,0.0,0.0,1.0,0.0,1.0,0.0,0.0,0.0,0.0,0.0,0.0,0.0,0.0,0.0,0.0,1.0,1.0,1.0,0.0,0.0,0.0,0.0,1.0,1.0,1.0,0.0,1.0,1.0,0.0,0.0,1.0,0.0,0.0,0.0,0.0,1.0,1.0,0.0,1.0,0.0,0.0,0.0,1.0,0.0,0.0,1.0,0.0,0.0,0.0,0.0,0.0,0.0,1.0,0.0,0.0,1.0,0.0,0.0,0.0,1.0,0.0,0.0,0.0,1.0,0.0,1.0,0.0,0.0,0.0,1.0,1.0,1.0,0.0,0.0,0.0,1.0,1.0,0.0,0.0,1.0,1.0,0.0,0.0,0.0,1.0,0.0,0.0,0.0,0.0,0.0,1.0,1.0,1.0,1.0,1.0,0.0,0.0,0.0,0.0,1.0,0.0,1.0,0.0,0.0,0.0,0.0,1.0,0.0,1.0,0.0,0.0,0.0,1.0,0.0,1.0,0.0,0.0,0.0,0.0,0.0,1.0,0.0,1.0,0.0,0.0,1.0,0.0,0.0,0.0,1.0,1.0,0.0,1.0,1.0,1.0,0.0,1.0,1.0,0.0,1.0,0.0,0.0,0.0,0.0,0.0,1.0,0.0,0.0,0.0,1.0,0.0,0.0,0.0,1.0,0.0,0.0,0.0,0.0,0.0,0.0,0.0,1.0,0.0,1.0,1.0,1.0,0.0,0.0,0.0,1.0,1.0,1.0,1.0,0.0,0.0,0.0,0.0,0.0,0.0,0.0,0.0,1.0,0.0,0.0,0.0,0.0,0.0,0.0,0.0,0.0,0.0,0.0,0.0,1.0,1.0,1.0,0.0,0.0,0.0,1.0,0.0,0.0,0.0,1.0,1.0,1.0,0.0,0.0,0.0,0.0,0.0,0.0,1.0,1.0,0.0,0.0,0.0,1.0,0.0,1.0,0.0,1.0,0.0,0.0,0.0,0.0,0.0,0.0,1.0,0.0,0.0,1.0,0.0,0.0,0.0,0.0,0.0,1.0,0.0,0.0,0.0,0.0,0.0,0.0,0.0,0.0,0.0,1.0,1.0,0.0,1.0,1.0,0.0,0.0,0.0,0.0,1.0,0.0,1.0,0.0,0.0,0.0,1.0,0.0,1.0,0.0,0.0,0.0,1.0,0.0,0.0,1.0,0.0,0.0,0.0,1.0,0.0,0.0,0.0,0.0,0.0,0.0,0.0,1.0,0.0,0.0,1.0,1.0,0.0,0.0,0.0,1.0,1.0,0.0,0.0,0.0,0.0,1.0,1.0,1.0,1.0,1.0,1.0,1.0,0.0,0.0,0.0,0.0,0.0,1.0,0.0,0.0,0.0,0.0,0.0,0.0,0.0,0.0,0.0,0.0,1.0,0.0,0.0,0.0,0.0,1.0,0.0,1.0,1.0,0.0,0.0,0.0,0.0,0.0,0.0,1.0,1.0,0.0,1.0,0.0,0.0,0.0,0.0,0.0,1.0,1.0,0.0,1.0,1.0,1.0,1.0,1.0,1.0,0.0,0.0,0.0,0.0,0.0,1.0,0.0,1.0,0.0,0.0,0.0,0.0,1.0,0.0,0.0,1.0,0.0,0.0,0.0,0.0,0.0,0.0,0.0,1.0,1.0,0.0,1.0,1.0,0.0,1.0,0.0,1.0,1.0,0.0,0.0,0.0,0.0,1.0,0.0,0.0,1.0,0.0,0.0,0.0,0.0,1.0,0.0,0.0,0.0,1.0,0.0,0.0,0.0,0.0,1.0,0.0,0.0,1.0,1.0,0.0,0.0,0.0,1.0,0.0,0.0,1.0,1.0,0.0,0.0,0.0,1.0,0.0,0.0,0.0,0.0,1.0,1.0,1.0,0.0,1.0,1.0,0.0,0.0,0.0,0.0,0.0,1.0,1.0,1.0,1.0,0.0,0.0,1.0,0.0,0.0,0.0,0.0,1.0,0.0,0.0,1.0,0.0,0.0,0.0,1.0,0.0,0.0,0.0,1.0,1.0,1.0,1.0,0.0,0.0,0.0,0.0,1.0,1.0,1.0,0.0,0.0,1.0,0.0,0.0,0.0,0.0,1.0,0.0,0.0,0.0,1.0,1.0,1.0,0.0,1.0,1.0,0.0,0.0,0.0,1.0,0.0,1.0,1.0,1.0,0.0,0.0,1.0,1.0,0.0,0.0,0.0,0.0,0.0,1.0,0.0,0.0,0.0,0.0,1.0,0.0,0.0,0.0,1.0,1.0,0.0,0.0,1.0,1.0,1.0,0.0,0.0,0.0,0.0,1.0,1.0,1.0,0.0,0.0,1.0,0.0,0.0,0.0,1.0,1.0,0.0,1.0,1.0,0.0,0.0,1.0,1.0,0.0,0.0,0.0,1.0,0.0,1.0,0.0,1.0,0.0,1.0,0.0,1.0,0.0,1.0,1.0,1.0,0.0,0.0,0.0,1.0,1.0,1.0,0.0,0.0,1.0,0.0,0.0,0.0,1.0,0.0,0.0,0.0,0.0,0.0,0.0,0.0,0.0,1.0,1.0,1.0,1.0,1.0,1.0,0.0,0.0,1.0,1.0,1.0,0.0,1.0,0.0,0.0,0.0,0.0,1.0,1.0,0.0,0.0,0.0,0.0,1.0,0.0,1.0,1.0,0.0,0.0,0.0,0.0,1.0,0.0,0.0,1.0,0.0,1.0,0.0,0.0,1.0,1.0,1.0,0.0,0.0,0.0,0.0,1.0,0.0,0.0,1.0,0.0,0.0,1.0,0.0,0.0,0.0,0.0,0.0,0.0,0.0,0.0,1.0,0.0,0.0,1.0,0.0,0.0,0.0,0.0,1.0,0.0,0.0,1.0,0.0,0.0,1.0,0.0,1.0,0.0,0.0,1.0,1.0,1.0,1.0,0.0,0.0,1.0,1.0,1.0,0.0,0.0,1.0,0.0,0.0,0.0,1.0,1.0,1.0,1.0,0.0,1.0,0.0,0.0,0.0,1.0,1.0,1.0,0.0,0.0,1.0,0.0,1.0,0.0,1.0,0.0,0.0,1.0,1.0,0.0,0.0,0.0,0.0,0.0,1.0,0.0,0.0,1.0,0.0,1.0,1.0,1.0,0.0,0.0,0.0,0.0,0.0,0.0,1.0,1.0,0.0,1.0,1.0,0.0,0.0,0.0,0.0,0.0,0.0,0.0,0.0,0.0,1.0,1.0,0.0,1.0,0.0,0.0,0.0,0.0,0.0,1.0,1.0,0.0,1.0,1.0,1.0,0.0,1.0,1.0,0.0,0.0,0.0,1.0,0.0,0.0,1.0,0.0,0.0,1.0,1.0,1.0,0.0,0.0,0.0,1.0,0.0,0.0,0.0,0.0,1.0,0.0,0.0,1.0,0.0,0.0,0.0,0.0,0.0,0.0,1.0,0.0,0.0,0.0,0.0,1.0,0.0,0.0,1.0,0.0,1.0,0.0,1.0,0.0,0.0,1.0,0.0,0.0,0.0,0.0,1.0,1.0,0.0,0.0,1.0,0.0,0.0,0.0,0.0,0.0,0.0,1.0,1.0,0.0,0.0,0.0,0.0,0.0,0.0,0.0,0.0,0.0,0.0,0.0,0.0,1.0,0.0,0.0,1.0,0.0,1.0,0.0,1.0,0.0,1.0,0.0,0.0,0.0,1.0,1.0,1.0,1.0,0.0,0.0,1.0,0.0,0.0,0.0,1.0,1.0,1.0,1.0,0.0,1.0,0.0,0.0,1.0,0.0,0.0,0.0,0.0,0.0,1.0,0.0,0.0,0.0,1.0,1.0,0.0,1.0,0.0,1.0,0.0,0.0,0.0,0.0,0.0,0.0,0.0,1.0,0.0,0.0,0.0,0.0,0.0,0.0,0.0,1.0,1.0,1.0,0.0,0.0,0.0,1.0,0.0,0.0,0.0,0.0,0.0,0.0,0.0,1.0,0.0,1.0,0.0,1.0,1.0,0.0,0.0,0.0,0.0,1.0,0.0,1.0,0.0,1.0,0.0,1.0,0.0,0.0,0.0,0.0,0.0,0.0,0.0,0.0,0.0,1.0,0.0,0.0,0.0,1.0,0.0,0.0,1.0,1.0,0.0,0.0,0.0,1.0,1.0,0.0,1.0,1.0,0.0,1.0,0.0,0.0,1.0,0.0,1.0,0.0,1.0,0.0,0.0,0.0,1.0,0.0,1.0,1.0,0.0,0.0,1.0,1.0,1.0,1.0,1.0,1.0,1.0,0.0,0.0,0.0,1.0,1.0,1.0,1.0,1.0,1.0,0.0,0.0,1.0,1.0,1.0,0.0,1.0,0.0,1.0,1.0,0.0,0.0,0.0,1.0,0.0,0.0,0.0,1.0,1.0,0.0,0.0,0.0,0.0,1.0,1.0,0.0,1.0,0.0,0.0,0.0,1.0,1.0,0.0,1.0,0.0,1.0,0.0,0.0,0.0,0.0,0.0,1.0,0.0,0.0,0.0,0.0,1.0,0.0,0.0,0.0,1.0,0.0,1.0,0.0,0.0,1.0,0.0,1.0,1.0,0.0,0.0,0.0,0.0,1.0,0.0,1.0,0.0,1.0,0.0,1.0,0.0,0.0,1.0,0.0,0.0,0.0,0.0,1.0,1.0,0.0,1.0,1.0,1.0,0.0,1.0,1.0,0.0,1.0,1.0,0.0,0.0,0.0,0.0,0.0,0.0,0.0,0.0,0.0,0.0,1.0,1.0,0.0,0.0,1.0,0.0,1.0,1.0,0.0,0.0,0.0,0.0,0.0,0.0,1.0,0.0,1.0,0.0,0.0,0.0,1.0,0.0,0.0,0.0,1.0,0.0,1.0,0.0,1.0,0.0,1.0,1.0,0.0,0.0,0.0,0.0,1.0,0.0,0.0,1.0,0.0,0.0,0.0,0.0,0.0,0.0,1.0,0.0,0.0,0.0,0.0,1.0,1.0,0.0,1.0,0.0,0.0,0.0,0.0,0.0,0.0,1.0,0.0,1.0,1.0,1.0,0.0,1.0,0.0,0.0,0.0,1.0,1.0,0.0,1.0,0.0,0.0,0.0,0.0,1.0,1.0,0.0,1.0,0.0,1.0,0.0,1.0,0.0,1.0,1.0,0.0,0.0,0.0,1.0,1.0,0.0,0.0,0.0,1.0,0.0,1.0,0.0,0.0,0.0,0.0,1.0,0.0,0.0,0.0,0.0,0.0,0.0,0.0,1.0,1.0,1.0,1.0,1.0,1.0,0.0,0.0,0.0,0.0,0.0,1.0,0.0,0.0,1.0,1.0,0.0,1.0,0.0,1.0,1.0,0.0,1.0,1.0,1.0,0.0,1.0,0.0,0.0,0.0,1.0,0.0,1.0,0.0,0.0,1.0,1.0,1.0,0.0,0.0,0.0,0.0,1.0,0.0,1.0,0.0,0.0,1.0,0.0,0.0,0.0,0.0,1.0,0.0,0.0,1.0,0.0,0.0,0.0,1.0,1.0,1.0,0.0,0.0,0.0,0.0,1.0,1.0,1.0,0.0,0.0,0.0,0.0,0.0,0.0,1.0,0.0,0.0,0.0,0.0,0.0,0.0,0.0,0.0,1.0,0.0,0.0,0.0,1.0,1.0,0.0,1.0,0.0,1.0,0.0,1.0,0.0,0.0,1.0,1.0,0.0,1.0,0.0,1.0,0.0,0.0,0.0,1.0,1.0,0.0,0.0,1.0,0.0,0.0,1.0,1.0,1.0,0.0,1.0,0.0,1.0,0.0,0.0,0.0,0.0,0.0,0.0,0.0,0.0,0.0,0.0,0.0,0.0,1.0,1.0,0.0,0.0,1.0,1.0,1.0,0.0,0.0,0.0,0.0,1.0,1.0,0.0,0.0,0.0,0.0,0.0,1.0,1.0,1.0,0.0,1.0,1.0,0.0,0.0,1.0,0.0,1.0,0.0,1.0,0.0,1.0,1.0,1.0,0.0,0.0,1.0,1.0,1.0,0.0,0.0,1.0,0.0,0.0,1.0,1.0,0.0,1.0,0.0,0.0,1.0,0.0,0.0,0.0,0.0,1.0,0.0,1.0,0.0,0.0,0.0,0.0,0.0,0.0,1.0,0.0,1.0,1.0,0.0,0.0,0.0,0.0,1.0,0.0,0.0,1.0,0.0,0.0,0.0,1.0,0.0,1.0,0.0,0.0,0.0,0.0,1.0,1.0,0.0,0.0,0.0,0.0,0.0,1.0,0.0,0.0,1.0,0.0,0.0,1.0,1.0,1.0,1.0,0.0,1.0,0.0,1.0,0.0,1.0,1.0,0.0,0.0,0.0,0.0,1.0,0.0,1.0,0.0,0.0,0.0,0.0,0.0,0.0,0.0,0.0,0.0,1.0,0.0,1.0,1.0,1.0,1.0,0.0,1.0,0.0,0.0,0.0,1.0,0.0,0.0,0.0,1.0,1.0,1.0,1.0,1.0,0.0,0.0,1.0,0.0,0.0,0.0,1.0,1.0,0.0,1.0,1.0,0.0,0.0,0.0,1.0,1.0,1.0,0.0,0.0,0.0,0.0,1.0,1.0,0.0,1.0,1.0,1.0,0.0,0.0,0.0,1.0,1.0,1.0,0.0,1.0,0.0,0.0,1.0,1.0,1.0,0.0,0.0,1.0,0.0,0.0,0.0,0.0,0.0,0.0,1.0,0.0,0.0,0.0,0.0,1.0,1.0,0.0,1.0,0.0,1.0,0.0,0.0,0.0,1.0,0.0,0.0,1.0,0.0,0.0,1.0,1.0,1.0,1.0,0.0,0.0,0.0,0.0,0.0,1.0,0.0,0.0,1.0,1.0,0.0,0.0,0.0,1.0,0.0,1.0,0.0,0.0,0.0,1.0,1.0,0.0,0.0,0.0,0.0,0.0,0.0,1.0,1.0,0.0,1.0,0.0,0.0,0.0,1.0,1.0,0.0,0.0,0.0,1.0,0.0,0.0,1.0,0.0,0.0,0.0,0.0,1.0,1.0,0.0,1.0,0.0,1.0,0.0,1.0,0.0,1.0,0.0,0.0,0.0,0.0,0.0,0.0,0.0,1.0,0.0,1.0,0.0,0.0,0.0,0.0,0.0,1.0,1.0,1.0,0.0,0.0,1.0,0.0,0.0,0.0,0.0,0.0,0.0,0.0,0.0,0.0,0.0,0.0,1.0,0.0,0.0,0.0,1.0,0.0,1.0,1.0,1.0,1.0,0.0,0.0,1.0,0.0,1.0,0.0,0.0,1.0,0.0,0.0,1.0,1.0,0.0,0.0,0.0,0.0,1.0,0.0,1.0,0.0,0.0,1.0,0.0,0.0,1.0,0.0,1.0,1.0,0.0,1.0,0.0,1.0,0.0,0.0,1.0,0.0,1.0,0.0,1.0,0.0,0.0,0.0,0.0,0.0,0.0,0.0,0.0,1.0,1.0,1.0,1.0,1.0,1.0,0.0,0.0,0.0,1.0,0.0,1.0,1.0,1.0,0.0,0.0,1.0,0.0,1.0,0.0,0.0,1.0,0.0,1.0,0.0,1.0,0.0,0.0,0.0,0.0,0.0,1.0,1.0,0.0,0.0,0.0,0.0,1.0,0.0,0.0,1.0,1.0,0.0,0.0,0.0,0.0,0.0,0.0,0.0,1.0,0.0,0.0,0.0,1.0,1.0,0.0,0.0,0.0,0.0,1.0,0.0,1.0,0.0,1.0,0.0,0.0,0.0,0.0,0.0,1.0,0.0,1.0,0.0,1.0,0.0,1.0,0.0,0.0,0.0,0.0,0.0,1.0,1.0,0.0,0.0,1.0,1.0,0.0,0.0,0.0,1.0,1.0,0.0,0.0,1.0,1.0,1.0,0.0,0.0,0.0,0.0,1.0,1.0,0.0,1.0,1.0,0.0,0.0,1.0,1.0,1.0,0.0,0.0,0.0,1.0,0.0,0.0,0.0,0.0,1.0,1.0,1.0,1.0,0.0,1.0,1.0,1.0,1.0,1.0,1.0,0.0,0.0,1.0,0.0,0.0,0.0,1.0,1.0,0.0,0.0,1.0,0.0,0.0,0.0,1.0,0.0,0.0,0.0,0.0,1.0,0.0,0.0,1.0,0.0,0.0,1.0,1.0,1.0,0.0,1.0,1.0,1.0,1.0,0.0,1.0,0.0,0.0,1.0,0.0,0.0,1.0,1.0,0.0,0.0,0.0,0.0,0.0,0.0,0.0,0.0,1.0,0.0,0.0,1.0,1.0,0.0,0.0,1.0,1.0,0.0,0.0,0.0,0.0,0.0,0.0,0.0,1.0,1.0,0.0,1.0,0.0,0.0,0.0,1.0,1.0,0.0,0.0,0.0,1.0,1.0,1.0,1.0,1.0,0.0,0.0,0.0,1.0,1.0,0.0,0.0,0.0,1.0,0.0,0.0,0.0,1.0,0.0,0.0,1.0,1.0,1.0,1.0,0.0,1.0,0.0,0.0,0.0,1.0,1.0,0.0,0.0,1.0,1.0,0.0,0.0,0.0,0.0,0.0,0.0,0.0,1.0,0.0,0.0,0.0,0.0,0.0,1.0,0.0,0.0,0.0,0.0,0.0,1.0,1.0,1.0,0.0,0.0,1.0,0.0,0.0,0.0,1.0,0.0,0.0,0.0,0.0,0.0,1.0,0.0,0.0,1.0,1.0,0.0,0.0,0.0,0.0,0.0,0.0,0.0,1.0,0.0,1.0,1.0,1.0,1.0,1.0,0.0,0.0,0.0,0.0,1.0,1.0,0.0,0.0,0.0,0.0,1.0,1.0,0.0,1.0,1.0,0.0,1.0,1.0,0.0,1.0,0.0,0.0,1.0,0.0,0.0,1.0,0.0,0.0,0.0,1.0,1.0,0.0,0.0,1.0,0.0,1.0,1.0,0.0,1.0,1.0,1.0,0.0,0.0,1.0,1.0,0.0,0.0,1.0,0.0,0.0,1.0,1.0,1.0,0.0,0.0,0.0,0.0,0.0,0.0,1.0,1.0,1.0,0.0,0.0,0.0,0.0,0.0,1.0,1.0,1.0,1.0,1.0,0.0,0.0,1.0,1.0,1.0,1.0,1.0,0.0,1.0,0.0,0.0,1.0,0.0,0.0,0.0,1.0,0.0,1.0,1.0,0.0,1.0,1.0,1.0,1.0,1.0,1.0,0.0,0.0,0.0,0.0,1.0,0.0,0.0,1.0,0.0,1.0,1.0,0.0,0.0,1.0,0.0,0.0,0.0,0.0,0.0,0.0,0.0,1.0,0.0,1.0,0.0,1.0,0.0,0.0,0.0,1.0,1.0,0.0,1.0,1.0,0.0,1.0,0.0,0.0,1.0,1.0,0.0,1.0,1.0,0.0,0.0,0.0,0.0,1.0,0.0,0.0,1.0,0.0,1.0,1.0,0.0,0.0,1.0,0.0,0.0,0.0,1.0,0.0,1.0,0.0,0.0,1.0,1.0,0.0,0.0,1.0,0.0,0.0,0.0,1.0,0.0'"
      ]
     },
     "execution_count": 125,
     "metadata": {},
     "output_type": "execute_result"
    }
   ],
   "source": [
    "xgb_prediction"
   ]
  },
  {
   "cell_type": "code",
   "execution_count": 126,
   "metadata": {},
   "outputs": [],
   "source": [
    "#converting values in bytes form to array\n",
    "def bytes_2_array(x):\n",
    "    #makes entire prediction as string and split based on ','\n",
    "    l = str(x).split(',')\n",
    "    #removing unwanted characters (b, ',')\n",
    "    l[0] = l[0][2:]\n",
    "    \n",
    "    #removing (')\n",
    "    l[-1] = l[-1][:-1]\n",
    "    #itering through a list of a string and converting them into float type\n",
    "    for i in range(len(l)):\n",
    "        l[i] = float(l[i])\n",
    "    #conveting a list into an array\n",
    "    l = np.array(l).astype(\"float32\")\n",
    "    \n",
    "    #reshaping one-dimentional array into two-dimensional array\n",
    "    return l.reshape(-1,1)\n",
    "                          \n",
    "    "
   ]
  },
  {
   "cell_type": "code",
   "execution_count": 127,
   "metadata": {},
   "outputs": [],
   "source": [
    "predicted_values = bytes_2_array(xgb_prediction)"
   ]
  },
  {
   "cell_type": "code",
   "execution_count": 128,
   "metadata": {},
   "outputs": [
    {
     "data": {
      "text/plain": [
       "array([[0.],\n",
       "       [1.],\n",
       "       [0.],\n",
       "       ...,\n",
       "       [0.],\n",
       "       [1.],\n",
       "       [0.]], dtype=float32)"
      ]
     },
     "execution_count": 128,
     "metadata": {},
     "output_type": "execute_result"
    }
   ],
   "source": [
    "predicted_values"
   ]
  },
  {
   "cell_type": "code",
   "execution_count": 129,
   "metadata": {},
   "outputs": [],
   "source": [
    "y_test = np.array(y_test)\n",
    "y_test = y_test.reshape(-1,1)"
   ]
  },
  {
   "cell_type": "code",
   "execution_count": 130,
   "metadata": {},
   "outputs": [
    {
     "data": {
      "text/plain": [
       "array([[0],\n",
       "       [1],\n",
       "       [0],\n",
       "       ...,\n",
       "       [1],\n",
       "       [1],\n",
       "       [0]])"
      ]
     },
     "execution_count": 130,
     "metadata": {},
     "output_type": "execute_result"
    }
   ],
   "source": [
    "y_test"
   ]
  },
  {
   "cell_type": "code",
   "execution_count": 137,
   "metadata": {},
   "outputs": [
    {
     "name": "stdout",
     "output_type": "stream",
     "text": [
      "[[2242   18]\n",
      " [ 241 1515]]\n",
      "0.93550796812749\n",
      "              precision    recall  f1-score   support\n",
      "\n",
      "           0       0.90      0.99      0.95      2260\n",
      "           1       0.99      0.86      0.92      1756\n",
      "\n",
      "    accuracy                           0.94      4016\n",
      "   macro avg       0.95      0.93      0.93      4016\n",
      "weighted avg       0.94      0.94      0.93      4016\n",
      "\n"
     ]
    }
   ],
   "source": [
    "from sklearn.metrics import confusion_matrix,classification_report,accuracy_score\n",
    "\n",
    "print(confusion_matrix(y_test, predicted_values))\n",
    "print(accuracy_score(y_test, predicted_values))\n",
    "print(classification_report(y_test, predicted_values))"
   ]
  },
  {
   "cell_type": "code",
   "execution_count": 147,
   "metadata": {},
   "outputs": [
    {
     "data": {
      "text/plain": [
       "<Figure size 432x288 with 0 Axes>"
      ]
     },
     "execution_count": 147,
     "metadata": {},
     "output_type": "execute_result"
    },
    {
     "data": {
      "image/png": "[encoded data removed]",
      "text/plain": [
       "<Figure size 432x288 with 2 Axes>"
      ]
     },
     "metadata": {
      "needs_background": "light"
     },
     "output_type": "display_data"
    },
    {
     "data": {
      "text/plain": [
       "<Figure size 432x288 with 0 Axes>"
      ]
     },
     "metadata": {},
     "output_type": "display_data"
    }
   ],
   "source": [
    "from sklearn.metrics import confusion_matrix\n",
    "cm = confusion_matrix(y_test, predicted_values)\n",
    "sns.heatmap(cm, annot=True)\n",
    "plt.figure()                      "
   ]
  },
  {
   "cell_type": "code",
   "execution_count": null,
   "metadata": {},
   "outputs": [],
   "source": [
    "# predicting the test dataset dataframe using xgboost after hyperparameter tunning in aws sagemaker"
   ]
  },
  {
   "cell_type": "code",
   "execution_count": null,
   "metadata": {},
   "outputs": [],
   "source": [
    "# predicting the test dataframe using xgboost after hyperparameter tunning\n",
    "y_pred_data1 =  xgboost_classifier.predict(np.array(X_test_df))\n",
    "xgbest.predict(X_test_df)"
   ]
  },
  {
   "cell_type": "code",
   "execution_count": null,
   "metadata": {},
   "outputs": [],
   "source": [
    "y_pred_data"
   ]
  },
  {
   "cell_type": "code",
   "execution_count": null,
   "metadata": {},
   "outputs": [],
   "source": [
    "y_pred_df = pd.DataFrame(y_pred_data)\n",
    "y_pred_df.value_counts()"
   ]
  },
  {
   "cell_type": "code",
   "execution_count": null,
   "metadata": {},
   "outputs": [],
   "source": [
    "y_pred_final=pd.DataFrame(y_pred_df).rename(columns={0:\"Loan Status\"})\n",
    "y_pred_final.to_csv('my_submission.csv',index=False)"
   ]
  },
  {
   "cell_type": "code",
   "execution_count": null,
   "metadata": {},
   "outputs": [],
   "source": [
    "xgboost_classifier.delete_endpoint()"
   ]
  },
  {
   "cell_type": "code",
   "execution_count": null,
   "metadata": {},
   "outputs": [],
   "source": []
  }
 ],
 "metadata": {
  "instance_type": "ml.t3.medium",
  "kernelspec": {
   "display_name": "Python 3 (Data Science)",
   "language": "python",
   "name": "python3__SAGEMAKER_INTERNAL__arn:aws:sagemaker:us-east-2:429704687514:image/datascience-1.0"
  },
  "language_info": {
   "codemirror_mode": {
    "name": "ipython",
    "version": 3
   },
   "file_extension": ".py",
   "mimetype": "text/x-python",
   "name": "python",
   "nbconvert_exporter": "python",
   "pygments_lexer": "ipython3",
   "version": "3.7.10"
  }
 },
 "nbformat": 4,
 "nbformat_minor": 4
}
